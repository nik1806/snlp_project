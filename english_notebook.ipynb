{
 "cells": [
  {
   "cell_type": "code",
   "execution_count": 2,
   "source": [
    "# from utils import preprocess, train_test_split_data\n",
    "from importlib import reload\n",
    "import os\n",
    "import utils\n",
    "from pathlib import Path\n",
    "import matplotlib.pyplot as plt\n",
    "from collections import defaultdict\n",
    "utils = reload(utils)"
   ],
   "outputs": [],
   "metadata": {}
  },
  {
   "cell_type": "markdown",
   "source": [
    "## Task 1: Data preparation"
   ],
   "metadata": {}
  },
  {
   "cell_type": "code",
   "execution_count": null,
   "source": [
    "# import nltk, nltk.data\n",
    "\n",
    "# nltk.download('punkt')\n",
    "\n",
    "# tokenizer = nltk.data.load('tokenizers/punkt/english.pickle')\n",
    "# with open('data/alice_in_wonderland.txt') as f:\n",
    "#     text = f.read()\n",
    "#     print('\\n-----\\n'.join(tokenizer.tokenize(text)))"
   ],
   "outputs": [],
   "metadata": {}
  },
  {
   "cell_type": "code",
   "execution_count": null,
   "source": [
    "# sentencepiece package look for sentence hence linebreak needs to be preserved\n",
    "\n",
    "with open('data/alice_in_wonderland.txt') as f:\n",
    "    text = f.read()\n",
    "    prepro_text = utils.preprocess(text) # preprocessing text\n",
    "    train, test = utils.train_test_split_data(prepro_text, test_size=0.2) # split the data\n"
   ],
   "outputs": [],
   "metadata": {}
  },
  {
   "cell_type": "code",
   "execution_count": null,
   "source": [
    "# saving the splitted corpus\n",
    "with open('eng_text/train_eng.txt', 'w') as f:\n",
    "    # f.write(str(train))\n",
    "    f.write('\\n'.join(train))\n",
    "\n",
    "with open('eng_text/test_eng.txt', 'w') as f:\n",
    "    # f.write(str(test)) \n",
    "    f.write('\\n'.join(test))"
   ],
   "outputs": [],
   "metadata": {}
  },
  {
   "cell_type": "markdown",
   "source": [
    "### Comments/ideas\n",
    "* split is not randomized\n",
    "* more steps like lemmatization/stemming can be added in prepro\n",
    "* there is not much preprocessing needs to be done\n",
    "* may be some special characters/ punctuation can be removed"
   ],
   "metadata": {}
  },
  {
   "cell_type": "markdown",
   "source": [
    "## Task 2: Subword Segmentation"
   ],
   "metadata": {}
  },
  {
   "cell_type": "markdown",
   "source": [
    "### 1. Granularity: characters"
   ],
   "metadata": {}
  },
  {
   "cell_type": "code",
   "execution_count": 2,
   "source": [
    "# training model\n",
    "\n",
    "## CHANGE PATH TO SHIFT .model & .vocab in models/sentencepiece\n",
    "\n",
    "# total 72 different types of characters\n",
    "# coverage changes for non-english\n",
    "\n",
    "n_ch = 72\n",
    "\n",
    "!cd models/sentencepiece/ \\\n",
    "  &&spm_train \\\n",
    "  --input='../../eng_text/train_eng.txt' \\\n",
    "  --model_prefix=en_s1_train \\\n",
    "  --vocab_size=$n_ch \\\n",
    "  --character_coverage=1.0 \\\n",
    "  --model_type=bpe\n",
    " "
   ],
   "outputs": [
    {
     "output_type": "stream",
     "name": "stdout",
     "text": [
      "sentencepiece_trainer.cc(77) LOG(INFO) Starts training with : \n",
      "trainer_spec {\n",
      "  input: ../../eng_text/train_eng.txt\n",
      "  input_format: \n",
      "  model_prefix: en_s1_train\n",
      "  model_type: BPE\n",
      "  vocab_size: 72\n",
      "  self_test_sample_size: 0\n",
      "  character_coverage: 1\n",
      "  input_sentence_size: 0\n",
      "  shuffle_input_sentence: 1\n",
      "  seed_sentencepiece_size: 1000000\n",
      "  shrinking_factor: 0.75\n",
      "  max_sentence_length: 4192\n",
      "  num_threads: 16\n",
      "  num_sub_iterations: 2\n",
      "  max_sentencepiece_length: 16\n",
      "  split_by_unicode_script: 1\n",
      "  split_by_number: 1\n",
      "  split_by_whitespace: 1\n",
      "  split_digits: 0\n",
      "  treat_whitespace_as_suffix: 0\n",
      "  allow_whitespace_only_pieces: 0\n",
      "  required_chars: \n",
      "  byte_fallback: 0\n",
      "  vocabulary_output_piece_score: 1\n",
      "  train_extremely_large_corpus: 0\n",
      "  hard_vocab_limit: 1\n",
      "  use_all_vocab: 0\n",
      "  unk_id: 0\n",
      "  bos_id: 1\n",
      "  eos_id: 2\n",
      "  pad_id: -1\n",
      "  unk_piece: <unk>\n",
      "  bos_piece: <s>\n",
      "  eos_piece: </s>\n",
      "  pad_piece: <pad>\n",
      "  unk_surface:  ⁇ \n",
      "}\n",
      "normalizer_spec {\n",
      "  name: nmt_nfkc\n",
      "  add_dummy_prefix: 1\n",
      "  remove_extra_whitespaces: 1\n",
      "  escape_whitespaces: 1\n",
      "  normalization_rule_tsv: \n",
      "}\n",
      "denormalizer_spec {}\n",
      "trainer_interface.cc(329) LOG(INFO) SentenceIterator is not specified. Using MultiFileSentenceIterator.\n",
      "trainer_interface.cc(178) LOG(INFO) Loading corpus: ../../eng_text/train_eng.txt\n",
      "trainer_interface.cc(385) LOG(INFO) Loaded all 1292 sentences\n",
      "trainer_interface.cc(400) LOG(INFO) Adding meta_piece: <unk>\n",
      "trainer_interface.cc(400) LOG(INFO) Adding meta_piece: <s>\n",
      "trainer_interface.cc(400) LOG(INFO) Adding meta_piece: </s>\n",
      "trainer_interface.cc(405) LOG(INFO) Normalizing sentences...\n",
      "trainer_interface.cc(466) LOG(INFO) all chars count=114468\n",
      "trainer_interface.cc(487) LOG(INFO) Alphabet size=69\n",
      "trainer_interface.cc(488) LOG(INFO) Final character coverage=1\n",
      "trainer_interface.cc(520) LOG(INFO) Done! preprocessed 1292 sentences.\n",
      "trainer_interface.cc(526) LOG(INFO) Tokenizing input sentences with whitespace: 1292\n",
      "trainer_interface.cc(537) LOG(INFO) Done! 4521\n",
      "trainer_interface.cc(615) LOG(INFO) Saving model: en_s1_train.model\n",
      "trainer_interface.cc(626) LOG(INFO) Saving vocabs: en_s1_train.vocab\n"
     ]
    }
   ],
   "metadata": {}
  },
  {
   "cell_type": "code",
   "execution_count": 3,
   "source": [
    "# segment the text (original)\n",
    "!cd models/sentencepiece/ \\\n",
    "  &&spm_encode \\\n",
    "  --model=en_s1_train.model \\\n",
    "  --output_format=piece \\\n",
    "  < '../../eng_text/train_eng.txt' \\\n",
    "  > '../../eng_text/en_s1_train.txt'"
   ],
   "outputs": [],
   "metadata": {}
  },
  {
   "cell_type": "code",
   "execution_count": 4,
   "source": [
    "# training model - test set\n",
    "\n",
    "## CHANGE PATH TO SHIFT .model & .vocab in models/sentencepiece\n",
    "\n",
    "# total 72 different types of characters\n",
    "# coverage changes for non-english\n",
    "\n",
    "\n",
    "!cd models/sentencepiece/ \\\n",
    "  &&spm_train \\\n",
    "  --input='../../eng_text/test_eng.txt' \\\n",
    "  --model_prefix=en_s1_test \\\n",
    "  --vocab_size=$n_ch \\\n",
    "  --character_coverage=1.0 \\\n",
    "  --model_type=bpe\n",
    " "
   ],
   "outputs": [
    {
     "output_type": "stream",
     "name": "stdout",
     "text": [
      "sentencepiece_trainer.cc(77) LOG(INFO) Starts training with : \n",
      "trainer_spec {\n",
      "  input: ../../eng_text/test_eng.txt\n",
      "  input_format: \n",
      "  model_prefix: en_s1_test\n",
      "  model_type: BPE\n",
      "  vocab_size: 72\n",
      "  self_test_sample_size: 0\n",
      "  character_coverage: 1\n",
      "  input_sentence_size: 0\n",
      "  shuffle_input_sentence: 1\n",
      "  seed_sentencepiece_size: 1000000\n",
      "  shrinking_factor: 0.75\n",
      "  max_sentence_length: 4192\n",
      "  num_threads: 16\n",
      "  num_sub_iterations: 2\n",
      "  max_sentencepiece_length: 16\n",
      "  split_by_unicode_script: 1\n",
      "  split_by_number: 1\n",
      "  split_by_whitespace: 1\n",
      "  split_digits: 0\n",
      "  treat_whitespace_as_suffix: 0\n",
      "  allow_whitespace_only_pieces: 0\n",
      "  required_chars: \n",
      "  byte_fallback: 0\n",
      "  vocabulary_output_piece_score: 1\n",
      "  train_extremely_large_corpus: 0\n",
      "  hard_vocab_limit: 1\n",
      "  use_all_vocab: 0\n",
      "  unk_id: 0\n",
      "  bos_id: 1\n",
      "  eos_id: 2\n",
      "  pad_id: -1\n",
      "  unk_piece: <unk>\n",
      "  bos_piece: <s>\n",
      "  eos_piece: </s>\n",
      "  pad_piece: <pad>\n",
      "  unk_surface:  ⁇ \n",
      "}\n",
      "normalizer_spec {\n",
      "  name: nmt_nfkc\n",
      "  add_dummy_prefix: 1\n",
      "  remove_extra_whitespaces: 1\n",
      "  escape_whitespaces: 1\n",
      "  normalization_rule_tsv: \n",
      "}\n",
      "denormalizer_spec {}\n",
      "trainer_interface.cc(329) LOG(INFO) SentenceIterator is not specified. Using MultiFileSentenceIterator.\n",
      "trainer_interface.cc(178) LOG(INFO) Loading corpus: ../../eng_text/test_eng.txt\n",
      "trainer_interface.cc(385) LOG(INFO) Loaded all 324 sentences\n",
      "trainer_interface.cc(400) LOG(INFO) Adding meta_piece: <unk>\n",
      "trainer_interface.cc(400) LOG(INFO) Adding meta_piece: <s>\n",
      "trainer_interface.cc(400) LOG(INFO) Adding meta_piece: </s>\n",
      "trainer_interface.cc(405) LOG(INFO) Normalizing sentences...\n",
      "trainer_interface.cc(466) LOG(INFO) all chars count=28059\n",
      "trainer_interface.cc(487) LOG(INFO) Alphabet size=67\n",
      "trainer_interface.cc(488) LOG(INFO) Final character coverage=1\n",
      "trainer_interface.cc(520) LOG(INFO) Done! preprocessed 324 sentences.\n",
      "trainer_interface.cc(526) LOG(INFO) Tokenizing input sentences with whitespace: 324\n",
      "trainer_interface.cc(537) LOG(INFO) Done! 1709\n",
      "bpe_model_trainer.cc(167) LOG(INFO) Updating active symbols. max_freq=841 min_freq=1\n",
      "trainer_interface.cc(615) LOG(INFO) Saving model: en_s1_test.model\n",
      "trainer_interface.cc(626) LOG(INFO) Saving vocabs: en_s1_test.vocab\n"
     ]
    }
   ],
   "metadata": {}
  },
  {
   "cell_type": "code",
   "execution_count": 5,
   "source": [
    "# segment the text (original) - test set\n",
    "\n",
    "!cd models/sentencepiece/ \\\n",
    "  &&spm_encode \\\n",
    "  --model=en_s1_test.model \\\n",
    "  --output_format=piece \\\n",
    "  < '../../eng_text/test_eng.txt' \\\n",
    "  > '../../eng_text/en_s1_test.txt'"
   ],
   "outputs": [],
   "metadata": {}
  },
  {
   "cell_type": "markdown",
   "source": [
    "### 2. Granularity: subword units (smaller vocabulary)"
   ],
   "metadata": {}
  },
  {
   "cell_type": "code",
   "execution_count": 6,
   "source": [
    "# training model\n",
    "\n",
    "# coverage changes for non-english\n",
    "# fine-tune vocab_size in range of 100-800 for best performance\n",
    "\n",
    "small_vocab = 450\n",
    "\n",
    "!cd models/sentencepiece/ \\\n",
    "  &&spm_train \\\n",
    "  --input='../../eng_text/train_eng.txt' \\\n",
    "  --model_prefix=en_s2_train \\\n",
    "  --vocab_size=$small_vocab \\\n",
    "  --character_coverage=1.0 \\\n",
    "  --model_type=bpe\n",
    " "
   ],
   "outputs": [
    {
     "output_type": "stream",
     "name": "stdout",
     "text": [
      "sentencepiece_trainer.cc(77) LOG(INFO) Starts training with : \n",
      "trainer_spec {\n",
      "  input: ../../eng_text/train_eng.txt\n",
      "  input_format: \n",
      "  model_prefix: en_s2_train\n",
      "  model_type: BPE\n",
      "  vocab_size: 450\n",
      "  self_test_sample_size: 0\n",
      "  character_coverage: 1\n",
      "  input_sentence_size: 0\n",
      "  shuffle_input_sentence: 1\n",
      "  seed_sentencepiece_size: 1000000\n",
      "  shrinking_factor: 0.75\n",
      "  max_sentence_length: 4192\n",
      "  num_threads: 16\n",
      "  num_sub_iterations: 2\n",
      "  max_sentencepiece_length: 16\n",
      "  split_by_unicode_script: 1\n",
      "  split_by_number: 1\n",
      "  split_by_whitespace: 1\n",
      "  split_digits: 0\n",
      "  treat_whitespace_as_suffix: 0\n",
      "  allow_whitespace_only_pieces: 0\n",
      "  required_chars: \n",
      "  byte_fallback: 0\n",
      "  vocabulary_output_piece_score: 1\n",
      "  train_extremely_large_corpus: 0\n",
      "  hard_vocab_limit: 1\n",
      "  use_all_vocab: 0\n",
      "  unk_id: 0\n",
      "  bos_id: 1\n",
      "  eos_id: 2\n",
      "  pad_id: -1\n",
      "  unk_piece: <unk>\n",
      "  bos_piece: <s>\n",
      "  eos_piece: </s>\n",
      "  pad_piece: <pad>\n",
      "  unk_surface:  ⁇ \n",
      "}\n",
      "normalizer_spec {\n",
      "  name: nmt_nfkc\n",
      "  add_dummy_prefix: 1\n",
      "  remove_extra_whitespaces: 1\n",
      "  escape_whitespaces: 1\n",
      "  normalization_rule_tsv: \n",
      "}\n",
      "denormalizer_spec {}\n",
      "trainer_interface.cc(329) LOG(INFO) SentenceIterator is not specified. Using MultiFileSentenceIterator.\n",
      "trainer_interface.cc(178) LOG(INFO) Loading corpus: ../../eng_text/train_eng.txt\n",
      "trainer_interface.cc(385) LOG(INFO) Loaded all 1292 sentences\n",
      "trainer_interface.cc(400) LOG(INFO) Adding meta_piece: <unk>\n",
      "trainer_interface.cc(400) LOG(INFO) Adding meta_piece: <s>\n",
      "trainer_interface.cc(400) LOG(INFO) Adding meta_piece: </s>\n",
      "trainer_interface.cc(405) LOG(INFO) Normalizing sentences...\n",
      "trainer_interface.cc(466) LOG(INFO) all chars count=114468\n",
      "trainer_interface.cc(487) LOG(INFO) Alphabet size=69\n",
      "trainer_interface.cc(488) LOG(INFO) Final character coverage=1\n",
      "trainer_interface.cc(520) LOG(INFO) Done! preprocessed 1292 sentences.\n",
      "trainer_interface.cc(526) LOG(INFO) Tokenizing input sentences with whitespace: 1292\n",
      "trainer_interface.cc(537) LOG(INFO) Done! 4521\n",
      "bpe_model_trainer.cc(167) LOG(INFO) Updating active symbols. max_freq=3172 min_freq=1\n",
      "bpe_model_trainer.cc(258) LOG(INFO) Added: freq=619 size=20 all=1257 active=1188 piece=▁c\n",
      "bpe_model_trainer.cc(258) LOG(INFO) Added: freq=421 size=40 all=1590 active=1521 piece=ar\n",
      "bpe_model_trainer.cc(258) LOG(INFO) Added: freq=318 size=60 all=1909 active=1840 piece=▁was\n",
      "bpe_model_trainer.cc(258) LOG(INFO) Added: freq=213 size=80 all=2165 active=2096 piece=▁T\n",
      "bpe_model_trainer.cc(258) LOG(INFO) Added: freq=153 size=100 all=2458 active=2389 piece=▁an\n",
      "bpe_model_trainer.cc(167) LOG(INFO) Updating active symbols. max_freq=150 min_freq=7\n",
      "bpe_model_trainer.cc(258) LOG(INFO) Added: freq=116 size=120 all=2631 active=1166 piece=▁D\n",
      "bpe_model_trainer.cc(258) LOG(INFO) Added: freq=98 size=140 all=2821 active=1356 piece=ge\n",
      "bpe_model_trainer.cc(258) LOG(INFO) Added: freq=85 size=160 all=3030 active=1565 piece=▁ag\n",
      "bpe_model_trainer.cc(258) LOG(INFO) Added: freq=76 size=180 all=3165 active=1700 piece=een\n",
      "bpe_model_trainer.cc(258) LOG(INFO) Added: freq=66 size=200 all=3228 active=1763 piece=▁then\n",
      "bpe_model_trainer.cc(167) LOG(INFO) Updating active symbols. max_freq=65 min_freq=7\n",
      "bpe_model_trainer.cc(258) LOG(INFO) Added: freq=59 size=220 all=3356 active=1129 piece=▁into\n",
      "bpe_model_trainer.cc(258) LOG(INFO) Added: freq=52 size=240 all=3447 active=1220 piece=▁its\n",
      "bpe_model_trainer.cc(258) LOG(INFO) Added: freq=47 size=260 all=3572 active=1345 piece=▁your\n",
      "bpe_model_trainer.cc(258) LOG(INFO) Added: freq=42 size=280 all=3693 active=1466 piece=▁(\n",
      "bpe_model_trainer.cc(258) LOG(INFO) Added: freq=39 size=300 all=3782 active=1555 piece=▁how\n",
      "bpe_model_trainer.cc(167) LOG(INFO) Updating active symbols. max_freq=39 min_freq=6\n",
      "bpe_model_trainer.cc(258) LOG(INFO) Added: freq=36 size=320 all=3865 active=1081 piece=▁such\n",
      "bpe_model_trainer.cc(258) LOG(INFO) Added: freq=34 size=340 all=3931 active=1147 piece=phon\n",
      "bpe_model_trainer.cc(258) LOG(INFO) Added: freq=32 size=360 all=3975 active=1191 piece=ever\n",
      "trainer_interface.cc(615) LOG(INFO) Saving model: en_s2_train.model\n",
      "trainer_interface.cc(626) LOG(INFO) Saving vocabs: en_s2_train.vocab\n"
     ]
    }
   ],
   "metadata": {}
  },
  {
   "cell_type": "code",
   "execution_count": 7,
   "source": [
    "# segment the text (original) -train\n",
    "!cd models/sentencepiece/ \\\n",
    "  &&spm_encode \\\n",
    "  --model=en_s2_train.model \\\n",
    "  --output_format=piece \\\n",
    "  < '../../eng_text/train_eng.txt' \\\n",
    "  > '../../eng_text/en_s2_train.txt'"
   ],
   "outputs": [],
   "metadata": {}
  },
  {
   "cell_type": "code",
   "execution_count": 8,
   "source": [
    "# training model - test set\n",
    "\n",
    "# coverage changes for non-english\n",
    "# fine-tune vocab_size in range of 100-800 for best performance\n",
    "\n",
    "!cd models/sentencepiece/ \\\n",
    "  &&spm_train \\\n",
    "  --input='../../eng_text/test_eng.txt' \\\n",
    "  --model_prefix=en_s2_test \\\n",
    "  --vocab_size=$small_vocab \\\n",
    "  --character_coverage=1.0 \\\n",
    "  --model_type=bpe\n",
    " "
   ],
   "outputs": [
    {
     "output_type": "stream",
     "name": "stdout",
     "text": [
      "sentencepiece_trainer.cc(77) LOG(INFO) Starts training with : \n",
      "trainer_spec {\n",
      "  input: ../../eng_text/test_eng.txt\n",
      "  input_format: \n",
      "  model_prefix: en_s2_test\n",
      "  model_type: BPE\n",
      "  vocab_size: 450\n",
      "  self_test_sample_size: 0\n",
      "  character_coverage: 1\n",
      "  input_sentence_size: 0\n",
      "  shuffle_input_sentence: 1\n",
      "  seed_sentencepiece_size: 1000000\n",
      "  shrinking_factor: 0.75\n",
      "  max_sentence_length: 4192\n",
      "  num_threads: 16\n",
      "  num_sub_iterations: 2\n",
      "  max_sentencepiece_length: 16\n",
      "  split_by_unicode_script: 1\n",
      "  split_by_number: 1\n",
      "  split_by_whitespace: 1\n",
      "  split_digits: 0\n",
      "  treat_whitespace_as_suffix: 0\n",
      "  allow_whitespace_only_pieces: 0\n",
      "  required_chars: \n",
      "  byte_fallback: 0\n",
      "  vocabulary_output_piece_score: 1\n",
      "  train_extremely_large_corpus: 0\n",
      "  hard_vocab_limit: 1\n",
      "  use_all_vocab: 0\n",
      "  unk_id: 0\n",
      "  bos_id: 1\n",
      "  eos_id: 2\n",
      "  pad_id: -1\n",
      "  unk_piece: <unk>\n",
      "  bos_piece: <s>\n",
      "  eos_piece: </s>\n",
      "  pad_piece: <pad>\n",
      "  unk_surface:  ⁇ \n",
      "}\n",
      "normalizer_spec {\n",
      "  name: nmt_nfkc\n",
      "  add_dummy_prefix: 1\n",
      "  remove_extra_whitespaces: 1\n",
      "  escape_whitespaces: 1\n",
      "  normalization_rule_tsv: \n",
      "}\n",
      "denormalizer_spec {}\n",
      "trainer_interface.cc(329) LOG(INFO) SentenceIterator is not specified. Using MultiFileSentenceIterator.\n",
      "trainer_interface.cc(178) LOG(INFO) Loading corpus: ../../eng_text/test_eng.txt\n",
      "trainer_interface.cc(385) LOG(INFO) Loaded all 324 sentences\n",
      "trainer_interface.cc(400) LOG(INFO) Adding meta_piece: <unk>\n",
      "trainer_interface.cc(400) LOG(INFO) Adding meta_piece: <s>\n",
      "trainer_interface.cc(400) LOG(INFO) Adding meta_piece: </s>\n",
      "trainer_interface.cc(405) LOG(INFO) Normalizing sentences...\n",
      "trainer_interface.cc(466) LOG(INFO) all chars count=28059\n",
      "trainer_interface.cc(487) LOG(INFO) Alphabet size=67\n",
      "trainer_interface.cc(488) LOG(INFO) Final character coverage=1\n",
      "trainer_interface.cc(520) LOG(INFO) Done! preprocessed 324 sentences.\n",
      "trainer_interface.cc(526) LOG(INFO) Tokenizing input sentences with whitespace: 324\n",
      "trainer_interface.cc(537) LOG(INFO) Done! 1709\n",
      "bpe_model_trainer.cc(167) LOG(INFO) Updating active symbols. max_freq=841 min_freq=1\n",
      "bpe_model_trainer.cc(258) LOG(INFO) Added: freq=147 size=20 all=1021 active=954 piece=▁of\n",
      "bpe_model_trainer.cc(258) LOG(INFO) Added: freq=92 size=40 all=1271 active=1204 piece=▁ha\n",
      "bpe_model_trainer.cc(258) LOG(INFO) Added: freq=70 size=60 all=1495 active=1428 piece=▁she\n",
      "bpe_model_trainer.cc(258) LOG(INFO) Added: freq=54 size=80 all=1669 active=1602 piece=▁Alice\n",
      "bpe_model_trainer.cc(258) LOG(INFO) Added: freq=38 size=100 all=1796 active=1729 piece=gh\n",
      "bpe_model_trainer.cc(167) LOG(INFO) Updating active symbols. max_freq=38 min_freq=2\n",
      "bpe_model_trainer.cc(258) LOG(INFO) Added: freq=32 size=120 all=1958 active=1157 piece=▁wh\n",
      "bpe_model_trainer.cc(258) LOG(INFO) Added: freq=25 size=140 all=2050 active=1249 piece=and\n",
      "bpe_model_trainer.cc(258) LOG(INFO) Added: freq=22 size=160 all=2131 active=1330 piece=▁look\n",
      "bpe_model_trainer.cc(258) LOG(INFO) Added: freq=19 size=180 all=2179 active=1378 piece=▁Queen\n",
      "bpe_model_trainer.cc(258) LOG(INFO) Added: freq=17 size=200 all=2238 active=1437 piece=imp\n",
      "bpe_model_trainer.cc(167) LOG(INFO) Updating active symbols. max_freq=17 min_freq=2\n",
      "bpe_model_trainer.cc(258) LOG(INFO) Added: freq=16 size=220 all=2276 active=1030 piece=▁their\n",
      "bpe_model_trainer.cc(258) LOG(INFO) Added: freq=14 size=240 all=2341 active=1095 piece=ouse\n",
      "bpe_model_trainer.cc(258) LOG(INFO) Added: freq=13 size=260 all=2397 active=1151 piece=ting\n",
      "bpe_model_trainer.cc(258) LOG(INFO) Added: freq=12 size=280 all=2456 active=1210 piece=ning\n",
      "bpe_model_trainer.cc(258) LOG(INFO) Added: freq=11 size=300 all=2536 active=1290 piece=oup\n",
      "bpe_model_trainer.cc(167) LOG(INFO) Updating active symbols. max_freq=11 min_freq=2\n",
      "bpe_model_trainer.cc(258) LOG(INFO) Added: freq=10 size=320 all=2564 active=1028 piece=▁O\n",
      "bpe_model_trainer.cc(258) LOG(INFO) Added: freq=10 size=340 all=2604 active=1068 piece=▁witness\n",
      "bpe_model_trainer.cc(258) LOG(INFO) Added: freq=9 size=360 all=2635 active=1099 piece=right\n",
      "bpe_model_trainer.cc(258) LOG(INFO) Added: freq=8 size=380 all=2654 active=1118 piece=▁gu\n",
      "trainer_interface.cc(615) LOG(INFO) Saving model: en_s2_test.model\n",
      "trainer_interface.cc(626) LOG(INFO) Saving vocabs: en_s2_test.vocab\n"
     ]
    }
   ],
   "metadata": {}
  },
  {
   "cell_type": "code",
   "execution_count": 9,
   "source": [
    "# segment the text (original)\n",
    "!cd models/sentencepiece/ \\\n",
    "  &&spm_encode \\\n",
    "  --model=en_s2_test.model \\\n",
    "  --output_format=piece \\\n",
    "  < '../../eng_text/test_eng.txt' \\\n",
    "  > '../../eng_text/en_s2_test.txt'"
   ],
   "outputs": [],
   "metadata": {}
  },
  {
   "cell_type": "markdown",
   "source": [
    "### 3. Granularity: subword units (larger vocabulary)"
   ],
   "metadata": {}
  },
  {
   "cell_type": "code",
   "execution_count": 10,
   "source": [
    "# training model\n",
    "\n",
    "# coverage changes for non-english\n",
    "# fine-tune vocab_size in range of 1500-3000 for best performance\n",
    "# training model\n",
    "\n",
    "# coverage changes for non-english\n",
    "# fine-tune vocab_size in range of 100-800 for best performance\n",
    "\n",
    "large_vocab = 2000\n",
    "\n",
    "!cd models/sentencepiece/ \\\n",
    "  &&spm_train \\\n",
    "  --input='../../eng_text/train_eng.txt' \\\n",
    "  --model_prefix=en_s3_train \\\n",
    "  --vocab_size=$large_vocab \\\n",
    "  --character_coverage=1.0 \\\n",
    "  --model_type=bpe\n",
    " "
   ],
   "outputs": [
    {
     "output_type": "stream",
     "name": "stdout",
     "text": [
      "sentencepiece_trainer.cc(77) LOG(INFO) Starts training with : \n",
      "trainer_spec {\n",
      "  input: ../../eng_text/train_eng.txt\n",
      "  input_format: \n",
      "  model_prefix: en_s3_train\n",
      "  model_type: BPE\n",
      "  vocab_size: 2000\n",
      "  self_test_sample_size: 0\n",
      "  character_coverage: 1\n",
      "  input_sentence_size: 0\n",
      "  shuffle_input_sentence: 1\n",
      "  seed_sentencepiece_size: 1000000\n",
      "  shrinking_factor: 0.75\n",
      "  max_sentence_length: 4192\n",
      "  num_threads: 16\n",
      "  num_sub_iterations: 2\n",
      "  max_sentencepiece_length: 16\n",
      "  split_by_unicode_script: 1\n",
      "  split_by_number: 1\n",
      "  split_by_whitespace: 1\n",
      "  split_digits: 0\n",
      "  treat_whitespace_as_suffix: 0\n",
      "  allow_whitespace_only_pieces: 0\n",
      "  required_chars: \n",
      "  byte_fallback: 0\n",
      "  vocabulary_output_piece_score: 1\n",
      "  train_extremely_large_corpus: 0\n",
      "  hard_vocab_limit: 1\n",
      "  use_all_vocab: 0\n",
      "  unk_id: 0\n",
      "  bos_id: 1\n",
      "  eos_id: 2\n",
      "  pad_id: -1\n",
      "  unk_piece: <unk>\n",
      "  bos_piece: <s>\n",
      "  eos_piece: </s>\n",
      "  pad_piece: <pad>\n",
      "  unk_surface:  ⁇ \n",
      "}\n",
      "normalizer_spec {\n",
      "  name: nmt_nfkc\n",
      "  add_dummy_prefix: 1\n",
      "  remove_extra_whitespaces: 1\n",
      "  escape_whitespaces: 1\n",
      "  normalization_rule_tsv: \n",
      "}\n",
      "denormalizer_spec {}\n",
      "trainer_interface.cc(329) LOG(INFO) SentenceIterator is not specified. Using MultiFileSentenceIterator.\n",
      "trainer_interface.cc(178) LOG(INFO) Loading corpus: ../../eng_text/train_eng.txt\n",
      "trainer_interface.cc(385) LOG(INFO) Loaded all 1292 sentences\n",
      "trainer_interface.cc(400) LOG(INFO) Adding meta_piece: <unk>\n",
      "trainer_interface.cc(400) LOG(INFO) Adding meta_piece: <s>\n",
      "trainer_interface.cc(400) LOG(INFO) Adding meta_piece: </s>\n",
      "trainer_interface.cc(405) LOG(INFO) Normalizing sentences...\n",
      "trainer_interface.cc(466) LOG(INFO) all chars count=114468\n",
      "trainer_interface.cc(487) LOG(INFO) Alphabet size=69\n",
      "trainer_interface.cc(488) LOG(INFO) Final character coverage=1\n",
      "trainer_interface.cc(520) LOG(INFO) Done! preprocessed 1292 sentences.\n",
      "trainer_interface.cc(526) LOG(INFO) Tokenizing input sentences with whitespace: 1292\n",
      "trainer_interface.cc(537) LOG(INFO) Done! 4521\n",
      "bpe_model_trainer.cc(167) LOG(INFO) Updating active symbols. max_freq=3172 min_freq=1\n",
      "bpe_model_trainer.cc(258) LOG(INFO) Added: freq=619 size=20 all=1257 active=1188 piece=▁c\n",
      "bpe_model_trainer.cc(258) LOG(INFO) Added: freq=421 size=40 all=1590 active=1521 piece=ar\n",
      "bpe_model_trainer.cc(258) LOG(INFO) Added: freq=318 size=60 all=1909 active=1840 piece=▁was\n",
      "bpe_model_trainer.cc(258) LOG(INFO) Added: freq=213 size=80 all=2165 active=2096 piece=▁T\n",
      "bpe_model_trainer.cc(258) LOG(INFO) Added: freq=153 size=100 all=2458 active=2389 piece=▁an\n",
      "bpe_model_trainer.cc(167) LOG(INFO) Updating active symbols. max_freq=150 min_freq=7\n",
      "bpe_model_trainer.cc(258) LOG(INFO) Added: freq=116 size=120 all=2631 active=1166 piece=▁D\n",
      "bpe_model_trainer.cc(258) LOG(INFO) Added: freq=98 size=140 all=2821 active=1356 piece=ge\n",
      "bpe_model_trainer.cc(258) LOG(INFO) Added: freq=85 size=160 all=3030 active=1565 piece=▁ag\n",
      "bpe_model_trainer.cc(258) LOG(INFO) Added: freq=76 size=180 all=3165 active=1700 piece=een\n",
      "bpe_model_trainer.cc(258) LOG(INFO) Added: freq=66 size=200 all=3228 active=1763 piece=▁then\n",
      "bpe_model_trainer.cc(167) LOG(INFO) Updating active symbols. max_freq=65 min_freq=7\n",
      "bpe_model_trainer.cc(258) LOG(INFO) Added: freq=59 size=220 all=3356 active=1129 piece=▁into\n",
      "bpe_model_trainer.cc(258) LOG(INFO) Added: freq=52 size=240 all=3447 active=1220 piece=▁its\n",
      "bpe_model_trainer.cc(258) LOG(INFO) Added: freq=47 size=260 all=3572 active=1345 piece=▁your\n",
      "bpe_model_trainer.cc(258) LOG(INFO) Added: freq=42 size=280 all=3693 active=1466 piece=▁(\n",
      "bpe_model_trainer.cc(258) LOG(INFO) Added: freq=39 size=300 all=3782 active=1555 piece=▁how\n",
      "bpe_model_trainer.cc(167) LOG(INFO) Updating active symbols. max_freq=39 min_freq=6\n",
      "bpe_model_trainer.cc(258) LOG(INFO) Added: freq=36 size=320 all=3865 active=1081 piece=▁such\n",
      "bpe_model_trainer.cc(258) LOG(INFO) Added: freq=34 size=340 all=3931 active=1147 piece=phon\n",
      "bpe_model_trainer.cc(258) LOG(INFO) Added: freq=32 size=360 all=3975 active=1191 piece=ever\n",
      "bpe_model_trainer.cc(258) LOG(INFO) Added: freq=30 size=380 all=4103 active=1319 piece=▁cat\n",
      "bpe_model_trainer.cc(258) LOG(INFO) Added: freq=28 size=400 all=4211 active=1427 piece=▁ey\n",
      "bpe_model_trainer.cc(167) LOG(INFO) Updating active symbols. max_freq=28 min_freq=6\n",
      "bpe_model_trainer.cc(258) LOG(INFO) Added: freq=27 size=420 all=4239 active=1027 piece=▁March\n",
      "bpe_model_trainer.cc(258) LOG(INFO) Added: freq=25 size=440 all=4290 active=1078 piece=▁won\n",
      "bpe_model_trainer.cc(258) LOG(INFO) Added: freq=24 size=460 all=4353 active=1141 piece=▁every\n",
      "bpe_model_trainer.cc(258) LOG(INFO) Added: freq=22 size=480 all=4393 active=1181 piece=ild\n",
      "bpe_model_trainer.cc(258) LOG(INFO) Added: freq=21 size=500 all=4426 active=1214 piece=de\n",
      "bpe_model_trainer.cc(167) LOG(INFO) Updating active symbols. max_freq=21 min_freq=5\n",
      "bpe_model_trainer.cc(258) LOG(INFO) Added: freq=21 size=520 all=4492 active=1063 piece=▁upon\n",
      "bpe_model_trainer.cc(258) LOG(INFO) Added: freq=20 size=540 all=4526 active=1097 piece=▁rather\n",
      "bpe_model_trainer.cc(258) LOG(INFO) Added: freq=18 size=560 all=4564 active=1135 piece=▁Y\n",
      "bpe_model_trainer.cc(258) LOG(INFO) Added: freq=17 size=580 all=4596 active=1167 piece=▁V\n",
      "bpe_model_trainer.cc(258) LOG(INFO) Added: freq=16 size=600 all=4646 active=1217 piece=ity\n",
      "bpe_model_trainer.cc(167) LOG(INFO) Updating active symbols. max_freq=16 min_freq=4\n",
      "bpe_model_trainer.cc(258) LOG(INFO) Added: freq=16 size=620 all=4692 active=1042 piece=▁something\n",
      "bpe_model_trainer.cc(258) LOG(INFO) Added: freq=15 size=640 all=4760 active=1110 piece=▁mean\n",
      "bpe_model_trainer.cc(258) LOG(INFO) Added: freq=14 size=660 all=4815 active=1165 piece=▁TH\n",
      "bpe_model_trainer.cc(258) LOG(INFO) Added: freq=14 size=680 all=4830 active=1180 piece=ertain\n",
      "bpe_model_trainer.cc(258) LOG(INFO) Added: freq=13 size=700 all=4858 active=1208 piece=odo\n",
      "bpe_model_trainer.cc(167) LOG(INFO) Updating active symbols. max_freq=13 min_freq=4\n",
      "bpe_model_trainer.cc(258) LOG(INFO) Added: freq=13 size=720 all=4874 active=1016 piece=▁both\n",
      "bpe_model_trainer.cc(258) LOG(INFO) Added: freq=12 size=740 all=4884 active=1026 piece=ige\n",
      "bpe_model_trainer.cc(258) LOG(INFO) Added: freq=12 size=760 all=4915 active=1057 piece=▁baby\n",
      "bpe_model_trainer.cc(258) LOG(INFO) Added: freq=11 size=780 all=4921 active=1063 piece=dv\n",
      "bpe_model_trainer.cc(258) LOG(INFO) Added: freq=11 size=800 all=4988 active=1130 piece=owed\n",
      "bpe_model_trainer.cc(167) LOG(INFO) Updating active symbols. max_freq=11 min_freq=4\n",
      "bpe_model_trainer.cc(258) LOG(INFO) Added: freq=11 size=820 all=5010 active=1020 piece=▁mouth\n",
      "bpe_model_trainer.cc(258) LOG(INFO) Added: freq=10 size=840 all=5001 active=1011 piece=you\n",
      "bpe_model_trainer.cc(258) LOG(INFO) Added: freq=10 size=860 all=5030 active=1040 piece=▁cont\n",
      "bpe_model_trainer.cc(258) LOG(INFO) Added: freq=10 size=880 all=5036 active=1046 piece=▁bottle\n",
      "bpe_model_trainer.cc(258) LOG(INFO) Added: freq=9 size=900 all=5050 active=1060 piece=eer\n",
      "bpe_model_trainer.cc(167) LOG(INFO) Updating active symbols. max_freq=9 min_freq=3\n",
      "bpe_model_trainer.cc(258) LOG(INFO) Added: freq=9 size=920 all=5089 active=1039 piece=▁key\n",
      "bpe_model_trainer.cc(258) LOG(INFO) Added: freq=9 size=940 all=5093 active=1043 piece=▁least\n",
      "bpe_model_trainer.cc(258) LOG(INFO) Added: freq=9 size=960 all=5085 active=1035 piece=▁serpent\n",
      "bpe_model_trainer.cc(258) LOG(INFO) Added: freq=8 size=980 all=5099 active=1049 piece=Who\n",
      "bpe_model_trainer.cc(258) LOG(INFO) Added: freq=8 size=1000 all=5156 active=1106 piece=▁che\n",
      "bpe_model_trainer.cc(167) LOG(INFO) Updating active symbols. max_freq=8 min_freq=3\n",
      "bpe_model_trainer.cc(258) LOG(INFO) Added: freq=8 size=1020 all=5175 active=1014 piece=▁foll\n",
      "bpe_model_trainer.cc(258) LOG(INFO) Added: freq=8 size=1040 all=5169 active=1008 piece=▁forgot\n",
      "bpe_model_trainer.cc(258) LOG(INFO) Added: freq=8 size=1060 all=5154 active=993 piece=▁direction\n",
      "bpe_model_trainer.cc(258) LOG(INFO) Added: freq=7 size=1080 all=5203 active=1042 piece=iol\n",
      "bpe_model_trainer.cc(258) LOG(INFO) Added: freq=7 size=1100 all=5258 active=1097 piece=ssed\n",
      "bpe_model_trainer.cc(167) LOG(INFO) Updating active symbols. max_freq=7 min_freq=3\n",
      "bpe_model_trainer.cc(258) LOG(INFO) Added: freq=7 size=1120 all=5270 active=1009 piece=▁dist\n",
      "bpe_model_trainer.cc(258) LOG(INFO) Added: freq=7 size=1140 all=5270 active=1009 piece=▁puppy\n",
      "bpe_model_trainer.cc(258) LOG(INFO) Added: freq=7 size=1160 all=5259 active=998 piece=▁though\n",
      "bpe_model_trainer.cc(258) LOG(INFO) Added: freq=6 size=1180 all=5258 active=997 piece=▁'\n",
      "bpe_model_trainer.cc(258) LOG(INFO) Added: freq=6 size=1200 all=5299 active=1038 piece=▁oh\n",
      "bpe_model_trainer.cc(167) LOG(INFO) Updating active symbols. max_freq=6 min_freq=2\n",
      "bpe_model_trainer.cc(258) LOG(INFO) Added: freq=6 size=1220 all=5323 active=1025 piece=time\n",
      "bpe_model_trainer.cc(258) LOG(INFO) Added: freq=6 size=1240 all=5344 active=1046 piece=ather\n",
      "bpe_model_trainer.cc(258) LOG(INFO) Added: freq=6 size=1260 all=5349 active=1051 piece=▁scre\n",
      "bpe_model_trainer.cc(258) LOG(INFO) Added: freq=6 size=1280 all=5347 active=1049 piece=▁inches\n",
      "bpe_model_trainer.cc(258) LOG(INFO) Added: freq=6 size=1300 all=5332 active=1034 piece=▁distance\n",
      "bpe_model_trainer.cc(167) LOG(INFO) Updating active symbols. max_freq=6 min_freq=2\n",
      "bpe_model_trainer.cc(258) LOG(INFO) Added: freq=5 size=1320 all=5345 active=1014 piece=wh\n",
      "bpe_model_trainer.cc(258) LOG(INFO) Added: freq=5 size=1340 all=5381 active=1050 piece=▁On\n",
      "bpe_model_trainer.cc(258) LOG(INFO) Added: freq=5 size=1360 all=5395 active=1064 piece=▁inv\n",
      "bpe_model_trainer.cc(258) LOG(INFO) Added: freq=5 size=1380 all=5402 active=1071 piece=rying\n",
      "bpe_model_trainer.cc(258) LOG(INFO) Added: freq=5 size=1400 all=5397 active=1066 piece=▁love\n",
      "bpe_model_trainer.cc(167) LOG(INFO) Updating active symbols. max_freq=5 min_freq=2\n",
      "bpe_model_trainer.cc(258) LOG(INFO) Added: freq=5 size=1420 all=5395 active=997 piece=▁knock\n",
      "bpe_model_trainer.cc(258) LOG(INFO) Added: freq=5 size=1440 all=5386 active=988 piece=▁nearer\n",
      "bpe_model_trainer.cc(258) LOG(INFO) Added: freq=5 size=1460 all=5376 active=978 piece=▁twinkle\n",
      "bpe_model_trainer.cc(258) LOG(INFO) Added: freq=4 size=1480 all=5365 active=967 piece=He\n",
      "bpe_model_trainer.cc(258) LOG(INFO) Added: freq=4 size=1500 all=5402 active=1004 piece=She\n",
      "bpe_model_trainer.cc(167) LOG(INFO) Updating active symbols. max_freq=4 min_freq=2\n",
      "bpe_model_trainer.cc(258) LOG(INFO) Added: freq=4 size=1520 all=5434 active=1033 piece=tom\n",
      "bpe_model_trainer.cc(258) LOG(INFO) Added: freq=4 size=1540 all=5455 active=1054 piece=hand\n",
      "bpe_model_trainer.cc(258) LOG(INFO) Added: freq=4 size=1560 all=5471 active=1070 piece=▁ARE\n",
      "bpe_model_trainer.cc(258) LOG(INFO) Added: freq=4 size=1580 all=5478 active=1077 piece=▁sig\n",
      "bpe_model_trainer.cc(258) LOG(INFO) Added: freq=4 size=1600 all=5491 active=1090 piece=times\n",
      "bpe_model_trainer.cc(167) LOG(INFO) Updating active symbols. max_freq=4 min_freq=2\n",
      "bpe_model_trainer.cc(258) LOG(INFO) Added: freq=4 size=1620 all=5491 active=1000 piece=▁mice\n",
      "bpe_model_trainer.cc(258) LOG(INFO) Added: freq=4 size=1640 all=5491 active=1000 piece=ssible\n",
      "bpe_model_trainer.cc(258) LOG(INFO) Added: freq=4 size=1660 all=5478 active=987 piece=▁often\n",
      "bpe_model_trainer.cc(258) LOG(INFO) Added: freq=4 size=1680 all=5471 active=980 piece=▁corner\n",
      "bpe_model_trainer.cc(258) LOG(INFO) Added: freq=4 size=1700 all=5464 active=973 piece=▁sleepy\n",
      "bpe_model_trainer.cc(167) LOG(INFO) Updating active symbols. max_freq=4 min_freq=2\n",
      "bpe_model_trainer.cc(258) LOG(INFO) Added: freq=4 size=1720 all=5448 active=985 piece=▁sounded\n",
      "bpe_model_trainer.cc(258) LOG(INFO) Added: freq=4 size=1740 all=5435 active=972 piece=▁instantly\n",
      "bpe_model_trainer.cc(258) LOG(INFO) Added: freq=3 size=1760 all=5435 active=972 piece=Su\n",
      "bpe_model_trainer.cc(258) LOG(INFO) Added: freq=3 size=1780 all=5462 active=999 piece=cho\n",
      "bpe_model_trainer.cc(258) LOG(INFO) Added: freq=3 size=1800 all=5494 active=1031 piece=▁HE\n",
      "bpe_model_trainer.cc(167) LOG(INFO) Updating active symbols. max_freq=3 min_freq=2\n",
      "bpe_model_trainer.cc(258) LOG(INFO) Added: freq=3 size=1820 all=5502 active=1009 piece=gled\n",
      "bpe_model_trainer.cc(258) LOG(INFO) Added: freq=3 size=1840 all=5516 active=1023 piece=▁Eag\n",
      "bpe_model_trainer.cc(258) LOG(INFO) Added: freq=3 size=1860 all=5516 active=1023 piece=▁per\n",
      "bpe_model_trainer.cc(258) LOG(INFO) Added: freq=3 size=1880 all=5521 active=1028 piece=nging\n",
      "bpe_model_trainer.cc(258) LOG(INFO) Added: freq=3 size=1900 all=5517 active=1024 piece=▁days\n",
      "bpe_model_trainer.cc(167) LOG(INFO) Updating active symbols. max_freq=3 min_freq=1\n",
      "bpe_model_trainer.cc(258) LOG(INFO) Added: freq=3 size=1920 all=5513 active=997 piece=▁pick\n",
      "trainer_interface.cc(615) LOG(INFO) Saving model: en_s3_train.model\n",
      "trainer_interface.cc(626) LOG(INFO) Saving vocabs: en_s3_train.vocab\n"
     ]
    }
   ],
   "metadata": {}
  },
  {
   "cell_type": "code",
   "execution_count": 11,
   "source": [
    "# segment the text (original)\n",
    "!cd models/sentencepiece/ \\\n",
    "  &&spm_encode \\\n",
    "  --model=en_s3_train.model \\\n",
    "  --output_format=piece \\\n",
    "  < '../../eng_text/train_eng.txt' \\\n",
    "  > '../../eng_text/en_s3_train.txt'"
   ],
   "outputs": [],
   "metadata": {}
  },
  {
   "cell_type": "code",
   "execution_count": 12,
   "source": [
    "# training model - test set\n",
    "\n",
    "# coverage changes for non-english\n",
    "# fine-tune vocab_size in range of 1500-3000 for best performance\n",
    "# training model\n",
    "\n",
    "# coverage changes for non-english\n",
    "# fine-tune vocab_size in range of 100-800 for best performance\n",
    "\n",
    "!cd models/sentencepiece/ \\\n",
    "  &&spm_train \\\n",
    "  --input='../../eng_text/test_eng.txt' \\\n",
    "  --model_prefix=en_s3_test \\\n",
    "  --vocab_size=$large_vocab \\\n",
    "  --character_coverage=1.0 \\\n",
    "  --model_type=bpe\n",
    " "
   ],
   "outputs": [
    {
     "output_type": "stream",
     "name": "stdout",
     "text": [
      "sentencepiece_trainer.cc(77) LOG(INFO) Starts training with : \n",
      "trainer_spec {\n",
      "  input: ../../eng_text/test_eng.txt\n",
      "  input_format: \n",
      "  model_prefix: en_s3_test\n",
      "  model_type: BPE\n",
      "  vocab_size: 2000\n",
      "  self_test_sample_size: 0\n",
      "  character_coverage: 1\n",
      "  input_sentence_size: 0\n",
      "  shuffle_input_sentence: 1\n",
      "  seed_sentencepiece_size: 1000000\n",
      "  shrinking_factor: 0.75\n",
      "  max_sentence_length: 4192\n",
      "  num_threads: 16\n",
      "  num_sub_iterations: 2\n",
      "  max_sentencepiece_length: 16\n",
      "  split_by_unicode_script: 1\n",
      "  split_by_number: 1\n",
      "  split_by_whitespace: 1\n",
      "  split_digits: 0\n",
      "  treat_whitespace_as_suffix: 0\n",
      "  allow_whitespace_only_pieces: 0\n",
      "  required_chars: \n",
      "  byte_fallback: 0\n",
      "  vocabulary_output_piece_score: 1\n",
      "  train_extremely_large_corpus: 0\n",
      "  hard_vocab_limit: 1\n",
      "  use_all_vocab: 0\n",
      "  unk_id: 0\n",
      "  bos_id: 1\n",
      "  eos_id: 2\n",
      "  pad_id: -1\n",
      "  unk_piece: <unk>\n",
      "  bos_piece: <s>\n",
      "  eos_piece: </s>\n",
      "  pad_piece: <pad>\n",
      "  unk_surface:  ⁇ \n",
      "}\n",
      "normalizer_spec {\n",
      "  name: nmt_nfkc\n",
      "  add_dummy_prefix: 1\n",
      "  remove_extra_whitespaces: 1\n",
      "  escape_whitespaces: 1\n",
      "  normalization_rule_tsv: \n",
      "}\n",
      "denormalizer_spec {}\n",
      "trainer_interface.cc(329) LOG(INFO) SentenceIterator is not specified. Using MultiFileSentenceIterator.\n",
      "trainer_interface.cc(178) LOG(INFO) Loading corpus: ../../eng_text/test_eng.txt\n",
      "trainer_interface.cc(385) LOG(INFO) Loaded all 324 sentences\n",
      "trainer_interface.cc(400) LOG(INFO) Adding meta_piece: <unk>\n",
      "trainer_interface.cc(400) LOG(INFO) Adding meta_piece: <s>\n",
      "trainer_interface.cc(400) LOG(INFO) Adding meta_piece: </s>\n",
      "trainer_interface.cc(405) LOG(INFO) Normalizing sentences...\n",
      "trainer_interface.cc(466) LOG(INFO) all chars count=28059\n",
      "trainer_interface.cc(487) LOG(INFO) Alphabet size=67\n",
      "trainer_interface.cc(488) LOG(INFO) Final character coverage=1\n",
      "trainer_interface.cc(520) LOG(INFO) Done! preprocessed 324 sentences.\n",
      "trainer_interface.cc(526) LOG(INFO) Tokenizing input sentences with whitespace: 324\n",
      "trainer_interface.cc(537) LOG(INFO) Done! 1709\n",
      "bpe_model_trainer.cc(167) LOG(INFO) Updating active symbols. max_freq=841 min_freq=1\n",
      "bpe_model_trainer.cc(258) LOG(INFO) Added: freq=147 size=20 all=1021 active=954 piece=▁of\n",
      "bpe_model_trainer.cc(258) LOG(INFO) Added: freq=92 size=40 all=1271 active=1204 piece=▁ha\n",
      "bpe_model_trainer.cc(258) LOG(INFO) Added: freq=70 size=60 all=1495 active=1428 piece=▁she\n",
      "bpe_model_trainer.cc(258) LOG(INFO) Added: freq=54 size=80 all=1669 active=1602 piece=▁Alice\n",
      "bpe_model_trainer.cc(258) LOG(INFO) Added: freq=38 size=100 all=1796 active=1729 piece=gh\n",
      "bpe_model_trainer.cc(167) LOG(INFO) Updating active symbols. max_freq=38 min_freq=2\n",
      "bpe_model_trainer.cc(258) LOG(INFO) Added: freq=32 size=120 all=1958 active=1157 piece=▁wh\n",
      "bpe_model_trainer.cc(258) LOG(INFO) Added: freq=25 size=140 all=2050 active=1249 piece=and\n",
      "bpe_model_trainer.cc(258) LOG(INFO) Added: freq=22 size=160 all=2131 active=1330 piece=▁look\n",
      "bpe_model_trainer.cc(258) LOG(INFO) Added: freq=19 size=180 all=2179 active=1378 piece=▁Queen\n",
      "bpe_model_trainer.cc(258) LOG(INFO) Added: freq=17 size=200 all=2238 active=1437 piece=imp\n",
      "bpe_model_trainer.cc(167) LOG(INFO) Updating active symbols. max_freq=17 min_freq=2\n",
      "bpe_model_trainer.cc(258) LOG(INFO) Added: freq=16 size=220 all=2276 active=1030 piece=▁their\n",
      "bpe_model_trainer.cc(258) LOG(INFO) Added: freq=14 size=240 all=2341 active=1095 piece=ouse\n",
      "bpe_model_trainer.cc(258) LOG(INFO) Added: freq=13 size=260 all=2397 active=1151 piece=ting\n",
      "bpe_model_trainer.cc(258) LOG(INFO) Added: freq=12 size=280 all=2456 active=1210 piece=ning\n",
      "bpe_model_trainer.cc(258) LOG(INFO) Added: freq=11 size=300 all=2536 active=1290 piece=oup\n",
      "bpe_model_trainer.cc(167) LOG(INFO) Updating active symbols. max_freq=11 min_freq=2\n",
      "bpe_model_trainer.cc(258) LOG(INFO) Added: freq=10 size=320 all=2564 active=1028 piece=▁O\n",
      "bpe_model_trainer.cc(258) LOG(INFO) Added: freq=10 size=340 all=2604 active=1068 piece=▁witness\n",
      "bpe_model_trainer.cc(258) LOG(INFO) Added: freq=9 size=360 all=2635 active=1099 piece=right\n",
      "bpe_model_trainer.cc(258) LOG(INFO) Added: freq=8 size=380 all=2654 active=1118 piece=▁gu\n",
      "bpe_model_trainer.cc(258) LOG(INFO) Added: freq=7 size=400 all=2653 active=1117 piece=ER\n",
      "bpe_model_trainer.cc(167) LOG(INFO) Updating active symbols. max_freq=7 min_freq=1\n",
      "bpe_model_trainer.cc(258) LOG(INFO) Added: freq=7 size=420 all=2711 active=1053 piece=▁cur\n",
      "bpe_model_trainer.cc(258) LOG(INFO) Added: freq=6 size=440 all=2719 active=1061 piece=ak\n",
      "bpe_model_trainer.cc(258) LOG(INFO) Added: freq=6 size=460 all=2775 active=1117 piece=▁ch\n",
      "bpe_model_trainer.cc(258) LOG(INFO) Added: freq=6 size=480 all=2793 active=1135 piece=▁way\n",
      "bpe_model_trainer.cc(258) LOG(INFO) Added: freq=6 size=500 all=2789 active=1131 piece=▁which\n",
      "bpe_model_trainer.cc(167) LOG(INFO) Updating active symbols. max_freq=6 min_freq=1\n",
      "bpe_model_trainer.cc(258) LOG(INFO) Added: freq=5 size=520 all=2820 active=1032 piece=ate\n",
      "bpe_model_trainer.cc(258) LOG(INFO) Added: freq=5 size=540 all=2855 active=1067 piece=ever\n",
      "bpe_model_trainer.cc(258) LOG(INFO) Added: freq=5 size=560 all=2869 active=1081 piece=▁knew\n",
      "bpe_model_trainer.cc(258) LOG(INFO) Added: freq=5 size=580 all=2857 active=1069 piece=▁Lizard\n",
      "bpe_model_trainer.cc(258) LOG(INFO) Added: freq=4 size=600 all=2862 active=1074 piece=ead\n",
      "bpe_model_trainer.cc(167) LOG(INFO) Updating active symbols. max_freq=4 min_freq=1\n",
      "bpe_model_trainer.cc(258) LOG(INFO) Added: freq=4 size=620 all=2905 active=1041 piece=Well\n",
      "bpe_model_trainer.cc(258) LOG(INFO) Added: freq=4 size=640 all=2926 active=1062 piece=▁its\n",
      "bpe_model_trainer.cc(258) LOG(INFO) Added: freq=4 size=660 all=2930 active=1066 piece=▁face\n",
      "bpe_model_trainer.cc(258) LOG(INFO) Added: freq=4 size=680 all=2923 active=1059 piece=▁found\n",
      "bpe_model_trainer.cc(258) LOG(INFO) Added: freq=4 size=700 all=2915 active=1051 piece=▁turning\n",
      "bpe_model_trainer.cc(167) LOG(INFO) Updating active symbols. max_freq=4 min_freq=1\n",
      "bpe_model_trainer.cc(258) LOG(INFO) Added: freq=3 size=720 all=2909 active=995 piece=cl\n",
      "bpe_model_trainer.cc(258) LOG(INFO) Added: freq=3 size=740 all=2936 active=1022 piece=een\n",
      "bpe_model_trainer.cc(258) LOG(INFO) Added: freq=3 size=760 all=2958 active=1044 piece=ure\n",
      "bpe_model_trainer.cc(258) LOG(INFO) Added: freq=3 size=780 all=2971 active=1057 piece=aper\n",
      "bpe_model_trainer.cc(258) LOG(INFO) Added: freq=3 size=800 all=2993 active=1079 piece=upid\n",
      "bpe_model_trainer.cc(167) LOG(INFO) Updating active symbols. max_freq=3 min_freq=1\n",
      "bpe_model_trainer.cc(258) LOG(INFO) Added: freq=3 size=820 all=2997 active=1003 piece=There\n",
      "bpe_model_trainer.cc(258) LOG(INFO) Added: freq=3 size=840 all=2997 active=1003 piece=▁dist\n",
      "bpe_model_trainer.cc(258) LOG(INFO) Added: freq=3 size=860 all=2987 active=993 piece=▁talk\n",
      "bpe_model_trainer.cc(258) LOG(INFO) Added: freq=3 size=880 all=2983 active=989 piece=▁slate\n",
      "bpe_model_trainer.cc(258) LOG(INFO) Added: freq=3 size=900 all=2975 active=981 piece=▁simple\n",
      "bpe_model_trainer.cc(167) LOG(INFO) Updating active symbols. max_freq=3 min_freq=1\n",
      "bpe_model_trainer.cc(258) LOG(INFO) Added: freq=3 size=920 all=2957 active=983 piece=▁executed\n",
      "bpe_model_trainer.cc(258) LOG(INFO) Added: freq=2 size=940 all=2947 active=973 piece=PT\n",
      "bpe_model_trainer.cc(258) LOG(INFO) Added: freq=2 size=960 all=2972 active=998 piece=And\n",
      "bpe_model_trainer.cc(258) LOG(INFO) Added: freq=2 size=980 all=2982 active=1008 piece=eak\n",
      "bpe_model_trainer.cc(258) LOG(INFO) Added: freq=2 size=1000 all=3009 active=1035 piece=til\n",
      "bpe_model_trainer.cc(167) LOG(INFO) Updating active symbols. max_freq=2 min_freq=1\n",
      "bpe_model_trainer.cc(258) LOG(INFO) Added: freq=2 size=1020 all=3012 active=1002 piece=Cons\n",
      "bpe_model_trainer.cc(258) LOG(INFO) Added: freq=2 size=1040 all=3021 active=1011 piece=orth\n",
      "bpe_model_trainer.cc(258) LOG(INFO) Added: freq=2 size=1060 all=3017 active=1007 piece=▁car\n",
      "bpe_model_trainer.cc(258) LOG(INFO) Added: freq=2 size=1080 all=3022 active=1012 piece=▁sit\n",
      "bpe_model_trainer.cc(258) LOG(INFO) Added: freq=2 size=1100 all=3023 active=1013 piece=other\n",
      "bpe_model_trainer.cc(167) LOG(INFO) Updating active symbols. max_freq=2 min_freq=1\n",
      "bpe_model_trainer.cc(258) LOG(INFO) Added: freq=2 size=1120 all=3017 active=994 piece=▁deny\n",
      "bpe_model_trainer.cc(258) LOG(INFO) Added: freq=2 size=1140 all=3008 active=985 piece=▁mark\n",
      "bpe_model_trainer.cc(258) LOG(INFO) Added: freq=2 size=1160 all=2996 active=973 piece=▁want\n",
      "bpe_model_trainer.cc(258) LOG(INFO) Added: freq=2 size=1180 all=2986 active=963 piece=▁doesn\n",
      "bpe_model_trainer.cc(258) LOG(INFO) Added: freq=2 size=1200 all=2977 active=954 piece=▁these\n",
      "bpe_model_trainer.cc(167) LOG(INFO) Updating active symbols. max_freq=2 min_freq=1\n",
      "bpe_model_trainer.cc(258) LOG(INFO) Added: freq=2 size=1220 all=2963 active=987 piece=▁garden\n",
      "bpe_model_trainer.cc(258) LOG(INFO) Added: freq=2 size=1240 all=2947 active=971 piece=Consider\n",
      "bpe_model_trainer.cc(258) LOG(INFO) Added: freq=2 size=1260 all=2927 active=951 piece=▁through\n",
      "bpe_model_trainer.cc(258) LOG(INFO) Added: freq=2 size=1280 all=2910 active=934 piece=▁important\n",
      "bpe_model_trainer.cc(258) LOG(INFO) Added: freq=1 size=1300 all=2891 active=915 piece=.]\n",
      "bpe_model_trainer.cc(167) LOG(INFO) Updating active symbols. max_freq=1 min_freq=1\n",
      "bpe_model_trainer.cc(258) LOG(INFO) Added: freq=1 size=1320 all=2894 active=1004 piece=OI\n",
      "bpe_model_trainer.cc(258) LOG(INFO) Added: freq=1 size=1340 all=2900 active=1010 piece=ls\n",
      "bpe_model_trainer.cc(258) LOG(INFO) Added: freq=1 size=1360 all=2895 active=1005 piece=ARD\n",
      "bpe_model_trainer.cc(258) LOG(INFO) Added: freq=1 size=1380 all=2891 active=1001 piece=ROM\n",
      "bpe_model_trainer.cc(258) LOG(INFO) Added: freq=1 size=1400 all=2885 active=995 piece=arm\n",
      "bpe_model_trainer.cc(167) LOG(INFO) Updating active symbols. max_freq=1 min_freq=1\n",
      "bpe_model_trainer.cc(258) LOG(INFO) Added: freq=1 size=1420 all=2887 active=1003 piece=els\n",
      "bpe_model_trainer.cc(258) LOG(INFO) Added: freq=1 size=1440 all=2895 active=1011 piece=isk\n",
      "bpe_model_trainer.cc(258) LOG(INFO) Added: freq=1 size=1460 all=2902 active=1018 piece=oun\n",
      "bpe_model_trainer.cc(258) LOG(INFO) Added: freq=1 size=1480 all=2910 active=1026 piece=vol\n",
      "bpe_model_trainer.cc(258) LOG(INFO) Added: freq=1 size=1500 all=2901 active=1017 piece=▁QU\n",
      "bpe_model_trainer.cc(167) LOG(INFO) Updating active symbols. max_freq=1 min_freq=0\n",
      "bpe_model_trainer.cc(258) LOG(INFO) Added: freq=1 size=1520 all=2900 active=999 piece=Coll\n",
      "bpe_model_trainer.cc(258) LOG(INFO) Added: freq=1 size=1540 all=2894 active=993 piece=VERY\n",
      "bpe_model_trainer.cc(258) LOG(INFO) Added: freq=1 size=1560 all=2893 active=992 piece=cove\n",
      "bpe_model_trainer.cc(258) LOG(INFO) Added: freq=1 size=1580 all=2901 active=1000 piece=ieth\n",
      "bpe_model_trainer.cc(258) LOG(INFO) Added: freq=1 size=1600 all=2899 active=998 piece=orty\n",
      "bpe_model_trainer.cc(167) LOG(INFO) Updating active symbols. max_freq=1 min_freq=0\n",
      "bpe_model_trainer.cc(258) LOG(INFO) Added: freq=1 size=1620 all=2897 active=998 piece=urry\n",
      "bpe_model_trainer.cc(258) LOG(INFO) Added: freq=1 size=1640 all=2884 active=985 piece=▁PRO\n",
      "bpe_model_trainer.cc(258) LOG(INFO) Added: freq=1 size=1660 all=2868 active=969 piece=▁emp\n",
      "bpe_model_trainer.cc(258) LOG(INFO) Added: freq=1 size=1680 all=2863 active=964 piece=▁our\n",
      "bpe_model_trainer.cc(258) LOG(INFO) Added: freq=1 size=1700 all=2851 active=952 piece=Shall\n",
      "bpe_model_trainer.cc(167) LOG(INFO) Updating active symbols. max_freq=1 min_freq=0\n",
      "bpe_model_trainer.cc(258) LOG(INFO) Added: freq=1 size=1720 all=2845 active=995 piece=apers\n",
      "bpe_model_trainer.cc(258) LOG(INFO) Added: freq=1 size=1740 all=2846 active=996 piece=essed\n",
      "bpe_model_trainer.cc(258) LOG(INFO) Added: freq=1 size=1760 all=2846 active=996 piece=onest\n",
      "bpe_model_trainer.cc(258) LOG(INFO) Added: freq=1 size=1780 all=2846 active=996 piece=▁Betw\n",
      "bpe_model_trainer.cc(258) LOG(INFO) Added: freq=1 size=1800 all=2828 active=978 piece=▁Turn\n",
      "bpe_model_trainer.cc(167) LOG(INFO) Updating active symbols. max_freq=1 min_freq=0\n",
      "bpe_model_trainer.cc(258) LOG(INFO) Added: freq=1 size=1820 all=2815 active=988 piece=▁days\n",
      "bpe_model_trainer.cc(258) LOG(INFO) Added: freq=1 size=1840 all=2798 active=971 piece=▁here\n",
      "bpe_model_trainer.cc(258) LOG(INFO) Added: freq=1 size=1860 all=2784 active=957 piece=▁ripp\n",
      "bpe_model_trainer.cc(258) LOG(INFO) Added: freq=1 size=1880 all=2770 active=943 piece=▁than\n",
      "bpe_model_trainer.cc(258) LOG(INFO) Added: freq=1 size=1900 all=2754 active=927 piece=Behead\n",
      "bpe_model_trainer.cc(167) LOG(INFO) Updating active symbols. max_freq=1 min_freq=0\n",
      "bpe_model_trainer.cc(258) LOG(INFO) Added: freq=1 size=1920 all=2742 active=989 piece=eaking\n",
      "trainer_interface.cc(615) LOG(INFO) Saving model: en_s3_test.model\n",
      "trainer_interface.cc(626) LOG(INFO) Saving vocabs: en_s3_test.vocab\n"
     ]
    }
   ],
   "metadata": {}
  },
  {
   "cell_type": "code",
   "execution_count": 13,
   "source": [
    "# segment the text (original)\n",
    "!cd models/sentencepiece/ \\\n",
    "  &&spm_encode \\\n",
    "  --model=en_s3_test.model \\\n",
    "  --output_format=piece \\\n",
    "  < '../../eng_text/test_eng.txt' \\\n",
    "  > '../../eng_text/en_s3_test.txt'"
   ],
   "outputs": [],
   "metadata": {}
  },
  {
   "cell_type": "markdown",
   "source": [
    "## Observation\n",
    "* Character - Almost every single character is segmented\n",
    "* Subword unit (smaller vacob) - The length of segmented subword is longer and many words are also considered as subwords\n",
    "* Subword unit (larger vocab) - Here, subwords are longer. Many words are themself segmented into single subwords. It can also be seen consistently that orignally longer words are broken into two or more segments.  \n"
   ],
   "metadata": {}
  },
  {
   "cell_type": "markdown",
   "source": [
    "## Task 3: LM Training"
   ],
   "metadata": {}
  },
  {
   "cell_type": "markdown",
   "source": [
    "### 1. Baseline (en_s1 - character level)"
   ],
   "metadata": {}
  },
  {
   "cell_type": "code",
   "execution_count": 15,
   "source": [
    "# Training baseline LM (en_s1)\n",
    "\n",
    "# At what setting of rnnlm, we need the get the PP of baseline? \n",
    "# what is the use of class size\n",
    "\n",
    "!cd models/rnnlm \\\n",
    "    && ../../rnnlm/rnnlm \\\n",
    "    -train '../../eng_text/en_s1_train.txt' \\\n",
    "    -valid '../../eng_text/en_s1_test.txt' \\\n",
    "    -rnnlm baseline_en_s1 \\\n",
    "      -hidden 40 \\\n",
    "      -rand-seed 1 \\\n",
    "      -debug 2 \\\n",
    "      -bptt 3 \\\n",
    "      -class $n_ch"
   ],
   "outputs": [
    {
     "output_type": "stream",
     "name": "stdout",
     "text": [
      "debug mode: 2\n",
      "train file: ../../eng_text/en_s1_train.txt\n",
      "valid file: ../../eng_text/en_s1_test.txt\n",
      "class size: 72\n",
      "Hidden layer size: 40\n",
      "BPTT: 3\n",
      "Rand seed: 1\n",
      "rnnlm file: baseline_en_s1\n",
      "Starting training using file ../../eng_text/en_s1_train.txt\n",
      "Vocab size: 70\n",
      "Words in train file: 115760\n",
      "WARNING: number of classes exceeds vocabulary size!\n",
      "Iter:   0\tAlpha: 0.100000\t   TRAIN entropy: 3.1281    Words/sec: 119015.6   VALID entropy: 3.4054\n",
      "Iter:   1\tAlpha: 0.100000\t   TRAIN entropy: 2.6953    Words/sec: 116162.9   VALID entropy: 3.3093\n",
      "Iter:   2\tAlpha: 0.100000\t   TRAIN entropy: 2.5930    Words/sec: 108518.5   VALID entropy: 3.3068\n",
      "Iter:   3\tAlpha: 0.050000\t   TRAIN entropy: 2.4821    Words/sec: 99745.0   VALID entropy: 3.2160\n",
      "Iter:   4\tAlpha: 0.025000\t   TRAIN entropy: 2.4283    Words/sec: 110235.0   VALID entropy: 3.1463\n",
      "Iter:   5\tAlpha: 0.012500\t   TRAIN entropy: 2.4027    Words/sec: 116410.6   VALID entropy: 3.0978\n",
      "Iter:   6\tAlpha: 0.006250\t   TRAIN entropy: 2.3894    Words/sec: 118344.7   VALID entropy: 3.0674\n",
      "Iter:   7\tAlpha: 0.003125\t   TRAIN entropy: 2.3824    Words/sec: 120176.9   VALID entropy: 3.0518\n",
      "Iter:   8\tAlpha: 0.001563\t   TRAIN entropy: 2.3784    Words/sec: 118001.1   VALID entropy: 3.0455\n"
     ]
    }
   ],
   "metadata": {}
  },
  {
   "cell_type": "markdown",
   "source": [
    "### 2. Baseline (smaller vocab - en_s2)\n",
    " "
   ],
   "metadata": {}
  },
  {
   "cell_type": "code",
   "execution_count": 16,
   "source": [
    "!cd models/rnnlm/ \\\n",
    "    && ../../rnnlm/rnnlm \\\n",
    "    -train '../../eng_text/en_s2_train.txt' \\\n",
    "    -valid '../../eng_text/en_s2_test.txt' \\\n",
    "    -rnnlm baseline_en_s2 \\\n",
    "      -hidden 40 \\\n",
    "      -rand-seed 1 \\\n",
    "      -debug 2 \\\n",
    "      -bptt 3 \\\n",
    "      -class $small_vocab"
   ],
   "outputs": [
    {
     "output_type": "stream",
     "name": "stdout",
     "text": [
      "debug mode: 2\n",
      "train file: ../../eng_text/en_s2_train.txt\n",
      "valid file: ../../eng_text/en_s2_test.txt\n",
      "class size: 450\n",
      "Hidden layer size: 40\n",
      "BPTT: 3\n",
      "Rand seed: 1\n",
      "rnnlm file: baseline_en_s2\n",
      "Starting training using file ../../eng_text/en_s2_train.txt\n",
      "Vocab size: 442\n",
      "Words in train file: 46742\n",
      "WARNING: number of classes exceeds vocabulary size!\n",
      "Iter:   0\tAlpha: 0.100000\t   TRAIN entropy: 7.5093    Words/sec: 31961.6   VALID entropy: 7.1103\n",
      "Iter:   1\tAlpha: 0.100000\t   TRAIN entropy: 6.6438    Words/sec: 30707.2   VALID entropy: 6.5573\n",
      "Iter:   2\tAlpha: 0.100000\t   TRAIN entropy: 5.9915    Words/sec: 31639.9   VALID entropy: 6.3010\n",
      "Iter:   3\tAlpha: 0.100000\t   TRAIN entropy: 5.5659    Words/sec: 31982.9   VALID entropy: 6.1937\n",
      "Iter:   4\tAlpha: 0.100000\t   TRAIN entropy: 5.2843    Words/sec: 31796.5   VALID entropy: 6.1650\n",
      "Iter:   5\tAlpha: 0.100000\t   TRAIN entropy: 5.0921    Words/sec: 30927.1   VALID entropy: 6.1694\n",
      "Iter:   6\tAlpha: 0.050000\t   TRAIN entropy: 5.0307    Words/sec: 29972.6   VALID entropy: 6.0552\n",
      "Iter:   7\tAlpha: 0.025000\t   TRAIN entropy: 4.8947    Words/sec: 32831.5   VALID entropy: 5.9892\n",
      "Iter:   8\tAlpha: 0.012500\t   TRAIN entropy: 4.8218    Words/sec: 32511.0   VALID entropy: 5.9569\n",
      "Iter:   9\tAlpha: 0.006250\t   TRAIN entropy: 4.7819    Words/sec: 32811.3   VALID entropy: 5.9344\n",
      "Iter:  10\tAlpha: 0.003125\t   TRAIN entropy: 4.7602    Words/sec: 33134.1   VALID entropy: 5.9203\n"
     ]
    }
   ],
   "metadata": {}
  },
  {
   "cell_type": "markdown",
   "source": [
    "### 3. Baseline (larger vocab - en_s3)"
   ],
   "metadata": {}
  },
  {
   "cell_type": "code",
   "execution_count": 17,
   "source": [
    "!cd models/rnnlm/ \\\n",
    "    && ../../rnnlm/rnnlm \\\n",
    "    -train '../../eng_text/en_s3_train.txt' \\\n",
    "    -valid '../../eng_text/en_s3_test.txt' \\\n",
    "    -rnnlm baseline_en_s3 \\\n",
    "      -hidden 40 \\\n",
    "      -rand-seed 1 \\\n",
    "      -debug 2 \\\n",
    "      -bptt 3 \\\n",
    "      -class $large_vocab"
   ],
   "outputs": [
    {
     "output_type": "stream",
     "name": "stdout",
     "text": [
      "debug mode: 2\n",
      "train file: ../../eng_text/en_s3_train.txt\n",
      "valid file: ../../eng_text/en_s3_test.txt\n",
      "class size: 2000\n",
      "Hidden layer size: 40\n",
      "BPTT: 3\n",
      "Rand seed: 1\n",
      "rnnlm file: baseline_en_s3\n",
      "Starting training using file ../../eng_text/en_s3_train.txt\n",
      "Vocab size: 1829\n",
      "Words in train file: 32645\n",
      "WARNING: number of classes exceeds vocabulary size!\n",
      "Iter:   0\tAlpha: 0.100000\t   TRAIN entropy: 8.2916    Words/sec: 6794.7   VALID entropy: 7.1652\n",
      "Iter:   1\tAlpha: 0.100000\t   TRAIN entropy: 7.5869    Words/sec: 7154.0   VALID entropy: 6.7712\n",
      "Iter:   2\tAlpha: 0.100000\t   TRAIN entropy: 7.1646    Words/sec: 7270.9   VALID entropy: 6.6217\n",
      "Iter:   3\tAlpha: 0.100000\t   TRAIN entropy: 6.8658    Words/sec: 7305.7   VALID entropy: 6.4476\n",
      "Iter:   4\tAlpha: 0.100000\t   TRAIN entropy: 6.6328    Words/sec: 7231.6   VALID entropy: 6.3239\n",
      "Iter:   5\tAlpha: 0.100000\t   TRAIN entropy: 6.4401    Words/sec: 7245.1   VALID entropy: 6.2968\n",
      "Iter:   6\tAlpha: 0.100000\t   TRAIN entropy: 6.2748    Words/sec: 7233.1   VALID entropy: 6.2871\n",
      "Iter:   7\tAlpha: 0.050000\t   TRAIN entropy: 6.0499    Words/sec: 7320.8   VALID entropy: 6.1517\n",
      "Iter:   8\tAlpha: 0.025000\t   TRAIN entropy: 5.9230    Words/sec: 7220.5   VALID entropy: 6.0745\n",
      "Iter:   9\tAlpha: 0.012500\t   TRAIN entropy: 5.8583    Words/sec: 7218.8   VALID entropy: 6.0245\n",
      "Iter:  10\tAlpha: 0.006250\t   TRAIN entropy: 5.8263    Words/sec: 7281.0   VALID entropy: 5.9833\n",
      "Iter:  11\tAlpha: 0.003125\t   TRAIN entropy: 5.8116    Words/sec: 7218.2   VALID entropy: 5.9705\n"
     ]
    }
   ],
   "metadata": {}
  },
  {
   "cell_type": "markdown",
   "source": [
    "### 1. Custom hparam training (character level)"
   ],
   "metadata": {}
  },
  {
   "cell_type": "code",
   "execution_count": 18,
   "source": [
    "# Training baseline LM (en_s1)\n",
    "\n",
    "# At what setting of rnnlm, we need the get the PP of baseline? \n",
    "# what is the use of class size\n",
    "\n",
    "!cd models/rnnlm \\\n",
    "    && ../../rnnlm/rnnlm \\\n",
    "    -train '../../eng_text/en_s1_train.txt' \\\n",
    "    -valid '../../eng_text/en_s1_test.txt' \\\n",
    "    -rnnlm en_s1 \\\n",
    "      -hidden 70 \\\n",
    "      -rand-seed 1 \\\n",
    "      -debug 2 \\\n",
    "      -bptt 5 \\\n",
    "      -class $n_ch"
   ],
   "outputs": [
    {
     "output_type": "stream",
     "name": "stdout",
     "text": [
      "debug mode: 2\n",
      "train file: ../../eng_text/en_s1_train.txt\n",
      "valid file: ../../eng_text/en_s1_test.txt\n",
      "class size: 72\n",
      "Hidden layer size: 70\n",
      "BPTT: 5\n",
      "Rand seed: 1\n",
      "rnnlm file: en_s1\n",
      "Starting training using file ../../eng_text/en_s1_train.txt\n",
      "Vocab size: 70\n",
      "Words in train file: 115760\n",
      "WARNING: number of classes exceeds vocabulary size!\n",
      "Iter:   0\tAlpha: 0.100000\t   TRAIN entropy: 3.1144    Words/sec: 50840.6   VALID entropy: 3.3655\n",
      "Iter:   1\tAlpha: 0.100000\t   TRAIN entropy: 2.6143    Words/sec: 50518.0   VALID entropy: 3.2469\n",
      "Iter:   2\tAlpha: 0.100000\t   TRAIN entropy: 2.4622    Words/sec: 50714.8   VALID entropy: 3.2018\n",
      "Iter:   3\tAlpha: 0.100000\t   TRAIN entropy: 2.3755    Words/sec: 50507.6   VALID entropy: 3.1991\n",
      "Iter:   4\tAlpha: 0.050000\t   TRAIN entropy: 2.2564    Words/sec: 50367.4   VALID entropy: 3.0576\n",
      "Iter:   5\tAlpha: 0.025000\t   TRAIN entropy: 2.1936    Words/sec: 50507.4   VALID entropy: 2.9791\n",
      "Iter:   6\tAlpha: 0.012500\t   TRAIN entropy: 2.1612    Words/sec: 50093.7   VALID entropy: 2.9323\n",
      "Iter:   7\tAlpha: 0.006250\t   TRAIN entropy: 2.1440    Words/sec: 50254.4   VALID entropy: 2.9018\n",
      "Iter:   8\tAlpha: 0.003125\t   TRAIN entropy: 2.1343    Words/sec: 50685.5   VALID entropy: 2.8857\n",
      "Iter:   9\tAlpha: 0.001563\t   TRAIN entropy: 2.1286    Words/sec: 50119.6   VALID entropy: 2.8779\n"
     ]
    }
   ],
   "metadata": {}
  },
  {
   "cell_type": "markdown",
   "source": [
    "### 2. Custom hparam training (smaller vocab - en_s2)"
   ],
   "metadata": {}
  },
  {
   "cell_type": "code",
   "execution_count": 21,
   "source": [
    "# Training LM on subword units (smaller vocab - en_s2)\n",
    "\n",
    "#incr hidden -> better pp\n",
    "#incr bptt -> better pp\n",
    "# if class < vocabsize -> worse pp\n",
    "#incr class -> better pp\n",
    "\n",
    "## May be need to simplify the corpus (in preprocessing)\n",
    "\n",
    "      # -bptt-block 1 \\\n",
    "!cd models/rnnlm/ \\\n",
    "    && ../../rnnlm/rnnlm \\\n",
    "    -train '../../eng_text/en_s2_train.txt' \\\n",
    "    -valid '../../eng_text/en_s2_test.txt' \\\n",
    "    -rnnlm en_s2 \\\n",
    "      -hidden 100 \\\n",
    "      -rand-seed 1 \\\n",
    "      -debug 2 \\\n",
    "      -bptt 6 \\\n",
    "      -class $small_vocab"
   ],
   "outputs": [
    {
     "output_type": "stream",
     "name": "stdout",
     "text": [
      "debug mode: 2\n",
      "train file: ../../eng_text/en_s2_train.txt\n",
      "valid file: ../../eng_text/en_s2_test.txt\n",
      "class size: 450\n",
      "Hidden layer size: 100\n",
      "BPTT: 6\n",
      "Rand seed: 1\n",
      "rnnlm file: en_s2\n",
      "Starting training using file ../../eng_text/en_s2_train.txt\n",
      "Vocab size: 442\n",
      "Words in train file: 46742\n",
      "WARNING: number of classes exceeds vocabulary size!\n",
      "Iter:   0\tAlpha: 0.100000\t   TRAIN entropy: 7.5122    Words/sec: 10417.7   VALID entropy: 7.1310\n",
      "Iter:   1\tAlpha: 0.100000\t   TRAIN entropy: 6.6173    Words/sec: 9906.2   VALID entropy: 6.5883\n",
      "Iter:   2\tAlpha: 0.100000\t   TRAIN entropy: 5.9341    Words/sec: 10865.0   VALID entropy: 6.3313\n",
      "Iter:   3\tAlpha: 0.100000\t   TRAIN entropy: 5.4813    Words/sec: 9939.4   VALID entropy: 6.2205\n",
      "Iter:   4\tAlpha: 0.100000\t   TRAIN entropy: 5.1746    Words/sec: 10886.0   VALID entropy: 6.1830\n",
      "Iter:   5\tAlpha: 0.100000\t   TRAIN entropy: 4.9538    Words/sec: 10795.1   VALID entropy: 6.1716\n",
      "Iter:   6\tAlpha: 0.050000\t   TRAIN entropy: 4.6940    Words/sec: 10727.7   VALID entropy: 6.0343\n",
      "Iter:   7\tAlpha: 0.025000\t   TRAIN entropy: 4.5409    Words/sec: 10745.1   VALID entropy: 5.9346\n",
      "Iter:   8\tAlpha: 0.012500\t   TRAIN entropy: 4.4550    Words/sec: 10869.2   VALID entropy: 5.8847\n",
      "Iter:   9\tAlpha: 0.006250\t   TRAIN entropy: 4.4077    Words/sec: 10763.1   VALID entropy: 5.8619\n",
      "Iter:  10\tAlpha: 0.003125\t   TRAIN entropy: 4.3815    Words/sec: 10809.2   VALID entropy: 5.8546\n"
     ]
    }
   ],
   "metadata": {}
  },
  {
   "cell_type": "markdown",
   "source": [
    "### 3. Custom hparam training (larger vocab - en_s3)"
   ],
   "metadata": {}
  },
  {
   "cell_type": "code",
   "execution_count": 29,
   "source": [
    "# Training LM on subword units (larger vocab - en_s3)\n",
    "\n",
    "# At what setting of rnnlm, we need the get the PP of baseline? \n",
    "# what is the use of class size\n",
    "# How to increase no. of iterations?\n",
    "\n",
    "#incr hidden -> better pp\n",
    "#incr bptt -> worse pp\n",
    "# if class < vocabsize -> worse pp\n",
    "#incr class -> better pp\n",
    "\n",
    "## May be need to simplify the corpus (in preprocessing)\n",
    "\n",
    "      # -bptt-block 1 \\\n",
    "!cd models/rnnlm/ \\\n",
    "    && ../../rnnlm/rnnlm \\\n",
    "    -train '../../eng_text/en_s3_train.txt' \\\n",
    "    -valid '../../eng_text/en_s3_test.txt' \\\n",
    "    -rnnlm en_s3 \\\n",
    "      -hidden 140 \\\n",
    "      -rand-seed 1 \\\n",
    "      -debug 2 \\\n",
    "      -bptt 3 \\\n",
    "      -class $large_vocab"
   ],
   "outputs": [
    {
     "output_type": "stream",
     "name": "stdout",
     "text": [
      "debug mode: 2\n",
      "train file: ../../eng_text/en_s3_train.txt\n",
      "valid file: ../../eng_text/en_s3_test.txt\n",
      "class size: 2000\n",
      "Hidden layer size: 140\n",
      "BPTT: 3\n",
      "Rand seed: 1\n",
      "rnnlm file: en_s3\n",
      "Starting training using file ../../eng_text/en_s3_train.txt\n",
      "Vocab size: 1829\n",
      "Words in train file: 32645\n",
      "WARNING: number of classes exceeds vocabulary size!\n",
      "Iter:   0\tAlpha: 0.100000\t   TRAIN entropy: 8.3227    Words/sec: 1499.2   VALID entropy: 7.2129\n",
      "Iter:   1\tAlpha: 0.100000\t   TRAIN entropy: 7.6075    Words/sec: 1702.4   VALID entropy: 6.7901\n",
      "Iter:   2\tAlpha: 0.100000\t   TRAIN entropy: 7.1662    Words/sec: 1733.0   VALID entropy: 6.5541\n",
      "Iter:   3\tAlpha: 0.100000\t   TRAIN entropy: 6.8485    Words/sec: 1706.6   VALID entropy: 6.4327\n",
      "Iter:   4\tAlpha: 0.100000\t   TRAIN entropy: 6.5985    Words/sec: 1708.7   VALID entropy: 6.3583\n",
      "Iter:   5\tAlpha: 0.100000\t   TRAIN entropy: 6.3841    Words/sec: 1730.4   VALID entropy: 6.3208\n",
      "Iter:   6\tAlpha: 0.100000\t   TRAIN entropy: 6.1901    Words/sec: 1737.4   VALID entropy: 6.3402\n",
      "Iter:   7\tAlpha: 0.050000\t   TRAIN entropy: 6.1122    Words/sec: 1894.4   VALID entropy: 6.2277\n",
      "Iter:   8\tAlpha: 0.025000\t   TRAIN entropy: 5.9600    Words/sec: 1898.6   VALID entropy: 6.1586\n",
      "Iter:   9\tAlpha: 0.012500\t   TRAIN entropy: 5.8820    Words/sec: 1915.6   VALID entropy: 6.0939\n",
      "Iter:  10\tAlpha: 0.006250\t   TRAIN entropy: 5.8461    Words/sec: 1733.2   VALID entropy: 6.0462\n",
      "Iter:  11\tAlpha: 0.003125\t   TRAIN entropy: 5.8292    Words/sec: 1780.2   VALID entropy: 6.0156\n",
      "Iter:  12\tAlpha: 0.001563\t   TRAIN entropy: 5.8193    Words/sec: 1737.1   VALID entropy: 5.9885\n",
      "Iter:  13\tAlpha: 0.000781\t   TRAIN entropy: 5.8124    Words/sec: 1730.6   VALID entropy: 5.9668\n",
      "Iter:  14\tAlpha: 0.000391\t   TRAIN entropy: 5.8071    Words/sec: 1783.9   VALID entropy: 5.9495\n"
     ]
    }
   ],
   "metadata": {}
  },
  {
   "cell_type": "markdown",
   "source": [
    "## Task 4: Text Generation"
   ],
   "metadata": {}
  },
  {
   "cell_type": "code",
   "execution_count": 30,
   "source": [
    "## 1. Character level granularity\n",
    "\n",
    "!cd models/rnnlm/ \\\n",
    "    && for i in 10 100 1000 10000 100000 1000000 10000000; do \\\n",
    "            ../../rnnlm/rnnlm \\\n",
    "            -rnnlm  en_s1\\\n",
    "            -gen $i \\\n",
    "            -debug 0 \\\n",
    "            >> \"../../eng_text/gen_en_s1/${i}.txt\"; \\\n",
    "       done"
   ],
   "outputs": [],
   "metadata": {}
  },
  {
   "cell_type": "code",
   "execution_count": 31,
   "source": [
    "## 2. subword units (smaller vocab - en_s2)\n",
    "\n",
    "!cd models/rnnlm \\\n",
    "    && for i in 10 100 1000 10000 100000 1000000 10000000; do \\\n",
    "            ../../rnnlm/rnnlm \\\n",
    "            -rnnlm en_s2 \\\n",
    "            -gen $i \\\n",
    "            -debug 0 \\\n",
    "            >> \"../../eng_text/gen_en_s2/${i}.txt\"; \\\n",
    "       done"
   ],
   "outputs": [],
   "metadata": {}
  },
  {
   "cell_type": "code",
   "execution_count": 32,
   "source": [
    "## 3. subword units (larger vocab - en_s3)\n",
    "\n",
    "!cd models/rnnlm \\\n",
    "    && for i in 10 100 1000 10000 100000 1000000 10000000; do \\\n",
    "            ../../rnnlm/rnnlm \\\n",
    "            -rnnlm en_s3 \\\n",
    "            -gen $i \\\n",
    "            -debug 0 \\\n",
    "            >> \"../../eng_text/gen_en_s3/${i}.txt\"; \\\n",
    "       done"
   ],
   "outputs": [],
   "metadata": {}
  },
  {
   "cell_type": "code",
   "execution_count": 33,
   "source": [
    "# back to original (human readable form) from subword units \n",
    "\n",
    "!cd models/sentencepiece/ \\\n",
    "  &&spm_decode \\\n",
    "  --model=en_s1_train.model \\\n",
    "  --input_format=piece \\\n",
    "  < \"../../eng_text/gen_en_s1/100.txt\" \\\n",
    "  > \"../../eng_text/gen_en_s1/decod_100.txt\""
   ],
   "outputs": [],
   "metadata": {}
  },
  {
   "cell_type": "code",
   "execution_count": 34,
   "source": [
    "# back to original (human readable form) from subword units \n",
    "\n",
    "!cd models/sentencepiece/ \\\n",
    "  &&spm_decode \\\n",
    "  --model=en_s2_train.model \\\n",
    "  --input_format=piece \\\n",
    "  < \"../../eng_text/gen_en_s2/100.txt\" \\\n",
    "  > \"../../eng_text/gen_en_s2/decod_100.txt\""
   ],
   "outputs": [],
   "metadata": {}
  },
  {
   "cell_type": "code",
   "execution_count": 35,
   "source": [
    "# back to original (human readable form) from subword units \n",
    "\n",
    "!cd models/sentencepiece/ \\\n",
    "  &&spm_decode \\\n",
    "  --model=en_s3_train.model \\\n",
    "  --input_format=piece \\\n",
    "  < \"../../eng_text/gen_en_s3/100.txt\" \\\n",
    "  > \"../../eng_text/gen_en_s3/decod_100.txt\""
   ],
   "outputs": [],
   "metadata": {}
  },
  {
   "cell_type": "markdown",
   "source": [
    "### From inspection of generated text:\n",
    "* With character level granularity, there is a structure of sentence and many generated words are also real. However, the grammar is very bad and some words doesn't exist in english.\n",
    "* With small subword granularity, there are more real words. There is style of quotes to indicate they are dialogues. It still lacks grammar and most sentences doesn't make sense or a complete meaning.\n",
    "* With larger subword vocabulary, more words are real. We can see more dialogues which even indicate they are said by Alice. Overall, more information or richer meaning is delivered here.\n",
    "\n",
    "The quality of generated text improves as we increase the vocabulary size."
   ],
   "metadata": {}
  },
  {
   "cell_type": "code",
   "execution_count": 67,
   "source": [
    "# decoding all the generated text files\n",
    "\n",
    "!cd models/sentencepiece/ \\\n",
    "    && for i in 10 100 1000 10000 100000 1000000 10000000; do \\\n",
    "        spm_decode \\\n",
    "        --model=en_s1_train.model \\\n",
    "        --input_format=piece \\\n",
    "        < \"../../eng_text/gen_en_s1/${i}.txt\" \\\n",
    "        > \"../../eng_text/gen_en_s1/decod.${i}.txt\"; \\\n",
    "       done\n"
   ],
   "outputs": [],
   "metadata": {}
  },
  {
   "cell_type": "code",
   "execution_count": 68,
   "source": [
    "!cd models/sentencepiece/ \\\n",
    "    && for i in 10 100 1000 10000 100000 1000000 10000000; do \\\n",
    "        spm_decode \\\n",
    "        --model=en_s2_train.model \\\n",
    "        --input_format=piece \\\n",
    "        < \"../../eng_text/gen_en_s2/${i}.txt\" \\\n",
    "        > \"../../eng_text/gen_en_s2/decod.${i}.txt\"; \\\n",
    "       done\n"
   ],
   "outputs": [],
   "metadata": {}
  },
  {
   "cell_type": "code",
   "execution_count": 69,
   "source": [
    "!cd models/sentencepiece/ \\\n",
    "    && for i in 10 100 1000 10000 100000 1000000 10000000; do \\\n",
    "        spm_decode \\\n",
    "        --model=en_s3_train.model \\\n",
    "        --input_format=piece \\\n",
    "        < \"../../eng_text/gen_en_s3/${i}.txt\" \\\n",
    "        > \"../../eng_text/gen_en_s3/decod.${i}.txt\"; \\\n",
    "       done\n"
   ],
   "outputs": [],
   "metadata": {}
  },
  {
   "cell_type": "markdown",
   "source": [
    "## Task 5 OOV comparison"
   ],
   "metadata": {}
  },
  {
   "cell_type": "code",
   "execution_count": 3,
   "source": [
    "# extracting vocabulary\n",
    "train_vocabs = utils.vocab_generator(Path('eng_text/train_eng.txt').open('r').read())\n",
    "test_vocabs = utils.vocab_generator(Path('eng_text/test_eng.txt').open('r').read())\n"
   ],
   "outputs": [],
   "metadata": {}
  },
  {
   "cell_type": "code",
   "execution_count": 4,
   "source": [
    "# characters\n",
    "extra_vocab_ch = {}\n",
    "for path in Path('eng_text/gen_en_s1/').rglob('decod*.txt'):\n",
    "    k = int(path.name.split(\".\")[1])\n",
    "    extra_vocab_ch[k] = utils.vocab_generator(Path(path).open('r').read())"
   ],
   "outputs": [],
   "metadata": {}
  },
  {
   "cell_type": "code",
   "execution_count": 5,
   "source": [
    "# smaller vocab\n",
    "extra_vocab_smV = {}\n",
    "for path in Path('eng_text/gen_en_s2/').rglob('decod*.txt'):\n",
    "    k = int(path.name.split(\".\")[1])\n",
    "    extra_vocab_smV[k] = utils.vocab_generator(Path(path).open('r').read())"
   ],
   "outputs": [],
   "metadata": {}
  },
  {
   "cell_type": "code",
   "execution_count": 6,
   "source": [
    "# larger vocab\n",
    "extra_vocab_lrV = {}\n",
    "for path in Path('eng_text/gen_en_s3/').rglob('decod*.txt'):\n",
    "    k = int(path.name.split(\".\")[1])\n",
    "    extra_vocab_lrV[k] = utils.vocab_generator(Path(path).open('r').read())"
   ],
   "outputs": [],
   "metadata": {}
  },
  {
   "cell_type": "markdown",
   "source": [
    "### 5.1 Calc OOV rate (original corpus)"
   ],
   "metadata": {}
  },
  {
   "cell_type": "code",
   "execution_count": 19,
   "source": [
    "oov_rate = utils.oov_calculator(\n",
    "    train_vocabs,test_vocabs\n",
    ")\n",
    "print(\"OOV rate (original corpus):\", oov_rate)\n",
    "\n",
    "# character level\n",
    "    # including all generated text vocab too\n",
    "    # train_vocabs + list(set([w for v in extra_vocab_ch.values() for w in v])), "
   ],
   "outputs": [
    {
     "output_type": "stream",
     "name": "stdout",
     "text": [
      "OOV rate (original corpus): 0.10734573947110676\n"
     ]
    }
   ],
   "metadata": {}
  },
  {
   "cell_type": "code",
   "execution_count": 17,
   "source": [
    "# # smaller vocabulary subword granularity\n",
    "# oov_rate = utils.oov_calculator(\n",
    "#     test_vocabs\n",
    "# )\n",
    "#     # including all generated text vocab too\n",
    "#     # train_vocabs + list(set([w for v in extra_vocab_smV.values() for w in v])), \n",
    "# print(\"OOV rate (smaller vocab granularity):\", oov_rate)"
   ],
   "outputs": [],
   "metadata": {}
  },
  {
   "cell_type": "code",
   "execution_count": 18,
   "source": [
    "# # larger vocabulary subword granularity\n",
    "# oov_rate = utils.oov_calculator(\n",
    "#     # including all generated text vocab too\n",
    "#     train_vocabs + list(set([w for v in extra_vocab_lrV.values() for w in v])), \n",
    "#     test_vocabs\n",
    "# )\n",
    "# print(\"OOV rate (larger vocab granularity):\", oov_rate)"
   ],
   "outputs": [],
   "metadata": {}
  },
  {
   "cell_type": "markdown",
   "source": [
    "### 5.2 OOV rate cal (k times)"
   ],
   "metadata": {}
  },
  {
   "cell_type": "code",
   "execution_count": 10,
   "source": [
    "# character\n",
    "oov_ch = []\n",
    "for k in range(1,8):\n",
    "    oov_rate = utils.oov_calculator(\n",
    "        train_vocabs + extra_vocab_ch[10**k],\n",
    "        test_vocabs \n",
    "        )\n",
    "    oov_ch.append(oov_rate)\n",
    "\n",
    "print(oov_ch)"
   ],
   "outputs": [
    {
     "output_type": "stream",
     "name": "stdout",
     "text": [
      "[0.10734573947110676, 0.10734573947110676, 0.10734573947110676, 0.10714985308521058, 0.1049951028403526, 0.0901077375122429, 0.07482859941234084]\n"
     ]
    }
   ],
   "metadata": {}
  },
  {
   "cell_type": "code",
   "execution_count": 11,
   "source": [
    "# smaller vocabulary\n",
    "oov_smV = []\n",
    "for k in range(1,8):\n",
    "    oov_rate = utils.oov_calculator(\n",
    "        train_vocabs + extra_vocab_smV[10**k],\n",
    "        test_vocabs \n",
    "        )\n",
    "    oov_smV.append(oov_rate)\n",
    "\n",
    "print(oov_smV)"
   ],
   "outputs": [
    {
     "output_type": "stream",
     "name": "stdout",
     "text": [
      "[0.10734573947110676, 0.10734573947110676, 0.10714985308521058, 0.10636630754162586, 0.09618021547502449, 0.08148873653281097, 0.0703232125367287]\n"
     ]
    }
   ],
   "metadata": {}
  },
  {
   "cell_type": "code",
   "execution_count": 12,
   "source": [
    "# larger vocabulary\n",
    "oov_lrV = []\n",
    "for k in range(1,8):\n",
    "    oov_rate = utils.oov_calculator(\n",
    "        train_vocabs + extra_vocab_lrV[10**k],\n",
    "        test_vocabs \n",
    "        )\n",
    "    oov_lrV.append(oov_rate)\n",
    "\n",
    "print(oov_lrV)"
   ],
   "outputs": [
    {
     "output_type": "stream",
     "name": "stdout",
     "text": [
      "[0.10734573947110676, 0.10734573947110676, 0.10714985308521058, 0.10617042115572968, 0.10029382957884427, 0.0920666013712047, 0.07933398628795299]\n"
     ]
    }
   ],
   "metadata": {}
  },
  {
   "cell_type": "markdown",
   "source": [
    "### 5.3 Plots"
   ],
   "metadata": {}
  },
  {
   "cell_type": "code",
   "execution_count": 13,
   "source": [
    "# character \n",
    "x = range(1,8)\n",
    "\n",
    "plt.bar(x, oov_ch)\n",
    "plt.xlabel('k')\n",
    "plt.ylabel('OOV rate')\n",
    "plt.title(\"OOV: English Corpus (character granularity)\" )\n",
    "plt.show()\n"
   ],
   "outputs": [
    {
     "output_type": "display_data",
     "data": {
      "text/plain": [
       "<Figure size 432x288 with 1 Axes>"
      ],
      "image/svg+xml": "<?xml version=\"1.0\" encoding=\"utf-8\" standalone=\"no\"?>\n<!DOCTYPE svg PUBLIC \"-//W3C//DTD SVG 1.1//EN\"\n  \"http://www.w3.org/Graphics/SVG/1.1/DTD/svg11.dtd\">\n<!-- Created with matplotlib (https://matplotlib.org/) -->\n<svg height=\"277.314375pt\" version=\"1.1\" viewBox=\"0 0 392.14375 277.314375\" width=\"392.14375pt\" xmlns=\"http://www.w3.org/2000/svg\" xmlns:xlink=\"http://www.w3.org/1999/xlink\">\n <defs>\n  <style type=\"text/css\">\n*{stroke-linecap:butt;stroke-linejoin:round;}\n  </style>\n </defs>\n <g id=\"figure_1\">\n  <g id=\"patch_1\">\n   <path d=\"M 0 277.314375 \nL 392.14375 277.314375 \nL 392.14375 0 \nL 0 0 \nz\n\" style=\"fill:none;\"/>\n  </g>\n  <g id=\"axes_1\">\n   <g id=\"patch_2\">\n    <path d=\"M 50.14375 239.758125 \nL 384.94375 239.758125 \nL 384.94375 22.318125 \nL 50.14375 22.318125 \nz\n\" style=\"fill:#ffffff;\"/>\n   </g>\n   <g id=\"patch_3\">\n    <path clip-path=\"url(#p8e291a7d0b)\" d=\"M 65.361932 239.758125 \nL 101.169418 239.758125 \nL 101.169418 32.672411 \nL 65.361932 32.672411 \nz\n\" style=\"fill:#1f77b4;\"/>\n   </g>\n   <g id=\"patch_4\">\n    <path clip-path=\"url(#p8e291a7d0b)\" d=\"M 110.12129 239.758125 \nL 145.928777 239.758125 \nL 145.928777 32.672411 \nL 110.12129 32.672411 \nz\n\" style=\"fill:#1f77b4;\"/>\n   </g>\n   <g id=\"patch_5\">\n    <path clip-path=\"url(#p8e291a7d0b)\" d=\"M 154.880648 239.758125 \nL 190.688135 239.758125 \nL 190.688135 32.672411 \nL 154.880648 32.672411 \nz\n\" style=\"fill:#1f77b4;\"/>\n   </g>\n   <g id=\"patch_6\">\n    <path clip-path=\"url(#p8e291a7d0b)\" d=\"M 199.640007 239.758125 \nL 235.447493 239.758125 \nL 235.447493 33.050304 \nL 199.640007 33.050304 \nz\n\" style=\"fill:#1f77b4;\"/>\n   </g>\n   <g id=\"patch_7\">\n    <path clip-path=\"url(#p8e291a7d0b)\" d=\"M 244.399365 239.758125 \nL 280.206852 239.758125 \nL 280.206852 37.207134 \nL 244.399365 37.207134 \nz\n\" style=\"fill:#1f77b4;\"/>\n   </g>\n   <g id=\"patch_8\">\n    <path clip-path=\"url(#p8e291a7d0b)\" d=\"M 289.158723 239.758125 \nL 324.96621 239.758125 \nL 324.96621 65.927051 \nL 289.158723 65.927051 \nz\n\" style=\"fill:#1f77b4;\"/>\n   </g>\n   <g id=\"patch_9\">\n    <path clip-path=\"url(#p8e291a7d0b)\" d=\"M 333.918082 239.758125 \nL 369.725568 239.758125 \nL 369.725568 95.402755 \nL 333.918082 95.402755 \nz\n\" style=\"fill:#1f77b4;\"/>\n   </g>\n   <g id=\"matplotlib.axis_1\">\n    <g id=\"xtick_1\">\n     <g id=\"line2d_1\">\n      <defs>\n       <path d=\"M 0 0 \nL 0 3.5 \n\" id=\"m9f7fa680bc\" style=\"stroke:#000000;stroke-width:0.8;\"/>\n      </defs>\n      <g>\n       <use style=\"stroke:#000000;stroke-width:0.8;\" x=\"83.265675\" xlink:href=\"#m9f7fa680bc\" y=\"239.758125\"/>\n      </g>\n     </g>\n     <g id=\"text_1\">\n      <!-- 1 -->\n      <defs>\n       <path d=\"M 12.40625 8.296875 \nL 28.515625 8.296875 \nL 28.515625 63.921875 \nL 10.984375 60.40625 \nL 10.984375 69.390625 \nL 28.421875 72.90625 \nL 38.28125 72.90625 \nL 38.28125 8.296875 \nL 54.390625 8.296875 \nL 54.390625 0 \nL 12.40625 0 \nz\n\" id=\"DejaVuSans-49\"/>\n      </defs>\n      <g transform=\"translate(80.084425 254.356562)scale(0.1 -0.1)\">\n       <use xlink:href=\"#DejaVuSans-49\"/>\n      </g>\n     </g>\n    </g>\n    <g id=\"xtick_2\">\n     <g id=\"line2d_2\">\n      <g>\n       <use style=\"stroke:#000000;stroke-width:0.8;\" x=\"128.025033\" xlink:href=\"#m9f7fa680bc\" y=\"239.758125\"/>\n      </g>\n     </g>\n     <g id=\"text_2\">\n      <!-- 2 -->\n      <defs>\n       <path d=\"M 19.1875 8.296875 \nL 53.609375 8.296875 \nL 53.609375 0 \nL 7.328125 0 \nL 7.328125 8.296875 \nQ 12.9375 14.109375 22.625 23.890625 \nQ 32.328125 33.6875 34.8125 36.53125 \nQ 39.546875 41.84375 41.421875 45.53125 \nQ 43.3125 49.21875 43.3125 52.78125 \nQ 43.3125 58.59375 39.234375 62.25 \nQ 35.15625 65.921875 28.609375 65.921875 \nQ 23.96875 65.921875 18.8125 64.3125 \nQ 13.671875 62.703125 7.8125 59.421875 \nL 7.8125 69.390625 \nQ 13.765625 71.78125 18.9375 73 \nQ 24.125 74.21875 28.421875 74.21875 \nQ 39.75 74.21875 46.484375 68.546875 \nQ 53.21875 62.890625 53.21875 53.421875 \nQ 53.21875 48.921875 51.53125 44.890625 \nQ 49.859375 40.875 45.40625 35.40625 \nQ 44.1875 33.984375 37.640625 27.21875 \nQ 31.109375 20.453125 19.1875 8.296875 \nz\n\" id=\"DejaVuSans-50\"/>\n      </defs>\n      <g transform=\"translate(124.843783 254.356562)scale(0.1 -0.1)\">\n       <use xlink:href=\"#DejaVuSans-50\"/>\n      </g>\n     </g>\n    </g>\n    <g id=\"xtick_3\">\n     <g id=\"line2d_3\">\n      <g>\n       <use style=\"stroke:#000000;stroke-width:0.8;\" x=\"172.784392\" xlink:href=\"#m9f7fa680bc\" y=\"239.758125\"/>\n      </g>\n     </g>\n     <g id=\"text_3\">\n      <!-- 3 -->\n      <defs>\n       <path d=\"M 40.578125 39.3125 \nQ 47.65625 37.796875 51.625 33 \nQ 55.609375 28.21875 55.609375 21.1875 \nQ 55.609375 10.40625 48.1875 4.484375 \nQ 40.765625 -1.421875 27.09375 -1.421875 \nQ 22.515625 -1.421875 17.65625 -0.515625 \nQ 12.796875 0.390625 7.625 2.203125 \nL 7.625 11.71875 \nQ 11.71875 9.328125 16.59375 8.109375 \nQ 21.484375 6.890625 26.8125 6.890625 \nQ 36.078125 6.890625 40.9375 10.546875 \nQ 45.796875 14.203125 45.796875 21.1875 \nQ 45.796875 27.640625 41.28125 31.265625 \nQ 36.765625 34.90625 28.71875 34.90625 \nL 20.21875 34.90625 \nL 20.21875 43.015625 \nL 29.109375 43.015625 \nQ 36.375 43.015625 40.234375 45.921875 \nQ 44.09375 48.828125 44.09375 54.296875 \nQ 44.09375 59.90625 40.109375 62.90625 \nQ 36.140625 65.921875 28.71875 65.921875 \nQ 24.65625 65.921875 20.015625 65.03125 \nQ 15.375 64.15625 9.8125 62.3125 \nL 9.8125 71.09375 \nQ 15.4375 72.65625 20.34375 73.4375 \nQ 25.25 74.21875 29.59375 74.21875 \nQ 40.828125 74.21875 47.359375 69.109375 \nQ 53.90625 64.015625 53.90625 55.328125 \nQ 53.90625 49.265625 50.4375 45.09375 \nQ 46.96875 40.921875 40.578125 39.3125 \nz\n\" id=\"DejaVuSans-51\"/>\n      </defs>\n      <g transform=\"translate(169.603142 254.356562)scale(0.1 -0.1)\">\n       <use xlink:href=\"#DejaVuSans-51\"/>\n      </g>\n     </g>\n    </g>\n    <g id=\"xtick_4\">\n     <g id=\"line2d_4\">\n      <g>\n       <use style=\"stroke:#000000;stroke-width:0.8;\" x=\"217.54375\" xlink:href=\"#m9f7fa680bc\" y=\"239.758125\"/>\n      </g>\n     </g>\n     <g id=\"text_4\">\n      <!-- 4 -->\n      <defs>\n       <path d=\"M 37.796875 64.3125 \nL 12.890625 25.390625 \nL 37.796875 25.390625 \nz\nM 35.203125 72.90625 \nL 47.609375 72.90625 \nL 47.609375 25.390625 \nL 58.015625 25.390625 \nL 58.015625 17.1875 \nL 47.609375 17.1875 \nL 47.609375 0 \nL 37.796875 0 \nL 37.796875 17.1875 \nL 4.890625 17.1875 \nL 4.890625 26.703125 \nz\n\" id=\"DejaVuSans-52\"/>\n      </defs>\n      <g transform=\"translate(214.3625 254.356562)scale(0.1 -0.1)\">\n       <use xlink:href=\"#DejaVuSans-52\"/>\n      </g>\n     </g>\n    </g>\n    <g id=\"xtick_5\">\n     <g id=\"line2d_5\">\n      <g>\n       <use style=\"stroke:#000000;stroke-width:0.8;\" x=\"262.303108\" xlink:href=\"#m9f7fa680bc\" y=\"239.758125\"/>\n      </g>\n     </g>\n     <g id=\"text_5\">\n      <!-- 5 -->\n      <defs>\n       <path d=\"M 10.796875 72.90625 \nL 49.515625 72.90625 \nL 49.515625 64.59375 \nL 19.828125 64.59375 \nL 19.828125 46.734375 \nQ 21.96875 47.46875 24.109375 47.828125 \nQ 26.265625 48.1875 28.421875 48.1875 \nQ 40.625 48.1875 47.75 41.5 \nQ 54.890625 34.8125 54.890625 23.390625 \nQ 54.890625 11.625 47.5625 5.09375 \nQ 40.234375 -1.421875 26.90625 -1.421875 \nQ 22.3125 -1.421875 17.546875 -0.640625 \nQ 12.796875 0.140625 7.71875 1.703125 \nL 7.71875 11.625 \nQ 12.109375 9.234375 16.796875 8.0625 \nQ 21.484375 6.890625 26.703125 6.890625 \nQ 35.15625 6.890625 40.078125 11.328125 \nQ 45.015625 15.765625 45.015625 23.390625 \nQ 45.015625 31 40.078125 35.4375 \nQ 35.15625 39.890625 26.703125 39.890625 \nQ 22.75 39.890625 18.8125 39.015625 \nQ 14.890625 38.140625 10.796875 36.28125 \nz\n\" id=\"DejaVuSans-53\"/>\n      </defs>\n      <g transform=\"translate(259.121858 254.356562)scale(0.1 -0.1)\">\n       <use xlink:href=\"#DejaVuSans-53\"/>\n      </g>\n     </g>\n    </g>\n    <g id=\"xtick_6\">\n     <g id=\"line2d_6\">\n      <g>\n       <use style=\"stroke:#000000;stroke-width:0.8;\" x=\"307.062467\" xlink:href=\"#m9f7fa680bc\" y=\"239.758125\"/>\n      </g>\n     </g>\n     <g id=\"text_6\">\n      <!-- 6 -->\n      <defs>\n       <path d=\"M 33.015625 40.375 \nQ 26.375 40.375 22.484375 35.828125 \nQ 18.609375 31.296875 18.609375 23.390625 \nQ 18.609375 15.53125 22.484375 10.953125 \nQ 26.375 6.390625 33.015625 6.390625 \nQ 39.65625 6.390625 43.53125 10.953125 \nQ 47.40625 15.53125 47.40625 23.390625 \nQ 47.40625 31.296875 43.53125 35.828125 \nQ 39.65625 40.375 33.015625 40.375 \nz\nM 52.59375 71.296875 \nL 52.59375 62.3125 \nQ 48.875 64.0625 45.09375 64.984375 \nQ 41.3125 65.921875 37.59375 65.921875 \nQ 27.828125 65.921875 22.671875 59.328125 \nQ 17.53125 52.734375 16.796875 39.40625 \nQ 19.671875 43.65625 24.015625 45.921875 \nQ 28.375 48.1875 33.59375 48.1875 \nQ 44.578125 48.1875 50.953125 41.515625 \nQ 57.328125 34.859375 57.328125 23.390625 \nQ 57.328125 12.15625 50.6875 5.359375 \nQ 44.046875 -1.421875 33.015625 -1.421875 \nQ 20.359375 -1.421875 13.671875 8.265625 \nQ 6.984375 17.96875 6.984375 36.375 \nQ 6.984375 53.65625 15.1875 63.9375 \nQ 23.390625 74.21875 37.203125 74.21875 \nQ 40.921875 74.21875 44.703125 73.484375 \nQ 48.484375 72.75 52.59375 71.296875 \nz\n\" id=\"DejaVuSans-54\"/>\n      </defs>\n      <g transform=\"translate(303.881217 254.356562)scale(0.1 -0.1)\">\n       <use xlink:href=\"#DejaVuSans-54\"/>\n      </g>\n     </g>\n    </g>\n    <g id=\"xtick_7\">\n     <g id=\"line2d_7\">\n      <g>\n       <use style=\"stroke:#000000;stroke-width:0.8;\" x=\"351.821825\" xlink:href=\"#m9f7fa680bc\" y=\"239.758125\"/>\n      </g>\n     </g>\n     <g id=\"text_7\">\n      <!-- 7 -->\n      <defs>\n       <path d=\"M 8.203125 72.90625 \nL 55.078125 72.90625 \nL 55.078125 68.703125 \nL 28.609375 0 \nL 18.3125 0 \nL 43.21875 64.59375 \nL 8.203125 64.59375 \nz\n\" id=\"DejaVuSans-55\"/>\n      </defs>\n      <g transform=\"translate(348.640575 254.356562)scale(0.1 -0.1)\">\n       <use xlink:href=\"#DejaVuSans-55\"/>\n      </g>\n     </g>\n    </g>\n    <g id=\"text_8\">\n     <!-- k -->\n     <defs>\n      <path d=\"M 9.078125 75.984375 \nL 18.109375 75.984375 \nL 18.109375 31.109375 \nL 44.921875 54.6875 \nL 56.390625 54.6875 \nL 27.390625 29.109375 \nL 57.625 0 \nL 45.90625 0 \nL 18.109375 26.703125 \nL 18.109375 0 \nL 9.078125 0 \nz\n\" id=\"DejaVuSans-107\"/>\n     </defs>\n     <g transform=\"translate(214.648438 268.034687)scale(0.1 -0.1)\">\n      <use xlink:href=\"#DejaVuSans-107\"/>\n     </g>\n    </g>\n   </g>\n   <g id=\"matplotlib.axis_2\">\n    <g id=\"ytick_1\">\n     <g id=\"line2d_8\">\n      <defs>\n       <path d=\"M 0 0 \nL -3.5 0 \n\" id=\"m5295fd5734\" style=\"stroke:#000000;stroke-width:0.8;\"/>\n      </defs>\n      <g>\n       <use style=\"stroke:#000000;stroke-width:0.8;\" x=\"50.14375\" xlink:href=\"#m5295fd5734\" y=\"239.758125\"/>\n      </g>\n     </g>\n     <g id=\"text_9\">\n      <!-- 0.00 -->\n      <defs>\n       <path d=\"M 31.78125 66.40625 \nQ 24.171875 66.40625 20.328125 58.90625 \nQ 16.5 51.421875 16.5 36.375 \nQ 16.5 21.390625 20.328125 13.890625 \nQ 24.171875 6.390625 31.78125 6.390625 \nQ 39.453125 6.390625 43.28125 13.890625 \nQ 47.125 21.390625 47.125 36.375 \nQ 47.125 51.421875 43.28125 58.90625 \nQ 39.453125 66.40625 31.78125 66.40625 \nz\nM 31.78125 74.21875 \nQ 44.046875 74.21875 50.515625 64.515625 \nQ 56.984375 54.828125 56.984375 36.375 \nQ 56.984375 17.96875 50.515625 8.265625 \nQ 44.046875 -1.421875 31.78125 -1.421875 \nQ 19.53125 -1.421875 13.0625 8.265625 \nQ 6.59375 17.96875 6.59375 36.375 \nQ 6.59375 54.828125 13.0625 64.515625 \nQ 19.53125 74.21875 31.78125 74.21875 \nz\n\" id=\"DejaVuSans-48\"/>\n       <path d=\"M 10.6875 12.40625 \nL 21 12.40625 \nL 21 0 \nL 10.6875 0 \nz\n\" id=\"DejaVuSans-46\"/>\n      </defs>\n      <g transform=\"translate(20.878125 243.557344)scale(0.1 -0.1)\">\n       <use xlink:href=\"#DejaVuSans-48\"/>\n       <use x=\"63.623047\" xlink:href=\"#DejaVuSans-46\"/>\n       <use x=\"95.410156\" xlink:href=\"#DejaVuSans-48\"/>\n       <use x=\"159.033203\" xlink:href=\"#DejaVuSans-48\"/>\n      </g>\n     </g>\n    </g>\n    <g id=\"ytick_2\">\n     <g id=\"line2d_9\">\n      <g>\n       <use style=\"stroke:#000000;stroke-width:0.8;\" x=\"50.14375\" xlink:href=\"#m5295fd5734\" y=\"201.175184\"/>\n      </g>\n     </g>\n     <g id=\"text_10\">\n      <!-- 0.02 -->\n      <g transform=\"translate(20.878125 204.974403)scale(0.1 -0.1)\">\n       <use xlink:href=\"#DejaVuSans-48\"/>\n       <use x=\"63.623047\" xlink:href=\"#DejaVuSans-46\"/>\n       <use x=\"95.410156\" xlink:href=\"#DejaVuSans-48\"/>\n       <use x=\"159.033203\" xlink:href=\"#DejaVuSans-50\"/>\n      </g>\n     </g>\n    </g>\n    <g id=\"ytick_3\">\n     <g id=\"line2d_10\">\n      <g>\n       <use style=\"stroke:#000000;stroke-width:0.8;\" x=\"50.14375\" xlink:href=\"#m5295fd5734\" y=\"162.592244\"/>\n      </g>\n     </g>\n     <g id=\"text_11\">\n      <!-- 0.04 -->\n      <g transform=\"translate(20.878125 166.391463)scale(0.1 -0.1)\">\n       <use xlink:href=\"#DejaVuSans-48\"/>\n       <use x=\"63.623047\" xlink:href=\"#DejaVuSans-46\"/>\n       <use x=\"95.410156\" xlink:href=\"#DejaVuSans-48\"/>\n       <use x=\"159.033203\" xlink:href=\"#DejaVuSans-52\"/>\n      </g>\n     </g>\n    </g>\n    <g id=\"ytick_4\">\n     <g id=\"line2d_11\">\n      <g>\n       <use style=\"stroke:#000000;stroke-width:0.8;\" x=\"50.14375\" xlink:href=\"#m5295fd5734\" y=\"124.009303\"/>\n      </g>\n     </g>\n     <g id=\"text_12\">\n      <!-- 0.06 -->\n      <g transform=\"translate(20.878125 127.808522)scale(0.1 -0.1)\">\n       <use xlink:href=\"#DejaVuSans-48\"/>\n       <use x=\"63.623047\" xlink:href=\"#DejaVuSans-46\"/>\n       <use x=\"95.410156\" xlink:href=\"#DejaVuSans-48\"/>\n       <use x=\"159.033203\" xlink:href=\"#DejaVuSans-54\"/>\n      </g>\n     </g>\n    </g>\n    <g id=\"ytick_5\">\n     <g id=\"line2d_12\">\n      <g>\n       <use style=\"stroke:#000000;stroke-width:0.8;\" x=\"50.14375\" xlink:href=\"#m5295fd5734\" y=\"85.426363\"/>\n      </g>\n     </g>\n     <g id=\"text_13\">\n      <!-- 0.08 -->\n      <defs>\n       <path d=\"M 31.78125 34.625 \nQ 24.75 34.625 20.71875 30.859375 \nQ 16.703125 27.09375 16.703125 20.515625 \nQ 16.703125 13.921875 20.71875 10.15625 \nQ 24.75 6.390625 31.78125 6.390625 \nQ 38.8125 6.390625 42.859375 10.171875 \nQ 46.921875 13.96875 46.921875 20.515625 \nQ 46.921875 27.09375 42.890625 30.859375 \nQ 38.875 34.625 31.78125 34.625 \nz\nM 21.921875 38.8125 \nQ 15.578125 40.375 12.03125 44.71875 \nQ 8.5 49.078125 8.5 55.328125 \nQ 8.5 64.0625 14.71875 69.140625 \nQ 20.953125 74.21875 31.78125 74.21875 \nQ 42.671875 74.21875 48.875 69.140625 \nQ 55.078125 64.0625 55.078125 55.328125 \nQ 55.078125 49.078125 51.53125 44.71875 \nQ 48 40.375 41.703125 38.8125 \nQ 48.828125 37.15625 52.796875 32.3125 \nQ 56.78125 27.484375 56.78125 20.515625 \nQ 56.78125 9.90625 50.3125 4.234375 \nQ 43.84375 -1.421875 31.78125 -1.421875 \nQ 19.734375 -1.421875 13.25 4.234375 \nQ 6.78125 9.90625 6.78125 20.515625 \nQ 6.78125 27.484375 10.78125 32.3125 \nQ 14.796875 37.15625 21.921875 38.8125 \nz\nM 18.3125 54.390625 \nQ 18.3125 48.734375 21.84375 45.5625 \nQ 25.390625 42.390625 31.78125 42.390625 \nQ 38.140625 42.390625 41.71875 45.5625 \nQ 45.3125 48.734375 45.3125 54.390625 \nQ 45.3125 60.0625 41.71875 63.234375 \nQ 38.140625 66.40625 31.78125 66.40625 \nQ 25.390625 66.40625 21.84375 63.234375 \nQ 18.3125 60.0625 18.3125 54.390625 \nz\n\" id=\"DejaVuSans-56\"/>\n      </defs>\n      <g transform=\"translate(20.878125 89.225581)scale(0.1 -0.1)\">\n       <use xlink:href=\"#DejaVuSans-48\"/>\n       <use x=\"63.623047\" xlink:href=\"#DejaVuSans-46\"/>\n       <use x=\"95.410156\" xlink:href=\"#DejaVuSans-48\"/>\n       <use x=\"159.033203\" xlink:href=\"#DejaVuSans-56\"/>\n      </g>\n     </g>\n    </g>\n    <g id=\"ytick_6\">\n     <g id=\"line2d_13\">\n      <g>\n       <use style=\"stroke:#000000;stroke-width:0.8;\" x=\"50.14375\" xlink:href=\"#m5295fd5734\" y=\"46.843422\"/>\n      </g>\n     </g>\n     <g id=\"text_14\">\n      <!-- 0.10 -->\n      <g transform=\"translate(20.878125 50.642641)scale(0.1 -0.1)\">\n       <use xlink:href=\"#DejaVuSans-48\"/>\n       <use x=\"63.623047\" xlink:href=\"#DejaVuSans-46\"/>\n       <use x=\"95.410156\" xlink:href=\"#DejaVuSans-49\"/>\n       <use x=\"159.033203\" xlink:href=\"#DejaVuSans-48\"/>\n      </g>\n     </g>\n    </g>\n    <g id=\"text_15\">\n     <!-- OOV rate -->\n     <defs>\n      <path d=\"M 39.40625 66.21875 \nQ 28.65625 66.21875 22.328125 58.203125 \nQ 16.015625 50.203125 16.015625 36.375 \nQ 16.015625 22.609375 22.328125 14.59375 \nQ 28.65625 6.59375 39.40625 6.59375 \nQ 50.140625 6.59375 56.421875 14.59375 \nQ 62.703125 22.609375 62.703125 36.375 \nQ 62.703125 50.203125 56.421875 58.203125 \nQ 50.140625 66.21875 39.40625 66.21875 \nz\nM 39.40625 74.21875 \nQ 54.734375 74.21875 63.90625 63.9375 \nQ 73.09375 53.65625 73.09375 36.375 \nQ 73.09375 19.140625 63.90625 8.859375 \nQ 54.734375 -1.421875 39.40625 -1.421875 \nQ 24.03125 -1.421875 14.8125 8.828125 \nQ 5.609375 19.09375 5.609375 36.375 \nQ 5.609375 53.65625 14.8125 63.9375 \nQ 24.03125 74.21875 39.40625 74.21875 \nz\n\" id=\"DejaVuSans-79\"/>\n      <path d=\"M 28.609375 0 \nL 0.78125 72.90625 \nL 11.078125 72.90625 \nL 34.1875 11.53125 \nL 57.328125 72.90625 \nL 67.578125 72.90625 \nL 39.796875 0 \nz\n\" id=\"DejaVuSans-86\"/>\n      <path id=\"DejaVuSans-32\"/>\n      <path d=\"M 41.109375 46.296875 \nQ 39.59375 47.171875 37.8125 47.578125 \nQ 36.03125 48 33.890625 48 \nQ 26.265625 48 22.1875 43.046875 \nQ 18.109375 38.09375 18.109375 28.8125 \nL 18.109375 0 \nL 9.078125 0 \nL 9.078125 54.6875 \nL 18.109375 54.6875 \nL 18.109375 46.1875 \nQ 20.953125 51.171875 25.484375 53.578125 \nQ 30.03125 56 36.53125 56 \nQ 37.453125 56 38.578125 55.875 \nQ 39.703125 55.765625 41.0625 55.515625 \nz\n\" id=\"DejaVuSans-114\"/>\n      <path d=\"M 34.28125 27.484375 \nQ 23.390625 27.484375 19.1875 25 \nQ 14.984375 22.515625 14.984375 16.5 \nQ 14.984375 11.71875 18.140625 8.90625 \nQ 21.296875 6.109375 26.703125 6.109375 \nQ 34.1875 6.109375 38.703125 11.40625 \nQ 43.21875 16.703125 43.21875 25.484375 \nL 43.21875 27.484375 \nz\nM 52.203125 31.203125 \nL 52.203125 0 \nL 43.21875 0 \nL 43.21875 8.296875 \nQ 40.140625 3.328125 35.546875 0.953125 \nQ 30.953125 -1.421875 24.3125 -1.421875 \nQ 15.921875 -1.421875 10.953125 3.296875 \nQ 6 8.015625 6 15.921875 \nQ 6 25.140625 12.171875 29.828125 \nQ 18.359375 34.515625 30.609375 34.515625 \nL 43.21875 34.515625 \nL 43.21875 35.40625 \nQ 43.21875 41.609375 39.140625 45 \nQ 35.0625 48.390625 27.6875 48.390625 \nQ 23 48.390625 18.546875 47.265625 \nQ 14.109375 46.140625 10.015625 43.890625 \nL 10.015625 52.203125 \nQ 14.9375 54.109375 19.578125 55.046875 \nQ 24.21875 56 28.609375 56 \nQ 40.484375 56 46.34375 49.84375 \nQ 52.203125 43.703125 52.203125 31.203125 \nz\n\" id=\"DejaVuSans-97\"/>\n      <path d=\"M 18.3125 70.21875 \nL 18.3125 54.6875 \nL 36.8125 54.6875 \nL 36.8125 47.703125 \nL 18.3125 47.703125 \nL 18.3125 18.015625 \nQ 18.3125 11.328125 20.140625 9.421875 \nQ 21.96875 7.515625 27.59375 7.515625 \nL 36.8125 7.515625 \nL 36.8125 0 \nL 27.59375 0 \nQ 17.1875 0 13.234375 3.875 \nQ 9.28125 7.765625 9.28125 18.015625 \nL 9.28125 47.703125 \nL 2.6875 47.703125 \nL 2.6875 54.6875 \nL 9.28125 54.6875 \nL 9.28125 70.21875 \nz\n\" id=\"DejaVuSans-116\"/>\n      <path d=\"M 56.203125 29.59375 \nL 56.203125 25.203125 \nL 14.890625 25.203125 \nQ 15.484375 15.921875 20.484375 11.0625 \nQ 25.484375 6.203125 34.421875 6.203125 \nQ 39.59375 6.203125 44.453125 7.46875 \nQ 49.3125 8.734375 54.109375 11.28125 \nL 54.109375 2.78125 \nQ 49.265625 0.734375 44.1875 -0.34375 \nQ 39.109375 -1.421875 33.890625 -1.421875 \nQ 20.796875 -1.421875 13.15625 6.1875 \nQ 5.515625 13.8125 5.515625 26.8125 \nQ 5.515625 40.234375 12.765625 48.109375 \nQ 20.015625 56 32.328125 56 \nQ 43.359375 56 49.78125 48.890625 \nQ 56.203125 41.796875 56.203125 29.59375 \nz\nM 47.21875 32.234375 \nQ 47.125 39.59375 43.09375 43.984375 \nQ 39.0625 48.390625 32.421875 48.390625 \nQ 24.90625 48.390625 20.390625 44.140625 \nQ 15.875 39.890625 15.1875 32.171875 \nz\n\" id=\"DejaVuSans-101\"/>\n     </defs>\n     <g transform=\"translate(14.798438 154.074844)rotate(-90)scale(0.1 -0.1)\">\n      <use xlink:href=\"#DejaVuSans-79\"/>\n      <use x=\"78.710938\" xlink:href=\"#DejaVuSans-79\"/>\n      <use x=\"157.40625\" xlink:href=\"#DejaVuSans-86\"/>\n      <use x=\"225.814453\" xlink:href=\"#DejaVuSans-32\"/>\n      <use x=\"257.601562\" xlink:href=\"#DejaVuSans-114\"/>\n      <use x=\"298.714844\" xlink:href=\"#DejaVuSans-97\"/>\n      <use x=\"359.994141\" xlink:href=\"#DejaVuSans-116\"/>\n      <use x=\"399.203125\" xlink:href=\"#DejaVuSans-101\"/>\n     </g>\n    </g>\n   </g>\n   <g id=\"patch_10\">\n    <path d=\"M 50.14375 239.758125 \nL 50.14375 22.318125 \n\" style=\"fill:none;stroke:#000000;stroke-linecap:square;stroke-linejoin:miter;stroke-width:0.8;\"/>\n   </g>\n   <g id=\"patch_11\">\n    <path d=\"M 384.94375 239.758125 \nL 384.94375 22.318125 \n\" style=\"fill:none;stroke:#000000;stroke-linecap:square;stroke-linejoin:miter;stroke-width:0.8;\"/>\n   </g>\n   <g id=\"patch_12\">\n    <path d=\"M 50.14375 239.758125 \nL 384.94375 239.758125 \n\" style=\"fill:none;stroke:#000000;stroke-linecap:square;stroke-linejoin:miter;stroke-width:0.8;\"/>\n   </g>\n   <g id=\"patch_13\">\n    <path d=\"M 50.14375 22.318125 \nL 384.94375 22.318125 \n\" style=\"fill:none;stroke:#000000;stroke-linecap:square;stroke-linejoin:miter;stroke-width:0.8;\"/>\n   </g>\n   <g id=\"text_16\">\n    <!-- OOV: English Corpus (character granularity) -->\n    <defs>\n     <path d=\"M 11.71875 12.40625 \nL 22.015625 12.40625 \nL 22.015625 0 \nL 11.71875 0 \nz\nM 11.71875 51.703125 \nL 22.015625 51.703125 \nL 22.015625 39.3125 \nL 11.71875 39.3125 \nz\n\" id=\"DejaVuSans-58\"/>\n     <path d=\"M 9.8125 72.90625 \nL 55.90625 72.90625 \nL 55.90625 64.59375 \nL 19.671875 64.59375 \nL 19.671875 43.015625 \nL 54.390625 43.015625 \nL 54.390625 34.71875 \nL 19.671875 34.71875 \nL 19.671875 8.296875 \nL 56.78125 8.296875 \nL 56.78125 0 \nL 9.8125 0 \nz\n\" id=\"DejaVuSans-69\"/>\n     <path d=\"M 54.890625 33.015625 \nL 54.890625 0 \nL 45.90625 0 \nL 45.90625 32.71875 \nQ 45.90625 40.484375 42.875 44.328125 \nQ 39.84375 48.1875 33.796875 48.1875 \nQ 26.515625 48.1875 22.3125 43.546875 \nQ 18.109375 38.921875 18.109375 30.90625 \nL 18.109375 0 \nL 9.078125 0 \nL 9.078125 54.6875 \nL 18.109375 54.6875 \nL 18.109375 46.1875 \nQ 21.34375 51.125 25.703125 53.5625 \nQ 30.078125 56 35.796875 56 \nQ 45.21875 56 50.046875 50.171875 \nQ 54.890625 44.34375 54.890625 33.015625 \nz\n\" id=\"DejaVuSans-110\"/>\n     <path d=\"M 45.40625 27.984375 \nQ 45.40625 37.75 41.375 43.109375 \nQ 37.359375 48.484375 30.078125 48.484375 \nQ 22.859375 48.484375 18.828125 43.109375 \nQ 14.796875 37.75 14.796875 27.984375 \nQ 14.796875 18.265625 18.828125 12.890625 \nQ 22.859375 7.515625 30.078125 7.515625 \nQ 37.359375 7.515625 41.375 12.890625 \nQ 45.40625 18.265625 45.40625 27.984375 \nz\nM 54.390625 6.78125 \nQ 54.390625 -7.171875 48.1875 -13.984375 \nQ 42 -20.796875 29.203125 -20.796875 \nQ 24.46875 -20.796875 20.265625 -20.09375 \nQ 16.0625 -19.390625 12.109375 -17.921875 \nL 12.109375 -9.1875 \nQ 16.0625 -11.328125 19.921875 -12.34375 \nQ 23.78125 -13.375 27.78125 -13.375 \nQ 36.625 -13.375 41.015625 -8.765625 \nQ 45.40625 -4.15625 45.40625 5.171875 \nL 45.40625 9.625 \nQ 42.625 4.78125 38.28125 2.390625 \nQ 33.9375 0 27.875 0 \nQ 17.828125 0 11.671875 7.65625 \nQ 5.515625 15.328125 5.515625 27.984375 \nQ 5.515625 40.671875 11.671875 48.328125 \nQ 17.828125 56 27.875 56 \nQ 33.9375 56 38.28125 53.609375 \nQ 42.625 51.21875 45.40625 46.390625 \nL 45.40625 54.6875 \nL 54.390625 54.6875 \nz\n\" id=\"DejaVuSans-103\"/>\n     <path d=\"M 9.421875 75.984375 \nL 18.40625 75.984375 \nL 18.40625 0 \nL 9.421875 0 \nz\n\" id=\"DejaVuSans-108\"/>\n     <path d=\"M 9.421875 54.6875 \nL 18.40625 54.6875 \nL 18.40625 0 \nL 9.421875 0 \nz\nM 9.421875 75.984375 \nL 18.40625 75.984375 \nL 18.40625 64.59375 \nL 9.421875 64.59375 \nz\n\" id=\"DejaVuSans-105\"/>\n     <path d=\"M 44.28125 53.078125 \nL 44.28125 44.578125 \nQ 40.484375 46.53125 36.375 47.5 \nQ 32.28125 48.484375 27.875 48.484375 \nQ 21.1875 48.484375 17.84375 46.4375 \nQ 14.5 44.390625 14.5 40.28125 \nQ 14.5 37.15625 16.890625 35.375 \nQ 19.28125 33.59375 26.515625 31.984375 \nL 29.59375 31.296875 \nQ 39.15625 29.25 43.1875 25.515625 \nQ 47.21875 21.78125 47.21875 15.09375 \nQ 47.21875 7.46875 41.1875 3.015625 \nQ 35.15625 -1.421875 24.609375 -1.421875 \nQ 20.21875 -1.421875 15.453125 -0.5625 \nQ 10.6875 0.296875 5.421875 2 \nL 5.421875 11.28125 \nQ 10.40625 8.6875 15.234375 7.390625 \nQ 20.0625 6.109375 24.8125 6.109375 \nQ 31.15625 6.109375 34.5625 8.28125 \nQ 37.984375 10.453125 37.984375 14.40625 \nQ 37.984375 18.0625 35.515625 20.015625 \nQ 33.0625 21.96875 24.703125 23.78125 \nL 21.578125 24.515625 \nQ 13.234375 26.265625 9.515625 29.90625 \nQ 5.8125 33.546875 5.8125 39.890625 \nQ 5.8125 47.609375 11.28125 51.796875 \nQ 16.75 56 26.8125 56 \nQ 31.78125 56 36.171875 55.265625 \nQ 40.578125 54.546875 44.28125 53.078125 \nz\n\" id=\"DejaVuSans-115\"/>\n     <path d=\"M 54.890625 33.015625 \nL 54.890625 0 \nL 45.90625 0 \nL 45.90625 32.71875 \nQ 45.90625 40.484375 42.875 44.328125 \nQ 39.84375 48.1875 33.796875 48.1875 \nQ 26.515625 48.1875 22.3125 43.546875 \nQ 18.109375 38.921875 18.109375 30.90625 \nL 18.109375 0 \nL 9.078125 0 \nL 9.078125 75.984375 \nL 18.109375 75.984375 \nL 18.109375 46.1875 \nQ 21.34375 51.125 25.703125 53.5625 \nQ 30.078125 56 35.796875 56 \nQ 45.21875 56 50.046875 50.171875 \nQ 54.890625 44.34375 54.890625 33.015625 \nz\n\" id=\"DejaVuSans-104\"/>\n     <path d=\"M 64.40625 67.28125 \nL 64.40625 56.890625 \nQ 59.421875 61.53125 53.78125 63.8125 \nQ 48.140625 66.109375 41.796875 66.109375 \nQ 29.296875 66.109375 22.65625 58.46875 \nQ 16.015625 50.828125 16.015625 36.375 \nQ 16.015625 21.96875 22.65625 14.328125 \nQ 29.296875 6.6875 41.796875 6.6875 \nQ 48.140625 6.6875 53.78125 8.984375 \nQ 59.421875 11.28125 64.40625 15.921875 \nL 64.40625 5.609375 \nQ 59.234375 2.09375 53.4375 0.328125 \nQ 47.65625 -1.421875 41.21875 -1.421875 \nQ 24.65625 -1.421875 15.125 8.703125 \nQ 5.609375 18.84375 5.609375 36.375 \nQ 5.609375 53.953125 15.125 64.078125 \nQ 24.65625 74.21875 41.21875 74.21875 \nQ 47.75 74.21875 53.53125 72.484375 \nQ 59.328125 70.75 64.40625 67.28125 \nz\n\" id=\"DejaVuSans-67\"/>\n     <path d=\"M 30.609375 48.390625 \nQ 23.390625 48.390625 19.1875 42.75 \nQ 14.984375 37.109375 14.984375 27.296875 \nQ 14.984375 17.484375 19.15625 11.84375 \nQ 23.34375 6.203125 30.609375 6.203125 \nQ 37.796875 6.203125 41.984375 11.859375 \nQ 46.1875 17.53125 46.1875 27.296875 \nQ 46.1875 37.015625 41.984375 42.703125 \nQ 37.796875 48.390625 30.609375 48.390625 \nz\nM 30.609375 56 \nQ 42.328125 56 49.015625 48.375 \nQ 55.71875 40.765625 55.71875 27.296875 \nQ 55.71875 13.875 49.015625 6.21875 \nQ 42.328125 -1.421875 30.609375 -1.421875 \nQ 18.84375 -1.421875 12.171875 6.21875 \nQ 5.515625 13.875 5.515625 27.296875 \nQ 5.515625 40.765625 12.171875 48.375 \nQ 18.84375 56 30.609375 56 \nz\n\" id=\"DejaVuSans-111\"/>\n     <path d=\"M 18.109375 8.203125 \nL 18.109375 -20.796875 \nL 9.078125 -20.796875 \nL 9.078125 54.6875 \nL 18.109375 54.6875 \nL 18.109375 46.390625 \nQ 20.953125 51.265625 25.265625 53.625 \nQ 29.59375 56 35.59375 56 \nQ 45.5625 56 51.78125 48.09375 \nQ 58.015625 40.1875 58.015625 27.296875 \nQ 58.015625 14.40625 51.78125 6.484375 \nQ 45.5625 -1.421875 35.59375 -1.421875 \nQ 29.59375 -1.421875 25.265625 0.953125 \nQ 20.953125 3.328125 18.109375 8.203125 \nz\nM 48.6875 27.296875 \nQ 48.6875 37.203125 44.609375 42.84375 \nQ 40.53125 48.484375 33.40625 48.484375 \nQ 26.265625 48.484375 22.1875 42.84375 \nQ 18.109375 37.203125 18.109375 27.296875 \nQ 18.109375 17.390625 22.1875 11.75 \nQ 26.265625 6.109375 33.40625 6.109375 \nQ 40.53125 6.109375 44.609375 11.75 \nQ 48.6875 17.390625 48.6875 27.296875 \nz\n\" id=\"DejaVuSans-112\"/>\n     <path d=\"M 8.5 21.578125 \nL 8.5 54.6875 \nL 17.484375 54.6875 \nL 17.484375 21.921875 \nQ 17.484375 14.15625 20.5 10.265625 \nQ 23.53125 6.390625 29.59375 6.390625 \nQ 36.859375 6.390625 41.078125 11.03125 \nQ 45.3125 15.671875 45.3125 23.6875 \nL 45.3125 54.6875 \nL 54.296875 54.6875 \nL 54.296875 0 \nL 45.3125 0 \nL 45.3125 8.40625 \nQ 42.046875 3.421875 37.71875 1 \nQ 33.40625 -1.421875 27.6875 -1.421875 \nQ 18.265625 -1.421875 13.375 4.4375 \nQ 8.5 10.296875 8.5 21.578125 \nz\nM 31.109375 56 \nz\n\" id=\"DejaVuSans-117\"/>\n     <path d=\"M 31 75.875 \nQ 24.46875 64.65625 21.28125 53.65625 \nQ 18.109375 42.671875 18.109375 31.390625 \nQ 18.109375 20.125 21.3125 9.0625 \nQ 24.515625 -2 31 -13.1875 \nL 23.1875 -13.1875 \nQ 15.875 -1.703125 12.234375 9.375 \nQ 8.59375 20.453125 8.59375 31.390625 \nQ 8.59375 42.28125 12.203125 53.3125 \nQ 15.828125 64.359375 23.1875 75.875 \nz\n\" id=\"DejaVuSans-40\"/>\n     <path d=\"M 48.78125 52.59375 \nL 48.78125 44.1875 \nQ 44.96875 46.296875 41.140625 47.34375 \nQ 37.3125 48.390625 33.40625 48.390625 \nQ 24.65625 48.390625 19.8125 42.84375 \nQ 14.984375 37.3125 14.984375 27.296875 \nQ 14.984375 17.28125 19.8125 11.734375 \nQ 24.65625 6.203125 33.40625 6.203125 \nQ 37.3125 6.203125 41.140625 7.25 \nQ 44.96875 8.296875 48.78125 10.40625 \nL 48.78125 2.09375 \nQ 45.015625 0.34375 40.984375 -0.53125 \nQ 36.96875 -1.421875 32.421875 -1.421875 \nQ 20.0625 -1.421875 12.78125 6.34375 \nQ 5.515625 14.109375 5.515625 27.296875 \nQ 5.515625 40.671875 12.859375 48.328125 \nQ 20.21875 56 33.015625 56 \nQ 37.15625 56 41.109375 55.140625 \nQ 45.0625 54.296875 48.78125 52.59375 \nz\n\" id=\"DejaVuSans-99\"/>\n     <path d=\"M 32.171875 -5.078125 \nQ 28.375 -14.84375 24.75 -17.8125 \nQ 21.140625 -20.796875 15.09375 -20.796875 \nL 7.90625 -20.796875 \nL 7.90625 -13.28125 \nL 13.1875 -13.28125 \nQ 16.890625 -13.28125 18.9375 -11.515625 \nQ 21 -9.765625 23.484375 -3.21875 \nL 25.09375 0.875 \nL 2.984375 54.6875 \nL 12.5 54.6875 \nL 29.59375 11.921875 \nL 46.6875 54.6875 \nL 56.203125 54.6875 \nz\n\" id=\"DejaVuSans-121\"/>\n     <path d=\"M 8.015625 75.875 \nL 15.828125 75.875 \nQ 23.140625 64.359375 26.78125 53.3125 \nQ 30.421875 42.28125 30.421875 31.390625 \nQ 30.421875 20.453125 26.78125 9.375 \nQ 23.140625 -1.703125 15.828125 -13.1875 \nL 8.015625 -13.1875 \nQ 14.5 -2 17.703125 9.0625 \nQ 20.90625 20.125 20.90625 31.390625 \nQ 20.90625 42.671875 17.703125 53.65625 \nQ 14.5 64.65625 8.015625 75.875 \nz\n\" id=\"DejaVuSans-41\"/>\n    </defs>\n    <g transform=\"translate(85.271875 16.318125)scale(0.12 -0.12)\">\n     <use xlink:href=\"#DejaVuSans-79\"/>\n     <use x=\"78.710938\" xlink:href=\"#DejaVuSans-79\"/>\n     <use x=\"157.40625\" xlink:href=\"#DejaVuSans-86\"/>\n     <use x=\"225.689453\" xlink:href=\"#DejaVuSans-58\"/>\n     <use x=\"259.380859\" xlink:href=\"#DejaVuSans-32\"/>\n     <use x=\"291.167969\" xlink:href=\"#DejaVuSans-69\"/>\n     <use x=\"354.351562\" xlink:href=\"#DejaVuSans-110\"/>\n     <use x=\"417.730469\" xlink:href=\"#DejaVuSans-103\"/>\n     <use x=\"481.207031\" xlink:href=\"#DejaVuSans-108\"/>\n     <use x=\"508.990234\" xlink:href=\"#DejaVuSans-105\"/>\n     <use x=\"536.773438\" xlink:href=\"#DejaVuSans-115\"/>\n     <use x=\"588.873047\" xlink:href=\"#DejaVuSans-104\"/>\n     <use x=\"652.251953\" xlink:href=\"#DejaVuSans-32\"/>\n     <use x=\"684.039062\" xlink:href=\"#DejaVuSans-67\"/>\n     <use x=\"753.863281\" xlink:href=\"#DejaVuSans-111\"/>\n     <use x=\"815.044922\" xlink:href=\"#DejaVuSans-114\"/>\n     <use x=\"856.158203\" xlink:href=\"#DejaVuSans-112\"/>\n     <use x=\"919.634766\" xlink:href=\"#DejaVuSans-117\"/>\n     <use x=\"983.013672\" xlink:href=\"#DejaVuSans-115\"/>\n     <use x=\"1035.113281\" xlink:href=\"#DejaVuSans-32\"/>\n     <use x=\"1066.900391\" xlink:href=\"#DejaVuSans-40\"/>\n     <use x=\"1105.914062\" xlink:href=\"#DejaVuSans-99\"/>\n     <use x=\"1160.894531\" xlink:href=\"#DejaVuSans-104\"/>\n     <use x=\"1224.273438\" xlink:href=\"#DejaVuSans-97\"/>\n     <use x=\"1285.552734\" xlink:href=\"#DejaVuSans-114\"/>\n     <use x=\"1326.666016\" xlink:href=\"#DejaVuSans-97\"/>\n     <use x=\"1387.945312\" xlink:href=\"#DejaVuSans-99\"/>\n     <use x=\"1442.925781\" xlink:href=\"#DejaVuSans-116\"/>\n     <use x=\"1482.134766\" xlink:href=\"#DejaVuSans-101\"/>\n     <use x=\"1543.658203\" xlink:href=\"#DejaVuSans-114\"/>\n     <use x=\"1584.771484\" xlink:href=\"#DejaVuSans-32\"/>\n     <use x=\"1616.558594\" xlink:href=\"#DejaVuSans-103\"/>\n     <use x=\"1680.035156\" xlink:href=\"#DejaVuSans-114\"/>\n     <use x=\"1721.148438\" xlink:href=\"#DejaVuSans-97\"/>\n     <use x=\"1782.427734\" xlink:href=\"#DejaVuSans-110\"/>\n     <use x=\"1845.806641\" xlink:href=\"#DejaVuSans-117\"/>\n     <use x=\"1909.185547\" xlink:href=\"#DejaVuSans-108\"/>\n     <use x=\"1936.96875\" xlink:href=\"#DejaVuSans-97\"/>\n     <use x=\"1998.248047\" xlink:href=\"#DejaVuSans-114\"/>\n     <use x=\"2039.361328\" xlink:href=\"#DejaVuSans-105\"/>\n     <use x=\"2067.144531\" xlink:href=\"#DejaVuSans-116\"/>\n     <use x=\"2106.353516\" xlink:href=\"#DejaVuSans-121\"/>\n     <use x=\"2165.533203\" xlink:href=\"#DejaVuSans-41\"/>\n    </g>\n   </g>\n  </g>\n </g>\n <defs>\n  <clipPath id=\"p8e291a7d0b\">\n   <rect height=\"217.44\" width=\"334.8\" x=\"50.14375\" y=\"22.318125\"/>\n  </clipPath>\n </defs>\n</svg>\n",
      "image/png": "[encoded data removed]"
     },
     "metadata": {
      "needs_background": "light"
     }
    }
   ],
   "metadata": {}
  },
  {
   "cell_type": "code",
   "execution_count": 14,
   "source": [
    "# smaller vocabulary \n",
    "x = range(1,8)\n",
    "\n",
    "plt.bar(x, oov_smV)\n",
    "plt.xlabel('k')\n",
    "plt.ylabel('OOV rate')\n",
    "plt.title(\"OOV: English Corpus (smaller vocabulary granularity)\" )\n",
    "plt.show()\n"
   ],
   "outputs": [
    {
     "output_type": "display_data",
     "data": {
      "text/plain": [
       "<Figure size 432x288 with 1 Axes>"
      ],
      "image/svg+xml": "<?xml version=\"1.0\" encoding=\"utf-8\" standalone=\"no\"?>\n<!DOCTYPE svg PUBLIC \"-//W3C//DTD SVG 1.1//EN\"\n  \"http://www.w3.org/Graphics/SVG/1.1/DTD/svg11.dtd\">\n<!-- Created with matplotlib (https://matplotlib.org/) -->\n<svg height=\"277.314375pt\" version=\"1.1\" viewBox=\"0 0 392.14375 277.314375\" width=\"392.14375pt\" xmlns=\"http://www.w3.org/2000/svg\" xmlns:xlink=\"http://www.w3.org/1999/xlink\">\n <defs>\n  <style type=\"text/css\">\n*{stroke-linecap:butt;stroke-linejoin:round;}\n  </style>\n </defs>\n <g id=\"figure_1\">\n  <g id=\"patch_1\">\n   <path d=\"M 0 277.314375 \nL 392.14375 277.314375 \nL 392.14375 0 \nL 0 0 \nz\n\" style=\"fill:none;\"/>\n  </g>\n  <g id=\"axes_1\">\n   <g id=\"patch_2\">\n    <path d=\"M 50.14375 239.758125 \nL 384.94375 239.758125 \nL 384.94375 22.318125 \nL 50.14375 22.318125 \nz\n\" style=\"fill:#ffffff;\"/>\n   </g>\n   <g id=\"patch_3\">\n    <path clip-path=\"url(#pcc894226b5)\" d=\"M 65.361932 239.758125 \nL 101.169418 239.758125 \nL 101.169418 32.672411 \nL 65.361932 32.672411 \nz\n\" style=\"fill:#1f77b4;\"/>\n   </g>\n   <g id=\"patch_4\">\n    <path clip-path=\"url(#pcc894226b5)\" d=\"M 110.12129 239.758125 \nL 145.928777 239.758125 \nL 145.928777 32.672411 \nL 110.12129 32.672411 \nz\n\" style=\"fill:#1f77b4;\"/>\n   </g>\n   <g id=\"patch_5\">\n    <path clip-path=\"url(#pcc894226b5)\" d=\"M 154.880648 239.758125 \nL 190.688135 239.758125 \nL 190.688135 33.050304 \nL 154.880648 33.050304 \nz\n\" style=\"fill:#1f77b4;\"/>\n   </g>\n   <g id=\"patch_6\">\n    <path clip-path=\"url(#pcc894226b5)\" d=\"M 199.640007 239.758125 \nL 235.447493 239.758125 \nL 235.447493 34.561879 \nL 199.640007 34.561879 \nz\n\" style=\"fill:#1f77b4;\"/>\n   </g>\n   <g id=\"patch_7\">\n    <path clip-path=\"url(#pcc894226b5)\" d=\"M 244.399365 239.758125 \nL 280.206852 239.758125 \nL 280.206852 54.212348 \nL 244.399365 54.212348 \nz\n\" style=\"fill:#1f77b4;\"/>\n   </g>\n   <g id=\"patch_8\">\n    <path clip-path=\"url(#pcc894226b5)\" d=\"M 289.158723 239.758125 \nL 324.96621 239.758125 \nL 324.96621 82.554371 \nL 289.158723 82.554371 \nz\n\" style=\"fill:#1f77b4;\"/>\n   </g>\n   <g id=\"patch_9\">\n    <path clip-path=\"url(#pcc894226b5)\" d=\"M 333.918082 239.758125 \nL 369.725568 239.758125 \nL 369.725568 104.094309 \nL 333.918082 104.094309 \nz\n\" style=\"fill:#1f77b4;\"/>\n   </g>\n   <g id=\"matplotlib.axis_1\">\n    <g id=\"xtick_1\">\n     <g id=\"line2d_1\">\n      <defs>\n       <path d=\"M 0 0 \nL 0 3.5 \n\" id=\"m9069452926\" style=\"stroke:#000000;stroke-width:0.8;\"/>\n      </defs>\n      <g>\n       <use style=\"stroke:#000000;stroke-width:0.8;\" x=\"83.265675\" xlink:href=\"#m9069452926\" y=\"239.758125\"/>\n      </g>\n     </g>\n     <g id=\"text_1\">\n      <!-- 1 -->\n      <defs>\n       <path d=\"M 12.40625 8.296875 \nL 28.515625 8.296875 \nL 28.515625 63.921875 \nL 10.984375 60.40625 \nL 10.984375 69.390625 \nL 28.421875 72.90625 \nL 38.28125 72.90625 \nL 38.28125 8.296875 \nL 54.390625 8.296875 \nL 54.390625 0 \nL 12.40625 0 \nz\n\" id=\"DejaVuSans-49\"/>\n      </defs>\n      <g transform=\"translate(80.084425 254.356562)scale(0.1 -0.1)\">\n       <use xlink:href=\"#DejaVuSans-49\"/>\n      </g>\n     </g>\n    </g>\n    <g id=\"xtick_2\">\n     <g id=\"line2d_2\">\n      <g>\n       <use style=\"stroke:#000000;stroke-width:0.8;\" x=\"128.025033\" xlink:href=\"#m9069452926\" y=\"239.758125\"/>\n      </g>\n     </g>\n     <g id=\"text_2\">\n      <!-- 2 -->\n      <defs>\n       <path d=\"M 19.1875 8.296875 \nL 53.609375 8.296875 \nL 53.609375 0 \nL 7.328125 0 \nL 7.328125 8.296875 \nQ 12.9375 14.109375 22.625 23.890625 \nQ 32.328125 33.6875 34.8125 36.53125 \nQ 39.546875 41.84375 41.421875 45.53125 \nQ 43.3125 49.21875 43.3125 52.78125 \nQ 43.3125 58.59375 39.234375 62.25 \nQ 35.15625 65.921875 28.609375 65.921875 \nQ 23.96875 65.921875 18.8125 64.3125 \nQ 13.671875 62.703125 7.8125 59.421875 \nL 7.8125 69.390625 \nQ 13.765625 71.78125 18.9375 73 \nQ 24.125 74.21875 28.421875 74.21875 \nQ 39.75 74.21875 46.484375 68.546875 \nQ 53.21875 62.890625 53.21875 53.421875 \nQ 53.21875 48.921875 51.53125 44.890625 \nQ 49.859375 40.875 45.40625 35.40625 \nQ 44.1875 33.984375 37.640625 27.21875 \nQ 31.109375 20.453125 19.1875 8.296875 \nz\n\" id=\"DejaVuSans-50\"/>\n      </defs>\n      <g transform=\"translate(124.843783 254.356562)scale(0.1 -0.1)\">\n       <use xlink:href=\"#DejaVuSans-50\"/>\n      </g>\n     </g>\n    </g>\n    <g id=\"xtick_3\">\n     <g id=\"line2d_3\">\n      <g>\n       <use style=\"stroke:#000000;stroke-width:0.8;\" x=\"172.784392\" xlink:href=\"#m9069452926\" y=\"239.758125\"/>\n      </g>\n     </g>\n     <g id=\"text_3\">\n      <!-- 3 -->\n      <defs>\n       <path d=\"M 40.578125 39.3125 \nQ 47.65625 37.796875 51.625 33 \nQ 55.609375 28.21875 55.609375 21.1875 \nQ 55.609375 10.40625 48.1875 4.484375 \nQ 40.765625 -1.421875 27.09375 -1.421875 \nQ 22.515625 -1.421875 17.65625 -0.515625 \nQ 12.796875 0.390625 7.625 2.203125 \nL 7.625 11.71875 \nQ 11.71875 9.328125 16.59375 8.109375 \nQ 21.484375 6.890625 26.8125 6.890625 \nQ 36.078125 6.890625 40.9375 10.546875 \nQ 45.796875 14.203125 45.796875 21.1875 \nQ 45.796875 27.640625 41.28125 31.265625 \nQ 36.765625 34.90625 28.71875 34.90625 \nL 20.21875 34.90625 \nL 20.21875 43.015625 \nL 29.109375 43.015625 \nQ 36.375 43.015625 40.234375 45.921875 \nQ 44.09375 48.828125 44.09375 54.296875 \nQ 44.09375 59.90625 40.109375 62.90625 \nQ 36.140625 65.921875 28.71875 65.921875 \nQ 24.65625 65.921875 20.015625 65.03125 \nQ 15.375 64.15625 9.8125 62.3125 \nL 9.8125 71.09375 \nQ 15.4375 72.65625 20.34375 73.4375 \nQ 25.25 74.21875 29.59375 74.21875 \nQ 40.828125 74.21875 47.359375 69.109375 \nQ 53.90625 64.015625 53.90625 55.328125 \nQ 53.90625 49.265625 50.4375 45.09375 \nQ 46.96875 40.921875 40.578125 39.3125 \nz\n\" id=\"DejaVuSans-51\"/>\n      </defs>\n      <g transform=\"translate(169.603142 254.356562)scale(0.1 -0.1)\">\n       <use xlink:href=\"#DejaVuSans-51\"/>\n      </g>\n     </g>\n    </g>\n    <g id=\"xtick_4\">\n     <g id=\"line2d_4\">\n      <g>\n       <use style=\"stroke:#000000;stroke-width:0.8;\" x=\"217.54375\" xlink:href=\"#m9069452926\" y=\"239.758125\"/>\n      </g>\n     </g>\n     <g id=\"text_4\">\n      <!-- 4 -->\n      <defs>\n       <path d=\"M 37.796875 64.3125 \nL 12.890625 25.390625 \nL 37.796875 25.390625 \nz\nM 35.203125 72.90625 \nL 47.609375 72.90625 \nL 47.609375 25.390625 \nL 58.015625 25.390625 \nL 58.015625 17.1875 \nL 47.609375 17.1875 \nL 47.609375 0 \nL 37.796875 0 \nL 37.796875 17.1875 \nL 4.890625 17.1875 \nL 4.890625 26.703125 \nz\n\" id=\"DejaVuSans-52\"/>\n      </defs>\n      <g transform=\"translate(214.3625 254.356562)scale(0.1 -0.1)\">\n       <use xlink:href=\"#DejaVuSans-52\"/>\n      </g>\n     </g>\n    </g>\n    <g id=\"xtick_5\">\n     <g id=\"line2d_5\">\n      <g>\n       <use style=\"stroke:#000000;stroke-width:0.8;\" x=\"262.303108\" xlink:href=\"#m9069452926\" y=\"239.758125\"/>\n      </g>\n     </g>\n     <g id=\"text_5\">\n      <!-- 5 -->\n      <defs>\n       <path d=\"M 10.796875 72.90625 \nL 49.515625 72.90625 \nL 49.515625 64.59375 \nL 19.828125 64.59375 \nL 19.828125 46.734375 \nQ 21.96875 47.46875 24.109375 47.828125 \nQ 26.265625 48.1875 28.421875 48.1875 \nQ 40.625 48.1875 47.75 41.5 \nQ 54.890625 34.8125 54.890625 23.390625 \nQ 54.890625 11.625 47.5625 5.09375 \nQ 40.234375 -1.421875 26.90625 -1.421875 \nQ 22.3125 -1.421875 17.546875 -0.640625 \nQ 12.796875 0.140625 7.71875 1.703125 \nL 7.71875 11.625 \nQ 12.109375 9.234375 16.796875 8.0625 \nQ 21.484375 6.890625 26.703125 6.890625 \nQ 35.15625 6.890625 40.078125 11.328125 \nQ 45.015625 15.765625 45.015625 23.390625 \nQ 45.015625 31 40.078125 35.4375 \nQ 35.15625 39.890625 26.703125 39.890625 \nQ 22.75 39.890625 18.8125 39.015625 \nQ 14.890625 38.140625 10.796875 36.28125 \nz\n\" id=\"DejaVuSans-53\"/>\n      </defs>\n      <g transform=\"translate(259.121858 254.356562)scale(0.1 -0.1)\">\n       <use xlink:href=\"#DejaVuSans-53\"/>\n      </g>\n     </g>\n    </g>\n    <g id=\"xtick_6\">\n     <g id=\"line2d_6\">\n      <g>\n       <use style=\"stroke:#000000;stroke-width:0.8;\" x=\"307.062467\" xlink:href=\"#m9069452926\" y=\"239.758125\"/>\n      </g>\n     </g>\n     <g id=\"text_6\">\n      <!-- 6 -->\n      <defs>\n       <path d=\"M 33.015625 40.375 \nQ 26.375 40.375 22.484375 35.828125 \nQ 18.609375 31.296875 18.609375 23.390625 \nQ 18.609375 15.53125 22.484375 10.953125 \nQ 26.375 6.390625 33.015625 6.390625 \nQ 39.65625 6.390625 43.53125 10.953125 \nQ 47.40625 15.53125 47.40625 23.390625 \nQ 47.40625 31.296875 43.53125 35.828125 \nQ 39.65625 40.375 33.015625 40.375 \nz\nM 52.59375 71.296875 \nL 52.59375 62.3125 \nQ 48.875 64.0625 45.09375 64.984375 \nQ 41.3125 65.921875 37.59375 65.921875 \nQ 27.828125 65.921875 22.671875 59.328125 \nQ 17.53125 52.734375 16.796875 39.40625 \nQ 19.671875 43.65625 24.015625 45.921875 \nQ 28.375 48.1875 33.59375 48.1875 \nQ 44.578125 48.1875 50.953125 41.515625 \nQ 57.328125 34.859375 57.328125 23.390625 \nQ 57.328125 12.15625 50.6875 5.359375 \nQ 44.046875 -1.421875 33.015625 -1.421875 \nQ 20.359375 -1.421875 13.671875 8.265625 \nQ 6.984375 17.96875 6.984375 36.375 \nQ 6.984375 53.65625 15.1875 63.9375 \nQ 23.390625 74.21875 37.203125 74.21875 \nQ 40.921875 74.21875 44.703125 73.484375 \nQ 48.484375 72.75 52.59375 71.296875 \nz\n\" id=\"DejaVuSans-54\"/>\n      </defs>\n      <g transform=\"translate(303.881217 254.356562)scale(0.1 -0.1)\">\n       <use xlink:href=\"#DejaVuSans-54\"/>\n      </g>\n     </g>\n    </g>\n    <g id=\"xtick_7\">\n     <g id=\"line2d_7\">\n      <g>\n       <use style=\"stroke:#000000;stroke-width:0.8;\" x=\"351.821825\" xlink:href=\"#m9069452926\" y=\"239.758125\"/>\n      </g>\n     </g>\n     <g id=\"text_7\">\n      <!-- 7 -->\n      <defs>\n       <path d=\"M 8.203125 72.90625 \nL 55.078125 72.90625 \nL 55.078125 68.703125 \nL 28.609375 0 \nL 18.3125 0 \nL 43.21875 64.59375 \nL 8.203125 64.59375 \nz\n\" id=\"DejaVuSans-55\"/>\n      </defs>\n      <g transform=\"translate(348.640575 254.356562)scale(0.1 -0.1)\">\n       <use xlink:href=\"#DejaVuSans-55\"/>\n      </g>\n     </g>\n    </g>\n    <g id=\"text_8\">\n     <!-- k -->\n     <defs>\n      <path d=\"M 9.078125 75.984375 \nL 18.109375 75.984375 \nL 18.109375 31.109375 \nL 44.921875 54.6875 \nL 56.390625 54.6875 \nL 27.390625 29.109375 \nL 57.625 0 \nL 45.90625 0 \nL 18.109375 26.703125 \nL 18.109375 0 \nL 9.078125 0 \nz\n\" id=\"DejaVuSans-107\"/>\n     </defs>\n     <g transform=\"translate(214.648438 268.034687)scale(0.1 -0.1)\">\n      <use xlink:href=\"#DejaVuSans-107\"/>\n     </g>\n    </g>\n   </g>\n   <g id=\"matplotlib.axis_2\">\n    <g id=\"ytick_1\">\n     <g id=\"line2d_8\">\n      <defs>\n       <path d=\"M 0 0 \nL -3.5 0 \n\" id=\"m038d4a401f\" style=\"stroke:#000000;stroke-width:0.8;\"/>\n      </defs>\n      <g>\n       <use style=\"stroke:#000000;stroke-width:0.8;\" x=\"50.14375\" xlink:href=\"#m038d4a401f\" y=\"239.758125\"/>\n      </g>\n     </g>\n     <g id=\"text_9\">\n      <!-- 0.00 -->\n      <defs>\n       <path d=\"M 31.78125 66.40625 \nQ 24.171875 66.40625 20.328125 58.90625 \nQ 16.5 51.421875 16.5 36.375 \nQ 16.5 21.390625 20.328125 13.890625 \nQ 24.171875 6.390625 31.78125 6.390625 \nQ 39.453125 6.390625 43.28125 13.890625 \nQ 47.125 21.390625 47.125 36.375 \nQ 47.125 51.421875 43.28125 58.90625 \nQ 39.453125 66.40625 31.78125 66.40625 \nz\nM 31.78125 74.21875 \nQ 44.046875 74.21875 50.515625 64.515625 \nQ 56.984375 54.828125 56.984375 36.375 \nQ 56.984375 17.96875 50.515625 8.265625 \nQ 44.046875 -1.421875 31.78125 -1.421875 \nQ 19.53125 -1.421875 13.0625 8.265625 \nQ 6.59375 17.96875 6.59375 36.375 \nQ 6.59375 54.828125 13.0625 64.515625 \nQ 19.53125 74.21875 31.78125 74.21875 \nz\n\" id=\"DejaVuSans-48\"/>\n       <path d=\"M 10.6875 12.40625 \nL 21 12.40625 \nL 21 0 \nL 10.6875 0 \nz\n\" id=\"DejaVuSans-46\"/>\n      </defs>\n      <g transform=\"translate(20.878125 243.557344)scale(0.1 -0.1)\">\n       <use xlink:href=\"#DejaVuSans-48\"/>\n       <use x=\"63.623047\" xlink:href=\"#DejaVuSans-46\"/>\n       <use x=\"95.410156\" xlink:href=\"#DejaVuSans-48\"/>\n       <use x=\"159.033203\" xlink:href=\"#DejaVuSans-48\"/>\n      </g>\n     </g>\n    </g>\n    <g id=\"ytick_2\">\n     <g id=\"line2d_9\">\n      <g>\n       <use style=\"stroke:#000000;stroke-width:0.8;\" x=\"50.14375\" xlink:href=\"#m038d4a401f\" y=\"201.175184\"/>\n      </g>\n     </g>\n     <g id=\"text_10\">\n      <!-- 0.02 -->\n      <g transform=\"translate(20.878125 204.974403)scale(0.1 -0.1)\">\n       <use xlink:href=\"#DejaVuSans-48\"/>\n       <use x=\"63.623047\" xlink:href=\"#DejaVuSans-46\"/>\n       <use x=\"95.410156\" xlink:href=\"#DejaVuSans-48\"/>\n       <use x=\"159.033203\" xlink:href=\"#DejaVuSans-50\"/>\n      </g>\n     </g>\n    </g>\n    <g id=\"ytick_3\">\n     <g id=\"line2d_10\">\n      <g>\n       <use style=\"stroke:#000000;stroke-width:0.8;\" x=\"50.14375\" xlink:href=\"#m038d4a401f\" y=\"162.592244\"/>\n      </g>\n     </g>\n     <g id=\"text_11\">\n      <!-- 0.04 -->\n      <g transform=\"translate(20.878125 166.391463)scale(0.1 -0.1)\">\n       <use xlink:href=\"#DejaVuSans-48\"/>\n       <use x=\"63.623047\" xlink:href=\"#DejaVuSans-46\"/>\n       <use x=\"95.410156\" xlink:href=\"#DejaVuSans-48\"/>\n       <use x=\"159.033203\" xlink:href=\"#DejaVuSans-52\"/>\n      </g>\n     </g>\n    </g>\n    <g id=\"ytick_4\">\n     <g id=\"line2d_11\">\n      <g>\n       <use style=\"stroke:#000000;stroke-width:0.8;\" x=\"50.14375\" xlink:href=\"#m038d4a401f\" y=\"124.009303\"/>\n      </g>\n     </g>\n     <g id=\"text_12\">\n      <!-- 0.06 -->\n      <g transform=\"translate(20.878125 127.808522)scale(0.1 -0.1)\">\n       <use xlink:href=\"#DejaVuSans-48\"/>\n       <use x=\"63.623047\" xlink:href=\"#DejaVuSans-46\"/>\n       <use x=\"95.410156\" xlink:href=\"#DejaVuSans-48\"/>\n       <use x=\"159.033203\" xlink:href=\"#DejaVuSans-54\"/>\n      </g>\n     </g>\n    </g>\n    <g id=\"ytick_5\">\n     <g id=\"line2d_12\">\n      <g>\n       <use style=\"stroke:#000000;stroke-width:0.8;\" x=\"50.14375\" xlink:href=\"#m038d4a401f\" y=\"85.426363\"/>\n      </g>\n     </g>\n     <g id=\"text_13\">\n      <!-- 0.08 -->\n      <defs>\n       <path d=\"M 31.78125 34.625 \nQ 24.75 34.625 20.71875 30.859375 \nQ 16.703125 27.09375 16.703125 20.515625 \nQ 16.703125 13.921875 20.71875 10.15625 \nQ 24.75 6.390625 31.78125 6.390625 \nQ 38.8125 6.390625 42.859375 10.171875 \nQ 46.921875 13.96875 46.921875 20.515625 \nQ 46.921875 27.09375 42.890625 30.859375 \nQ 38.875 34.625 31.78125 34.625 \nz\nM 21.921875 38.8125 \nQ 15.578125 40.375 12.03125 44.71875 \nQ 8.5 49.078125 8.5 55.328125 \nQ 8.5 64.0625 14.71875 69.140625 \nQ 20.953125 74.21875 31.78125 74.21875 \nQ 42.671875 74.21875 48.875 69.140625 \nQ 55.078125 64.0625 55.078125 55.328125 \nQ 55.078125 49.078125 51.53125 44.71875 \nQ 48 40.375 41.703125 38.8125 \nQ 48.828125 37.15625 52.796875 32.3125 \nQ 56.78125 27.484375 56.78125 20.515625 \nQ 56.78125 9.90625 50.3125 4.234375 \nQ 43.84375 -1.421875 31.78125 -1.421875 \nQ 19.734375 -1.421875 13.25 4.234375 \nQ 6.78125 9.90625 6.78125 20.515625 \nQ 6.78125 27.484375 10.78125 32.3125 \nQ 14.796875 37.15625 21.921875 38.8125 \nz\nM 18.3125 54.390625 \nQ 18.3125 48.734375 21.84375 45.5625 \nQ 25.390625 42.390625 31.78125 42.390625 \nQ 38.140625 42.390625 41.71875 45.5625 \nQ 45.3125 48.734375 45.3125 54.390625 \nQ 45.3125 60.0625 41.71875 63.234375 \nQ 38.140625 66.40625 31.78125 66.40625 \nQ 25.390625 66.40625 21.84375 63.234375 \nQ 18.3125 60.0625 18.3125 54.390625 \nz\n\" id=\"DejaVuSans-56\"/>\n      </defs>\n      <g transform=\"translate(20.878125 89.225581)scale(0.1 -0.1)\">\n       <use xlink:href=\"#DejaVuSans-48\"/>\n       <use x=\"63.623047\" xlink:href=\"#DejaVuSans-46\"/>\n       <use x=\"95.410156\" xlink:href=\"#DejaVuSans-48\"/>\n       <use x=\"159.033203\" xlink:href=\"#DejaVuSans-56\"/>\n      </g>\n     </g>\n    </g>\n    <g id=\"ytick_6\">\n     <g id=\"line2d_13\">\n      <g>\n       <use style=\"stroke:#000000;stroke-width:0.8;\" x=\"50.14375\" xlink:href=\"#m038d4a401f\" y=\"46.843422\"/>\n      </g>\n     </g>\n     <g id=\"text_14\">\n      <!-- 0.10 -->\n      <g transform=\"translate(20.878125 50.642641)scale(0.1 -0.1)\">\n       <use xlink:href=\"#DejaVuSans-48\"/>\n       <use x=\"63.623047\" xlink:href=\"#DejaVuSans-46\"/>\n       <use x=\"95.410156\" xlink:href=\"#DejaVuSans-49\"/>\n       <use x=\"159.033203\" xlink:href=\"#DejaVuSans-48\"/>\n      </g>\n     </g>\n    </g>\n    <g id=\"text_15\">\n     <!-- OOV rate -->\n     <defs>\n      <path d=\"M 39.40625 66.21875 \nQ 28.65625 66.21875 22.328125 58.203125 \nQ 16.015625 50.203125 16.015625 36.375 \nQ 16.015625 22.609375 22.328125 14.59375 \nQ 28.65625 6.59375 39.40625 6.59375 \nQ 50.140625 6.59375 56.421875 14.59375 \nQ 62.703125 22.609375 62.703125 36.375 \nQ 62.703125 50.203125 56.421875 58.203125 \nQ 50.140625 66.21875 39.40625 66.21875 \nz\nM 39.40625 74.21875 \nQ 54.734375 74.21875 63.90625 63.9375 \nQ 73.09375 53.65625 73.09375 36.375 \nQ 73.09375 19.140625 63.90625 8.859375 \nQ 54.734375 -1.421875 39.40625 -1.421875 \nQ 24.03125 -1.421875 14.8125 8.828125 \nQ 5.609375 19.09375 5.609375 36.375 \nQ 5.609375 53.65625 14.8125 63.9375 \nQ 24.03125 74.21875 39.40625 74.21875 \nz\n\" id=\"DejaVuSans-79\"/>\n      <path d=\"M 28.609375 0 \nL 0.78125 72.90625 \nL 11.078125 72.90625 \nL 34.1875 11.53125 \nL 57.328125 72.90625 \nL 67.578125 72.90625 \nL 39.796875 0 \nz\n\" id=\"DejaVuSans-86\"/>\n      <path id=\"DejaVuSans-32\"/>\n      <path d=\"M 41.109375 46.296875 \nQ 39.59375 47.171875 37.8125 47.578125 \nQ 36.03125 48 33.890625 48 \nQ 26.265625 48 22.1875 43.046875 \nQ 18.109375 38.09375 18.109375 28.8125 \nL 18.109375 0 \nL 9.078125 0 \nL 9.078125 54.6875 \nL 18.109375 54.6875 \nL 18.109375 46.1875 \nQ 20.953125 51.171875 25.484375 53.578125 \nQ 30.03125 56 36.53125 56 \nQ 37.453125 56 38.578125 55.875 \nQ 39.703125 55.765625 41.0625 55.515625 \nz\n\" id=\"DejaVuSans-114\"/>\n      <path d=\"M 34.28125 27.484375 \nQ 23.390625 27.484375 19.1875 25 \nQ 14.984375 22.515625 14.984375 16.5 \nQ 14.984375 11.71875 18.140625 8.90625 \nQ 21.296875 6.109375 26.703125 6.109375 \nQ 34.1875 6.109375 38.703125 11.40625 \nQ 43.21875 16.703125 43.21875 25.484375 \nL 43.21875 27.484375 \nz\nM 52.203125 31.203125 \nL 52.203125 0 \nL 43.21875 0 \nL 43.21875 8.296875 \nQ 40.140625 3.328125 35.546875 0.953125 \nQ 30.953125 -1.421875 24.3125 -1.421875 \nQ 15.921875 -1.421875 10.953125 3.296875 \nQ 6 8.015625 6 15.921875 \nQ 6 25.140625 12.171875 29.828125 \nQ 18.359375 34.515625 30.609375 34.515625 \nL 43.21875 34.515625 \nL 43.21875 35.40625 \nQ 43.21875 41.609375 39.140625 45 \nQ 35.0625 48.390625 27.6875 48.390625 \nQ 23 48.390625 18.546875 47.265625 \nQ 14.109375 46.140625 10.015625 43.890625 \nL 10.015625 52.203125 \nQ 14.9375 54.109375 19.578125 55.046875 \nQ 24.21875 56 28.609375 56 \nQ 40.484375 56 46.34375 49.84375 \nQ 52.203125 43.703125 52.203125 31.203125 \nz\n\" id=\"DejaVuSans-97\"/>\n      <path d=\"M 18.3125 70.21875 \nL 18.3125 54.6875 \nL 36.8125 54.6875 \nL 36.8125 47.703125 \nL 18.3125 47.703125 \nL 18.3125 18.015625 \nQ 18.3125 11.328125 20.140625 9.421875 \nQ 21.96875 7.515625 27.59375 7.515625 \nL 36.8125 7.515625 \nL 36.8125 0 \nL 27.59375 0 \nQ 17.1875 0 13.234375 3.875 \nQ 9.28125 7.765625 9.28125 18.015625 \nL 9.28125 47.703125 \nL 2.6875 47.703125 \nL 2.6875 54.6875 \nL 9.28125 54.6875 \nL 9.28125 70.21875 \nz\n\" id=\"DejaVuSans-116\"/>\n      <path d=\"M 56.203125 29.59375 \nL 56.203125 25.203125 \nL 14.890625 25.203125 \nQ 15.484375 15.921875 20.484375 11.0625 \nQ 25.484375 6.203125 34.421875 6.203125 \nQ 39.59375 6.203125 44.453125 7.46875 \nQ 49.3125 8.734375 54.109375 11.28125 \nL 54.109375 2.78125 \nQ 49.265625 0.734375 44.1875 -0.34375 \nQ 39.109375 -1.421875 33.890625 -1.421875 \nQ 20.796875 -1.421875 13.15625 6.1875 \nQ 5.515625 13.8125 5.515625 26.8125 \nQ 5.515625 40.234375 12.765625 48.109375 \nQ 20.015625 56 32.328125 56 \nQ 43.359375 56 49.78125 48.890625 \nQ 56.203125 41.796875 56.203125 29.59375 \nz\nM 47.21875 32.234375 \nQ 47.125 39.59375 43.09375 43.984375 \nQ 39.0625 48.390625 32.421875 48.390625 \nQ 24.90625 48.390625 20.390625 44.140625 \nQ 15.875 39.890625 15.1875 32.171875 \nz\n\" id=\"DejaVuSans-101\"/>\n     </defs>\n     <g transform=\"translate(14.798438 154.074844)rotate(-90)scale(0.1 -0.1)\">\n      <use xlink:href=\"#DejaVuSans-79\"/>\n      <use x=\"78.710938\" xlink:href=\"#DejaVuSans-79\"/>\n      <use x=\"157.40625\" xlink:href=\"#DejaVuSans-86\"/>\n      <use x=\"225.814453\" xlink:href=\"#DejaVuSans-32\"/>\n      <use x=\"257.601562\" xlink:href=\"#DejaVuSans-114\"/>\n      <use x=\"298.714844\" xlink:href=\"#DejaVuSans-97\"/>\n      <use x=\"359.994141\" xlink:href=\"#DejaVuSans-116\"/>\n      <use x=\"399.203125\" xlink:href=\"#DejaVuSans-101\"/>\n     </g>\n    </g>\n   </g>\n   <g id=\"patch_10\">\n    <path d=\"M 50.14375 239.758125 \nL 50.14375 22.318125 \n\" style=\"fill:none;stroke:#000000;stroke-linecap:square;stroke-linejoin:miter;stroke-width:0.8;\"/>\n   </g>\n   <g id=\"patch_11\">\n    <path d=\"M 384.94375 239.758125 \nL 384.94375 22.318125 \n\" style=\"fill:none;stroke:#000000;stroke-linecap:square;stroke-linejoin:miter;stroke-width:0.8;\"/>\n   </g>\n   <g id=\"patch_12\">\n    <path d=\"M 50.14375 239.758125 \nL 384.94375 239.758125 \n\" style=\"fill:none;stroke:#000000;stroke-linecap:square;stroke-linejoin:miter;stroke-width:0.8;\"/>\n   </g>\n   <g id=\"patch_13\">\n    <path d=\"M 50.14375 22.318125 \nL 384.94375 22.318125 \n\" style=\"fill:none;stroke:#000000;stroke-linecap:square;stroke-linejoin:miter;stroke-width:0.8;\"/>\n   </g>\n   <g id=\"text_16\">\n    <!-- OOV: English Corpus (smaller vocabulary granularity) -->\n    <defs>\n     <path d=\"M 11.71875 12.40625 \nL 22.015625 12.40625 \nL 22.015625 0 \nL 11.71875 0 \nz\nM 11.71875 51.703125 \nL 22.015625 51.703125 \nL 22.015625 39.3125 \nL 11.71875 39.3125 \nz\n\" id=\"DejaVuSans-58\"/>\n     <path d=\"M 9.8125 72.90625 \nL 55.90625 72.90625 \nL 55.90625 64.59375 \nL 19.671875 64.59375 \nL 19.671875 43.015625 \nL 54.390625 43.015625 \nL 54.390625 34.71875 \nL 19.671875 34.71875 \nL 19.671875 8.296875 \nL 56.78125 8.296875 \nL 56.78125 0 \nL 9.8125 0 \nz\n\" id=\"DejaVuSans-69\"/>\n     <path d=\"M 54.890625 33.015625 \nL 54.890625 0 \nL 45.90625 0 \nL 45.90625 32.71875 \nQ 45.90625 40.484375 42.875 44.328125 \nQ 39.84375 48.1875 33.796875 48.1875 \nQ 26.515625 48.1875 22.3125 43.546875 \nQ 18.109375 38.921875 18.109375 30.90625 \nL 18.109375 0 \nL 9.078125 0 \nL 9.078125 54.6875 \nL 18.109375 54.6875 \nL 18.109375 46.1875 \nQ 21.34375 51.125 25.703125 53.5625 \nQ 30.078125 56 35.796875 56 \nQ 45.21875 56 50.046875 50.171875 \nQ 54.890625 44.34375 54.890625 33.015625 \nz\n\" id=\"DejaVuSans-110\"/>\n     <path d=\"M 45.40625 27.984375 \nQ 45.40625 37.75 41.375 43.109375 \nQ 37.359375 48.484375 30.078125 48.484375 \nQ 22.859375 48.484375 18.828125 43.109375 \nQ 14.796875 37.75 14.796875 27.984375 \nQ 14.796875 18.265625 18.828125 12.890625 \nQ 22.859375 7.515625 30.078125 7.515625 \nQ 37.359375 7.515625 41.375 12.890625 \nQ 45.40625 18.265625 45.40625 27.984375 \nz\nM 54.390625 6.78125 \nQ 54.390625 -7.171875 48.1875 -13.984375 \nQ 42 -20.796875 29.203125 -20.796875 \nQ 24.46875 -20.796875 20.265625 -20.09375 \nQ 16.0625 -19.390625 12.109375 -17.921875 \nL 12.109375 -9.1875 \nQ 16.0625 -11.328125 19.921875 -12.34375 \nQ 23.78125 -13.375 27.78125 -13.375 \nQ 36.625 -13.375 41.015625 -8.765625 \nQ 45.40625 -4.15625 45.40625 5.171875 \nL 45.40625 9.625 \nQ 42.625 4.78125 38.28125 2.390625 \nQ 33.9375 0 27.875 0 \nQ 17.828125 0 11.671875 7.65625 \nQ 5.515625 15.328125 5.515625 27.984375 \nQ 5.515625 40.671875 11.671875 48.328125 \nQ 17.828125 56 27.875 56 \nQ 33.9375 56 38.28125 53.609375 \nQ 42.625 51.21875 45.40625 46.390625 \nL 45.40625 54.6875 \nL 54.390625 54.6875 \nz\n\" id=\"DejaVuSans-103\"/>\n     <path d=\"M 9.421875 75.984375 \nL 18.40625 75.984375 \nL 18.40625 0 \nL 9.421875 0 \nz\n\" id=\"DejaVuSans-108\"/>\n     <path d=\"M 9.421875 54.6875 \nL 18.40625 54.6875 \nL 18.40625 0 \nL 9.421875 0 \nz\nM 9.421875 75.984375 \nL 18.40625 75.984375 \nL 18.40625 64.59375 \nL 9.421875 64.59375 \nz\n\" id=\"DejaVuSans-105\"/>\n     <path d=\"M 44.28125 53.078125 \nL 44.28125 44.578125 \nQ 40.484375 46.53125 36.375 47.5 \nQ 32.28125 48.484375 27.875 48.484375 \nQ 21.1875 48.484375 17.84375 46.4375 \nQ 14.5 44.390625 14.5 40.28125 \nQ 14.5 37.15625 16.890625 35.375 \nQ 19.28125 33.59375 26.515625 31.984375 \nL 29.59375 31.296875 \nQ 39.15625 29.25 43.1875 25.515625 \nQ 47.21875 21.78125 47.21875 15.09375 \nQ 47.21875 7.46875 41.1875 3.015625 \nQ 35.15625 -1.421875 24.609375 -1.421875 \nQ 20.21875 -1.421875 15.453125 -0.5625 \nQ 10.6875 0.296875 5.421875 2 \nL 5.421875 11.28125 \nQ 10.40625 8.6875 15.234375 7.390625 \nQ 20.0625 6.109375 24.8125 6.109375 \nQ 31.15625 6.109375 34.5625 8.28125 \nQ 37.984375 10.453125 37.984375 14.40625 \nQ 37.984375 18.0625 35.515625 20.015625 \nQ 33.0625 21.96875 24.703125 23.78125 \nL 21.578125 24.515625 \nQ 13.234375 26.265625 9.515625 29.90625 \nQ 5.8125 33.546875 5.8125 39.890625 \nQ 5.8125 47.609375 11.28125 51.796875 \nQ 16.75 56 26.8125 56 \nQ 31.78125 56 36.171875 55.265625 \nQ 40.578125 54.546875 44.28125 53.078125 \nz\n\" id=\"DejaVuSans-115\"/>\n     <path d=\"M 54.890625 33.015625 \nL 54.890625 0 \nL 45.90625 0 \nL 45.90625 32.71875 \nQ 45.90625 40.484375 42.875 44.328125 \nQ 39.84375 48.1875 33.796875 48.1875 \nQ 26.515625 48.1875 22.3125 43.546875 \nQ 18.109375 38.921875 18.109375 30.90625 \nL 18.109375 0 \nL 9.078125 0 \nL 9.078125 75.984375 \nL 18.109375 75.984375 \nL 18.109375 46.1875 \nQ 21.34375 51.125 25.703125 53.5625 \nQ 30.078125 56 35.796875 56 \nQ 45.21875 56 50.046875 50.171875 \nQ 54.890625 44.34375 54.890625 33.015625 \nz\n\" id=\"DejaVuSans-104\"/>\n     <path d=\"M 64.40625 67.28125 \nL 64.40625 56.890625 \nQ 59.421875 61.53125 53.78125 63.8125 \nQ 48.140625 66.109375 41.796875 66.109375 \nQ 29.296875 66.109375 22.65625 58.46875 \nQ 16.015625 50.828125 16.015625 36.375 \nQ 16.015625 21.96875 22.65625 14.328125 \nQ 29.296875 6.6875 41.796875 6.6875 \nQ 48.140625 6.6875 53.78125 8.984375 \nQ 59.421875 11.28125 64.40625 15.921875 \nL 64.40625 5.609375 \nQ 59.234375 2.09375 53.4375 0.328125 \nQ 47.65625 -1.421875 41.21875 -1.421875 \nQ 24.65625 -1.421875 15.125 8.703125 \nQ 5.609375 18.84375 5.609375 36.375 \nQ 5.609375 53.953125 15.125 64.078125 \nQ 24.65625 74.21875 41.21875 74.21875 \nQ 47.75 74.21875 53.53125 72.484375 \nQ 59.328125 70.75 64.40625 67.28125 \nz\n\" id=\"DejaVuSans-67\"/>\n     <path d=\"M 30.609375 48.390625 \nQ 23.390625 48.390625 19.1875 42.75 \nQ 14.984375 37.109375 14.984375 27.296875 \nQ 14.984375 17.484375 19.15625 11.84375 \nQ 23.34375 6.203125 30.609375 6.203125 \nQ 37.796875 6.203125 41.984375 11.859375 \nQ 46.1875 17.53125 46.1875 27.296875 \nQ 46.1875 37.015625 41.984375 42.703125 \nQ 37.796875 48.390625 30.609375 48.390625 \nz\nM 30.609375 56 \nQ 42.328125 56 49.015625 48.375 \nQ 55.71875 40.765625 55.71875 27.296875 \nQ 55.71875 13.875 49.015625 6.21875 \nQ 42.328125 -1.421875 30.609375 -1.421875 \nQ 18.84375 -1.421875 12.171875 6.21875 \nQ 5.515625 13.875 5.515625 27.296875 \nQ 5.515625 40.765625 12.171875 48.375 \nQ 18.84375 56 30.609375 56 \nz\n\" id=\"DejaVuSans-111\"/>\n     <path d=\"M 18.109375 8.203125 \nL 18.109375 -20.796875 \nL 9.078125 -20.796875 \nL 9.078125 54.6875 \nL 18.109375 54.6875 \nL 18.109375 46.390625 \nQ 20.953125 51.265625 25.265625 53.625 \nQ 29.59375 56 35.59375 56 \nQ 45.5625 56 51.78125 48.09375 \nQ 58.015625 40.1875 58.015625 27.296875 \nQ 58.015625 14.40625 51.78125 6.484375 \nQ 45.5625 -1.421875 35.59375 -1.421875 \nQ 29.59375 -1.421875 25.265625 0.953125 \nQ 20.953125 3.328125 18.109375 8.203125 \nz\nM 48.6875 27.296875 \nQ 48.6875 37.203125 44.609375 42.84375 \nQ 40.53125 48.484375 33.40625 48.484375 \nQ 26.265625 48.484375 22.1875 42.84375 \nQ 18.109375 37.203125 18.109375 27.296875 \nQ 18.109375 17.390625 22.1875 11.75 \nQ 26.265625 6.109375 33.40625 6.109375 \nQ 40.53125 6.109375 44.609375 11.75 \nQ 48.6875 17.390625 48.6875 27.296875 \nz\n\" id=\"DejaVuSans-112\"/>\n     <path d=\"M 8.5 21.578125 \nL 8.5 54.6875 \nL 17.484375 54.6875 \nL 17.484375 21.921875 \nQ 17.484375 14.15625 20.5 10.265625 \nQ 23.53125 6.390625 29.59375 6.390625 \nQ 36.859375 6.390625 41.078125 11.03125 \nQ 45.3125 15.671875 45.3125 23.6875 \nL 45.3125 54.6875 \nL 54.296875 54.6875 \nL 54.296875 0 \nL 45.3125 0 \nL 45.3125 8.40625 \nQ 42.046875 3.421875 37.71875 1 \nQ 33.40625 -1.421875 27.6875 -1.421875 \nQ 18.265625 -1.421875 13.375 4.4375 \nQ 8.5 10.296875 8.5 21.578125 \nz\nM 31.109375 56 \nz\n\" id=\"DejaVuSans-117\"/>\n     <path d=\"M 31 75.875 \nQ 24.46875 64.65625 21.28125 53.65625 \nQ 18.109375 42.671875 18.109375 31.390625 \nQ 18.109375 20.125 21.3125 9.0625 \nQ 24.515625 -2 31 -13.1875 \nL 23.1875 -13.1875 \nQ 15.875 -1.703125 12.234375 9.375 \nQ 8.59375 20.453125 8.59375 31.390625 \nQ 8.59375 42.28125 12.203125 53.3125 \nQ 15.828125 64.359375 23.1875 75.875 \nz\n\" id=\"DejaVuSans-40\"/>\n     <path d=\"M 52 44.1875 \nQ 55.375 50.25 60.0625 53.125 \nQ 64.75 56 71.09375 56 \nQ 79.640625 56 84.28125 50.015625 \nQ 88.921875 44.046875 88.921875 33.015625 \nL 88.921875 0 \nL 79.890625 0 \nL 79.890625 32.71875 \nQ 79.890625 40.578125 77.09375 44.375 \nQ 74.3125 48.1875 68.609375 48.1875 \nQ 61.625 48.1875 57.5625 43.546875 \nQ 53.515625 38.921875 53.515625 30.90625 \nL 53.515625 0 \nL 44.484375 0 \nL 44.484375 32.71875 \nQ 44.484375 40.625 41.703125 44.40625 \nQ 38.921875 48.1875 33.109375 48.1875 \nQ 26.21875 48.1875 22.15625 43.53125 \nQ 18.109375 38.875 18.109375 30.90625 \nL 18.109375 0 \nL 9.078125 0 \nL 9.078125 54.6875 \nL 18.109375 54.6875 \nL 18.109375 46.1875 \nQ 21.1875 51.21875 25.484375 53.609375 \nQ 29.78125 56 35.6875 56 \nQ 41.65625 56 45.828125 52.96875 \nQ 50 49.953125 52 44.1875 \nz\n\" id=\"DejaVuSans-109\"/>\n     <path d=\"M 2.984375 54.6875 \nL 12.5 54.6875 \nL 29.59375 8.796875 \nL 46.6875 54.6875 \nL 56.203125 54.6875 \nL 35.6875 0 \nL 23.484375 0 \nz\n\" id=\"DejaVuSans-118\"/>\n     <path d=\"M 48.78125 52.59375 \nL 48.78125 44.1875 \nQ 44.96875 46.296875 41.140625 47.34375 \nQ 37.3125 48.390625 33.40625 48.390625 \nQ 24.65625 48.390625 19.8125 42.84375 \nQ 14.984375 37.3125 14.984375 27.296875 \nQ 14.984375 17.28125 19.8125 11.734375 \nQ 24.65625 6.203125 33.40625 6.203125 \nQ 37.3125 6.203125 41.140625 7.25 \nQ 44.96875 8.296875 48.78125 10.40625 \nL 48.78125 2.09375 \nQ 45.015625 0.34375 40.984375 -0.53125 \nQ 36.96875 -1.421875 32.421875 -1.421875 \nQ 20.0625 -1.421875 12.78125 6.34375 \nQ 5.515625 14.109375 5.515625 27.296875 \nQ 5.515625 40.671875 12.859375 48.328125 \nQ 20.21875 56 33.015625 56 \nQ 37.15625 56 41.109375 55.140625 \nQ 45.0625 54.296875 48.78125 52.59375 \nz\n\" id=\"DejaVuSans-99\"/>\n     <path d=\"M 48.6875 27.296875 \nQ 48.6875 37.203125 44.609375 42.84375 \nQ 40.53125 48.484375 33.40625 48.484375 \nQ 26.265625 48.484375 22.1875 42.84375 \nQ 18.109375 37.203125 18.109375 27.296875 \nQ 18.109375 17.390625 22.1875 11.75 \nQ 26.265625 6.109375 33.40625 6.109375 \nQ 40.53125 6.109375 44.609375 11.75 \nQ 48.6875 17.390625 48.6875 27.296875 \nz\nM 18.109375 46.390625 \nQ 20.953125 51.265625 25.265625 53.625 \nQ 29.59375 56 35.59375 56 \nQ 45.5625 56 51.78125 48.09375 \nQ 58.015625 40.1875 58.015625 27.296875 \nQ 58.015625 14.40625 51.78125 6.484375 \nQ 45.5625 -1.421875 35.59375 -1.421875 \nQ 29.59375 -1.421875 25.265625 0.953125 \nQ 20.953125 3.328125 18.109375 8.203125 \nL 18.109375 0 \nL 9.078125 0 \nL 9.078125 75.984375 \nL 18.109375 75.984375 \nz\n\" id=\"DejaVuSans-98\"/>\n     <path d=\"M 32.171875 -5.078125 \nQ 28.375 -14.84375 24.75 -17.8125 \nQ 21.140625 -20.796875 15.09375 -20.796875 \nL 7.90625 -20.796875 \nL 7.90625 -13.28125 \nL 13.1875 -13.28125 \nQ 16.890625 -13.28125 18.9375 -11.515625 \nQ 21 -9.765625 23.484375 -3.21875 \nL 25.09375 0.875 \nL 2.984375 54.6875 \nL 12.5 54.6875 \nL 29.59375 11.921875 \nL 46.6875 54.6875 \nL 56.203125 54.6875 \nz\n\" id=\"DejaVuSans-121\"/>\n     <path d=\"M 8.015625 75.875 \nL 15.828125 75.875 \nQ 23.140625 64.359375 26.78125 53.3125 \nQ 30.421875 42.28125 30.421875 31.390625 \nQ 30.421875 20.453125 26.78125 9.375 \nQ 23.140625 -1.703125 15.828125 -13.1875 \nL 8.015625 -13.1875 \nQ 14.5 -2 17.703125 9.0625 \nQ 20.90625 20.125 20.90625 31.390625 \nQ 20.90625 42.671875 17.703125 53.65625 \nQ 14.5 64.65625 8.015625 75.875 \nz\n\" id=\"DejaVuSans-41\"/>\n    </defs>\n    <g transform=\"translate(56.785938 16.318125)scale(0.12 -0.12)\">\n     <use xlink:href=\"#DejaVuSans-79\"/>\n     <use x=\"78.710938\" xlink:href=\"#DejaVuSans-79\"/>\n     <use x=\"157.40625\" xlink:href=\"#DejaVuSans-86\"/>\n     <use x=\"225.689453\" xlink:href=\"#DejaVuSans-58\"/>\n     <use x=\"259.380859\" xlink:href=\"#DejaVuSans-32\"/>\n     <use x=\"291.167969\" xlink:href=\"#DejaVuSans-69\"/>\n     <use x=\"354.351562\" xlink:href=\"#DejaVuSans-110\"/>\n     <use x=\"417.730469\" xlink:href=\"#DejaVuSans-103\"/>\n     <use x=\"481.207031\" xlink:href=\"#DejaVuSans-108\"/>\n     <use x=\"508.990234\" xlink:href=\"#DejaVuSans-105\"/>\n     <use x=\"536.773438\" xlink:href=\"#DejaVuSans-115\"/>\n     <use x=\"588.873047\" xlink:href=\"#DejaVuSans-104\"/>\n     <use x=\"652.251953\" xlink:href=\"#DejaVuSans-32\"/>\n     <use x=\"684.039062\" xlink:href=\"#DejaVuSans-67\"/>\n     <use x=\"753.863281\" xlink:href=\"#DejaVuSans-111\"/>\n     <use x=\"815.044922\" xlink:href=\"#DejaVuSans-114\"/>\n     <use x=\"856.158203\" xlink:href=\"#DejaVuSans-112\"/>\n     <use x=\"919.634766\" xlink:href=\"#DejaVuSans-117\"/>\n     <use x=\"983.013672\" xlink:href=\"#DejaVuSans-115\"/>\n     <use x=\"1035.113281\" xlink:href=\"#DejaVuSans-32\"/>\n     <use x=\"1066.900391\" xlink:href=\"#DejaVuSans-40\"/>\n     <use x=\"1105.914062\" xlink:href=\"#DejaVuSans-115\"/>\n     <use x=\"1158.013672\" xlink:href=\"#DejaVuSans-109\"/>\n     <use x=\"1255.425781\" xlink:href=\"#DejaVuSans-97\"/>\n     <use x=\"1316.705078\" xlink:href=\"#DejaVuSans-108\"/>\n     <use x=\"1344.488281\" xlink:href=\"#DejaVuSans-108\"/>\n     <use x=\"1372.271484\" xlink:href=\"#DejaVuSans-101\"/>\n     <use x=\"1433.794922\" xlink:href=\"#DejaVuSans-114\"/>\n     <use x=\"1474.908203\" xlink:href=\"#DejaVuSans-32\"/>\n     <use x=\"1506.695312\" xlink:href=\"#DejaVuSans-118\"/>\n     <use x=\"1565.875\" xlink:href=\"#DejaVuSans-111\"/>\n     <use x=\"1627.056641\" xlink:href=\"#DejaVuSans-99\"/>\n     <use x=\"1682.037109\" xlink:href=\"#DejaVuSans-97\"/>\n     <use x=\"1743.316406\" xlink:href=\"#DejaVuSans-98\"/>\n     <use x=\"1806.792969\" xlink:href=\"#DejaVuSans-117\"/>\n     <use x=\"1870.171875\" xlink:href=\"#DejaVuSans-108\"/>\n     <use x=\"1897.955078\" xlink:href=\"#DejaVuSans-97\"/>\n     <use x=\"1959.234375\" xlink:href=\"#DejaVuSans-114\"/>\n     <use x=\"2000.347656\" xlink:href=\"#DejaVuSans-121\"/>\n     <use x=\"2059.527344\" xlink:href=\"#DejaVuSans-32\"/>\n     <use x=\"2091.314453\" xlink:href=\"#DejaVuSans-103\"/>\n     <use x=\"2154.791016\" xlink:href=\"#DejaVuSans-114\"/>\n     <use x=\"2195.904297\" xlink:href=\"#DejaVuSans-97\"/>\n     <use x=\"2257.183594\" xlink:href=\"#DejaVuSans-110\"/>\n     <use x=\"2320.5625\" xlink:href=\"#DejaVuSans-117\"/>\n     <use x=\"2383.941406\" xlink:href=\"#DejaVuSans-108\"/>\n     <use x=\"2411.724609\" xlink:href=\"#DejaVuSans-97\"/>\n     <use x=\"2473.003906\" xlink:href=\"#DejaVuSans-114\"/>\n     <use x=\"2514.117188\" xlink:href=\"#DejaVuSans-105\"/>\n     <use x=\"2541.900391\" xlink:href=\"#DejaVuSans-116\"/>\n     <use x=\"2581.109375\" xlink:href=\"#DejaVuSans-121\"/>\n     <use x=\"2640.289062\" xlink:href=\"#DejaVuSans-41\"/>\n    </g>\n   </g>\n  </g>\n </g>\n <defs>\n  <clipPath id=\"pcc894226b5\">\n   <rect height=\"217.44\" width=\"334.8\" x=\"50.14375\" y=\"22.318125\"/>\n  </clipPath>\n </defs>\n</svg>\n",
      "image/png": "[encoded data removed]"
     },
     "metadata": {
      "needs_background": "light"
     }
    }
   ],
   "metadata": {}
  },
  {
   "cell_type": "code",
   "execution_count": 15,
   "source": [
    "# larger vocabulary \n",
    "x = range(1,8)\n",
    "\n",
    "plt.bar(x, oov_lrV)\n",
    "plt.xlabel('k')\n",
    "plt.ylabel('OOV rate')\n",
    "plt.title(\"OOV: English Corpus (larger vocabulary granularity)\" )\n",
    "plt.show()\n"
   ],
   "outputs": [
    {
     "output_type": "display_data",
     "data": {
      "text/plain": [
       "<Figure size 432x288 with 1 Axes>"
      ],
      "image/svg+xml": "<?xml version=\"1.0\" encoding=\"utf-8\" standalone=\"no\"?>\n<!DOCTYPE svg PUBLIC \"-//W3C//DTD SVG 1.1//EN\"\n  \"http://www.w3.org/Graphics/SVG/1.1/DTD/svg11.dtd\">\n<!-- Created with matplotlib (https://matplotlib.org/) -->\n<svg height=\"277.314375pt\" version=\"1.1\" viewBox=\"0 0 392.14375 277.314375\" width=\"392.14375pt\" xmlns=\"http://www.w3.org/2000/svg\" xmlns:xlink=\"http://www.w3.org/1999/xlink\">\n <defs>\n  <style type=\"text/css\">\n*{stroke-linecap:butt;stroke-linejoin:round;}\n  </style>\n </defs>\n <g id=\"figure_1\">\n  <g id=\"patch_1\">\n   <path d=\"M 0 277.314375 \nL 392.14375 277.314375 \nL 392.14375 0 \nL 0 0 \nz\n\" style=\"fill:none;\"/>\n  </g>\n  <g id=\"axes_1\">\n   <g id=\"patch_2\">\n    <path d=\"M 50.14375 239.758125 \nL 384.94375 239.758125 \nL 384.94375 22.318125 \nL 50.14375 22.318125 \nz\n\" style=\"fill:#ffffff;\"/>\n   </g>\n   <g id=\"patch_3\">\n    <path clip-path=\"url(#p307b9599a8)\" d=\"M 65.361932 239.758125 \nL 101.169418 239.758125 \nL 101.169418 32.672411 \nL 65.361932 32.672411 \nz\n\" style=\"fill:#1f77b4;\"/>\n   </g>\n   <g id=\"patch_4\">\n    <path clip-path=\"url(#p307b9599a8)\" d=\"M 110.12129 239.758125 \nL 145.928777 239.758125 \nL 145.928777 32.672411 \nL 110.12129 32.672411 \nz\n\" style=\"fill:#1f77b4;\"/>\n   </g>\n   <g id=\"patch_5\">\n    <path clip-path=\"url(#p307b9599a8)\" d=\"M 154.880648 239.758125 \nL 190.688135 239.758125 \nL 190.688135 33.050304 \nL 154.880648 33.050304 \nz\n\" style=\"fill:#1f77b4;\"/>\n   </g>\n   <g id=\"patch_6\">\n    <path clip-path=\"url(#p307b9599a8)\" d=\"M 199.640007 239.758125 \nL 235.447493 239.758125 \nL 235.447493 34.939773 \nL 199.640007 34.939773 \nz\n\" style=\"fill:#1f77b4;\"/>\n   </g>\n   <g id=\"patch_7\">\n    <path clip-path=\"url(#p307b9599a8)\" d=\"M 244.399365 239.758125 \nL 280.206852 239.758125 \nL 280.206852 46.276582 \nL 244.399365 46.276582 \nz\n\" style=\"fill:#1f77b4;\"/>\n   </g>\n   <g id=\"patch_8\">\n    <path clip-path=\"url(#p307b9599a8)\" d=\"M 289.158723 239.758125 \nL 324.96621 239.758125 \nL 324.96621 62.148115 \nL 289.158723 62.148115 \nz\n\" style=\"fill:#1f77b4;\"/>\n   </g>\n   <g id=\"patch_9\">\n    <path clip-path=\"url(#p307b9599a8)\" d=\"M 333.918082 239.758125 \nL 369.725568 239.758125 \nL 369.725568 86.711201 \nL 333.918082 86.711201 \nz\n\" style=\"fill:#1f77b4;\"/>\n   </g>\n   <g id=\"matplotlib.axis_1\">\n    <g id=\"xtick_1\">\n     <g id=\"line2d_1\">\n      <defs>\n       <path d=\"M 0 0 \nL 0 3.5 \n\" id=\"m383d0fda2a\" style=\"stroke:#000000;stroke-width:0.8;\"/>\n      </defs>\n      <g>\n       <use style=\"stroke:#000000;stroke-width:0.8;\" x=\"83.265675\" xlink:href=\"#m383d0fda2a\" y=\"239.758125\"/>\n      </g>\n     </g>\n     <g id=\"text_1\">\n      <!-- 1 -->\n      <defs>\n       <path d=\"M 12.40625 8.296875 \nL 28.515625 8.296875 \nL 28.515625 63.921875 \nL 10.984375 60.40625 \nL 10.984375 69.390625 \nL 28.421875 72.90625 \nL 38.28125 72.90625 \nL 38.28125 8.296875 \nL 54.390625 8.296875 \nL 54.390625 0 \nL 12.40625 0 \nz\n\" id=\"DejaVuSans-49\"/>\n      </defs>\n      <g transform=\"translate(80.084425 254.356562)scale(0.1 -0.1)\">\n       <use xlink:href=\"#DejaVuSans-49\"/>\n      </g>\n     </g>\n    </g>\n    <g id=\"xtick_2\">\n     <g id=\"line2d_2\">\n      <g>\n       <use style=\"stroke:#000000;stroke-width:0.8;\" x=\"128.025033\" xlink:href=\"#m383d0fda2a\" y=\"239.758125\"/>\n      </g>\n     </g>\n     <g id=\"text_2\">\n      <!-- 2 -->\n      <defs>\n       <path d=\"M 19.1875 8.296875 \nL 53.609375 8.296875 \nL 53.609375 0 \nL 7.328125 0 \nL 7.328125 8.296875 \nQ 12.9375 14.109375 22.625 23.890625 \nQ 32.328125 33.6875 34.8125 36.53125 \nQ 39.546875 41.84375 41.421875 45.53125 \nQ 43.3125 49.21875 43.3125 52.78125 \nQ 43.3125 58.59375 39.234375 62.25 \nQ 35.15625 65.921875 28.609375 65.921875 \nQ 23.96875 65.921875 18.8125 64.3125 \nQ 13.671875 62.703125 7.8125 59.421875 \nL 7.8125 69.390625 \nQ 13.765625 71.78125 18.9375 73 \nQ 24.125 74.21875 28.421875 74.21875 \nQ 39.75 74.21875 46.484375 68.546875 \nQ 53.21875 62.890625 53.21875 53.421875 \nQ 53.21875 48.921875 51.53125 44.890625 \nQ 49.859375 40.875 45.40625 35.40625 \nQ 44.1875 33.984375 37.640625 27.21875 \nQ 31.109375 20.453125 19.1875 8.296875 \nz\n\" id=\"DejaVuSans-50\"/>\n      </defs>\n      <g transform=\"translate(124.843783 254.356562)scale(0.1 -0.1)\">\n       <use xlink:href=\"#DejaVuSans-50\"/>\n      </g>\n     </g>\n    </g>\n    <g id=\"xtick_3\">\n     <g id=\"line2d_3\">\n      <g>\n       <use style=\"stroke:#000000;stroke-width:0.8;\" x=\"172.784392\" xlink:href=\"#m383d0fda2a\" y=\"239.758125\"/>\n      </g>\n     </g>\n     <g id=\"text_3\">\n      <!-- 3 -->\n      <defs>\n       <path d=\"M 40.578125 39.3125 \nQ 47.65625 37.796875 51.625 33 \nQ 55.609375 28.21875 55.609375 21.1875 \nQ 55.609375 10.40625 48.1875 4.484375 \nQ 40.765625 -1.421875 27.09375 -1.421875 \nQ 22.515625 -1.421875 17.65625 -0.515625 \nQ 12.796875 0.390625 7.625 2.203125 \nL 7.625 11.71875 \nQ 11.71875 9.328125 16.59375 8.109375 \nQ 21.484375 6.890625 26.8125 6.890625 \nQ 36.078125 6.890625 40.9375 10.546875 \nQ 45.796875 14.203125 45.796875 21.1875 \nQ 45.796875 27.640625 41.28125 31.265625 \nQ 36.765625 34.90625 28.71875 34.90625 \nL 20.21875 34.90625 \nL 20.21875 43.015625 \nL 29.109375 43.015625 \nQ 36.375 43.015625 40.234375 45.921875 \nQ 44.09375 48.828125 44.09375 54.296875 \nQ 44.09375 59.90625 40.109375 62.90625 \nQ 36.140625 65.921875 28.71875 65.921875 \nQ 24.65625 65.921875 20.015625 65.03125 \nQ 15.375 64.15625 9.8125 62.3125 \nL 9.8125 71.09375 \nQ 15.4375 72.65625 20.34375 73.4375 \nQ 25.25 74.21875 29.59375 74.21875 \nQ 40.828125 74.21875 47.359375 69.109375 \nQ 53.90625 64.015625 53.90625 55.328125 \nQ 53.90625 49.265625 50.4375 45.09375 \nQ 46.96875 40.921875 40.578125 39.3125 \nz\n\" id=\"DejaVuSans-51\"/>\n      </defs>\n      <g transform=\"translate(169.603142 254.356562)scale(0.1 -0.1)\">\n       <use xlink:href=\"#DejaVuSans-51\"/>\n      </g>\n     </g>\n    </g>\n    <g id=\"xtick_4\">\n     <g id=\"line2d_4\">\n      <g>\n       <use style=\"stroke:#000000;stroke-width:0.8;\" x=\"217.54375\" xlink:href=\"#m383d0fda2a\" y=\"239.758125\"/>\n      </g>\n     </g>\n     <g id=\"text_4\">\n      <!-- 4 -->\n      <defs>\n       <path d=\"M 37.796875 64.3125 \nL 12.890625 25.390625 \nL 37.796875 25.390625 \nz\nM 35.203125 72.90625 \nL 47.609375 72.90625 \nL 47.609375 25.390625 \nL 58.015625 25.390625 \nL 58.015625 17.1875 \nL 47.609375 17.1875 \nL 47.609375 0 \nL 37.796875 0 \nL 37.796875 17.1875 \nL 4.890625 17.1875 \nL 4.890625 26.703125 \nz\n\" id=\"DejaVuSans-52\"/>\n      </defs>\n      <g transform=\"translate(214.3625 254.356562)scale(0.1 -0.1)\">\n       <use xlink:href=\"#DejaVuSans-52\"/>\n      </g>\n     </g>\n    </g>\n    <g id=\"xtick_5\">\n     <g id=\"line2d_5\">\n      <g>\n       <use style=\"stroke:#000000;stroke-width:0.8;\" x=\"262.303108\" xlink:href=\"#m383d0fda2a\" y=\"239.758125\"/>\n      </g>\n     </g>\n     <g id=\"text_5\">\n      <!-- 5 -->\n      <defs>\n       <path d=\"M 10.796875 72.90625 \nL 49.515625 72.90625 \nL 49.515625 64.59375 \nL 19.828125 64.59375 \nL 19.828125 46.734375 \nQ 21.96875 47.46875 24.109375 47.828125 \nQ 26.265625 48.1875 28.421875 48.1875 \nQ 40.625 48.1875 47.75 41.5 \nQ 54.890625 34.8125 54.890625 23.390625 \nQ 54.890625 11.625 47.5625 5.09375 \nQ 40.234375 -1.421875 26.90625 -1.421875 \nQ 22.3125 -1.421875 17.546875 -0.640625 \nQ 12.796875 0.140625 7.71875 1.703125 \nL 7.71875 11.625 \nQ 12.109375 9.234375 16.796875 8.0625 \nQ 21.484375 6.890625 26.703125 6.890625 \nQ 35.15625 6.890625 40.078125 11.328125 \nQ 45.015625 15.765625 45.015625 23.390625 \nQ 45.015625 31 40.078125 35.4375 \nQ 35.15625 39.890625 26.703125 39.890625 \nQ 22.75 39.890625 18.8125 39.015625 \nQ 14.890625 38.140625 10.796875 36.28125 \nz\n\" id=\"DejaVuSans-53\"/>\n      </defs>\n      <g transform=\"translate(259.121858 254.356562)scale(0.1 -0.1)\">\n       <use xlink:href=\"#DejaVuSans-53\"/>\n      </g>\n     </g>\n    </g>\n    <g id=\"xtick_6\">\n     <g id=\"line2d_6\">\n      <g>\n       <use style=\"stroke:#000000;stroke-width:0.8;\" x=\"307.062467\" xlink:href=\"#m383d0fda2a\" y=\"239.758125\"/>\n      </g>\n     </g>\n     <g id=\"text_6\">\n      <!-- 6 -->\n      <defs>\n       <path d=\"M 33.015625 40.375 \nQ 26.375 40.375 22.484375 35.828125 \nQ 18.609375 31.296875 18.609375 23.390625 \nQ 18.609375 15.53125 22.484375 10.953125 \nQ 26.375 6.390625 33.015625 6.390625 \nQ 39.65625 6.390625 43.53125 10.953125 \nQ 47.40625 15.53125 47.40625 23.390625 \nQ 47.40625 31.296875 43.53125 35.828125 \nQ 39.65625 40.375 33.015625 40.375 \nz\nM 52.59375 71.296875 \nL 52.59375 62.3125 \nQ 48.875 64.0625 45.09375 64.984375 \nQ 41.3125 65.921875 37.59375 65.921875 \nQ 27.828125 65.921875 22.671875 59.328125 \nQ 17.53125 52.734375 16.796875 39.40625 \nQ 19.671875 43.65625 24.015625 45.921875 \nQ 28.375 48.1875 33.59375 48.1875 \nQ 44.578125 48.1875 50.953125 41.515625 \nQ 57.328125 34.859375 57.328125 23.390625 \nQ 57.328125 12.15625 50.6875 5.359375 \nQ 44.046875 -1.421875 33.015625 -1.421875 \nQ 20.359375 -1.421875 13.671875 8.265625 \nQ 6.984375 17.96875 6.984375 36.375 \nQ 6.984375 53.65625 15.1875 63.9375 \nQ 23.390625 74.21875 37.203125 74.21875 \nQ 40.921875 74.21875 44.703125 73.484375 \nQ 48.484375 72.75 52.59375 71.296875 \nz\n\" id=\"DejaVuSans-54\"/>\n      </defs>\n      <g transform=\"translate(303.881217 254.356562)scale(0.1 -0.1)\">\n       <use xlink:href=\"#DejaVuSans-54\"/>\n      </g>\n     </g>\n    </g>\n    <g id=\"xtick_7\">\n     <g id=\"line2d_7\">\n      <g>\n       <use style=\"stroke:#000000;stroke-width:0.8;\" x=\"351.821825\" xlink:href=\"#m383d0fda2a\" y=\"239.758125\"/>\n      </g>\n     </g>\n     <g id=\"text_7\">\n      <!-- 7 -->\n      <defs>\n       <path d=\"M 8.203125 72.90625 \nL 55.078125 72.90625 \nL 55.078125 68.703125 \nL 28.609375 0 \nL 18.3125 0 \nL 43.21875 64.59375 \nL 8.203125 64.59375 \nz\n\" id=\"DejaVuSans-55\"/>\n      </defs>\n      <g transform=\"translate(348.640575 254.356562)scale(0.1 -0.1)\">\n       <use xlink:href=\"#DejaVuSans-55\"/>\n      </g>\n     </g>\n    </g>\n    <g id=\"text_8\">\n     <!-- k -->\n     <defs>\n      <path d=\"M 9.078125 75.984375 \nL 18.109375 75.984375 \nL 18.109375 31.109375 \nL 44.921875 54.6875 \nL 56.390625 54.6875 \nL 27.390625 29.109375 \nL 57.625 0 \nL 45.90625 0 \nL 18.109375 26.703125 \nL 18.109375 0 \nL 9.078125 0 \nz\n\" id=\"DejaVuSans-107\"/>\n     </defs>\n     <g transform=\"translate(214.648438 268.034687)scale(0.1 -0.1)\">\n      <use xlink:href=\"#DejaVuSans-107\"/>\n     </g>\n    </g>\n   </g>\n   <g id=\"matplotlib.axis_2\">\n    <g id=\"ytick_1\">\n     <g id=\"line2d_8\">\n      <defs>\n       <path d=\"M 0 0 \nL -3.5 0 \n\" id=\"mc2cc88f020\" style=\"stroke:#000000;stroke-width:0.8;\"/>\n      </defs>\n      <g>\n       <use style=\"stroke:#000000;stroke-width:0.8;\" x=\"50.14375\" xlink:href=\"#mc2cc88f020\" y=\"239.758125\"/>\n      </g>\n     </g>\n     <g id=\"text_9\">\n      <!-- 0.00 -->\n      <defs>\n       <path d=\"M 31.78125 66.40625 \nQ 24.171875 66.40625 20.328125 58.90625 \nQ 16.5 51.421875 16.5 36.375 \nQ 16.5 21.390625 20.328125 13.890625 \nQ 24.171875 6.390625 31.78125 6.390625 \nQ 39.453125 6.390625 43.28125 13.890625 \nQ 47.125 21.390625 47.125 36.375 \nQ 47.125 51.421875 43.28125 58.90625 \nQ 39.453125 66.40625 31.78125 66.40625 \nz\nM 31.78125 74.21875 \nQ 44.046875 74.21875 50.515625 64.515625 \nQ 56.984375 54.828125 56.984375 36.375 \nQ 56.984375 17.96875 50.515625 8.265625 \nQ 44.046875 -1.421875 31.78125 -1.421875 \nQ 19.53125 -1.421875 13.0625 8.265625 \nQ 6.59375 17.96875 6.59375 36.375 \nQ 6.59375 54.828125 13.0625 64.515625 \nQ 19.53125 74.21875 31.78125 74.21875 \nz\n\" id=\"DejaVuSans-48\"/>\n       <path d=\"M 10.6875 12.40625 \nL 21 12.40625 \nL 21 0 \nL 10.6875 0 \nz\n\" id=\"DejaVuSans-46\"/>\n      </defs>\n      <g transform=\"translate(20.878125 243.557344)scale(0.1 -0.1)\">\n       <use xlink:href=\"#DejaVuSans-48\"/>\n       <use x=\"63.623047\" xlink:href=\"#DejaVuSans-46\"/>\n       <use x=\"95.410156\" xlink:href=\"#DejaVuSans-48\"/>\n       <use x=\"159.033203\" xlink:href=\"#DejaVuSans-48\"/>\n      </g>\n     </g>\n    </g>\n    <g id=\"ytick_2\">\n     <g id=\"line2d_9\">\n      <g>\n       <use style=\"stroke:#000000;stroke-width:0.8;\" x=\"50.14375\" xlink:href=\"#mc2cc88f020\" y=\"201.175184\"/>\n      </g>\n     </g>\n     <g id=\"text_10\">\n      <!-- 0.02 -->\n      <g transform=\"translate(20.878125 204.974403)scale(0.1 -0.1)\">\n       <use xlink:href=\"#DejaVuSans-48\"/>\n       <use x=\"63.623047\" xlink:href=\"#DejaVuSans-46\"/>\n       <use x=\"95.410156\" xlink:href=\"#DejaVuSans-48\"/>\n       <use x=\"159.033203\" xlink:href=\"#DejaVuSans-50\"/>\n      </g>\n     </g>\n    </g>\n    <g id=\"ytick_3\">\n     <g id=\"line2d_10\">\n      <g>\n       <use style=\"stroke:#000000;stroke-width:0.8;\" x=\"50.14375\" xlink:href=\"#mc2cc88f020\" y=\"162.592244\"/>\n      </g>\n     </g>\n     <g id=\"text_11\">\n      <!-- 0.04 -->\n      <g transform=\"translate(20.878125 166.391463)scale(0.1 -0.1)\">\n       <use xlink:href=\"#DejaVuSans-48\"/>\n       <use x=\"63.623047\" xlink:href=\"#DejaVuSans-46\"/>\n       <use x=\"95.410156\" xlink:href=\"#DejaVuSans-48\"/>\n       <use x=\"159.033203\" xlink:href=\"#DejaVuSans-52\"/>\n      </g>\n     </g>\n    </g>\n    <g id=\"ytick_4\">\n     <g id=\"line2d_11\">\n      <g>\n       <use style=\"stroke:#000000;stroke-width:0.8;\" x=\"50.14375\" xlink:href=\"#mc2cc88f020\" y=\"124.009303\"/>\n      </g>\n     </g>\n     <g id=\"text_12\">\n      <!-- 0.06 -->\n      <g transform=\"translate(20.878125 127.808522)scale(0.1 -0.1)\">\n       <use xlink:href=\"#DejaVuSans-48\"/>\n       <use x=\"63.623047\" xlink:href=\"#DejaVuSans-46\"/>\n       <use x=\"95.410156\" xlink:href=\"#DejaVuSans-48\"/>\n       <use x=\"159.033203\" xlink:href=\"#DejaVuSans-54\"/>\n      </g>\n     </g>\n    </g>\n    <g id=\"ytick_5\">\n     <g id=\"line2d_12\">\n      <g>\n       <use style=\"stroke:#000000;stroke-width:0.8;\" x=\"50.14375\" xlink:href=\"#mc2cc88f020\" y=\"85.426363\"/>\n      </g>\n     </g>\n     <g id=\"text_13\">\n      <!-- 0.08 -->\n      <defs>\n       <path d=\"M 31.78125 34.625 \nQ 24.75 34.625 20.71875 30.859375 \nQ 16.703125 27.09375 16.703125 20.515625 \nQ 16.703125 13.921875 20.71875 10.15625 \nQ 24.75 6.390625 31.78125 6.390625 \nQ 38.8125 6.390625 42.859375 10.171875 \nQ 46.921875 13.96875 46.921875 20.515625 \nQ 46.921875 27.09375 42.890625 30.859375 \nQ 38.875 34.625 31.78125 34.625 \nz\nM 21.921875 38.8125 \nQ 15.578125 40.375 12.03125 44.71875 \nQ 8.5 49.078125 8.5 55.328125 \nQ 8.5 64.0625 14.71875 69.140625 \nQ 20.953125 74.21875 31.78125 74.21875 \nQ 42.671875 74.21875 48.875 69.140625 \nQ 55.078125 64.0625 55.078125 55.328125 \nQ 55.078125 49.078125 51.53125 44.71875 \nQ 48 40.375 41.703125 38.8125 \nQ 48.828125 37.15625 52.796875 32.3125 \nQ 56.78125 27.484375 56.78125 20.515625 \nQ 56.78125 9.90625 50.3125 4.234375 \nQ 43.84375 -1.421875 31.78125 -1.421875 \nQ 19.734375 -1.421875 13.25 4.234375 \nQ 6.78125 9.90625 6.78125 20.515625 \nQ 6.78125 27.484375 10.78125 32.3125 \nQ 14.796875 37.15625 21.921875 38.8125 \nz\nM 18.3125 54.390625 \nQ 18.3125 48.734375 21.84375 45.5625 \nQ 25.390625 42.390625 31.78125 42.390625 \nQ 38.140625 42.390625 41.71875 45.5625 \nQ 45.3125 48.734375 45.3125 54.390625 \nQ 45.3125 60.0625 41.71875 63.234375 \nQ 38.140625 66.40625 31.78125 66.40625 \nQ 25.390625 66.40625 21.84375 63.234375 \nQ 18.3125 60.0625 18.3125 54.390625 \nz\n\" id=\"DejaVuSans-56\"/>\n      </defs>\n      <g transform=\"translate(20.878125 89.225581)scale(0.1 -0.1)\">\n       <use xlink:href=\"#DejaVuSans-48\"/>\n       <use x=\"63.623047\" xlink:href=\"#DejaVuSans-46\"/>\n       <use x=\"95.410156\" xlink:href=\"#DejaVuSans-48\"/>\n       <use x=\"159.033203\" xlink:href=\"#DejaVuSans-56\"/>\n      </g>\n     </g>\n    </g>\n    <g id=\"ytick_6\">\n     <g id=\"line2d_13\">\n      <g>\n       <use style=\"stroke:#000000;stroke-width:0.8;\" x=\"50.14375\" xlink:href=\"#mc2cc88f020\" y=\"46.843422\"/>\n      </g>\n     </g>\n     <g id=\"text_14\">\n      <!-- 0.10 -->\n      <g transform=\"translate(20.878125 50.642641)scale(0.1 -0.1)\">\n       <use xlink:href=\"#DejaVuSans-48\"/>\n       <use x=\"63.623047\" xlink:href=\"#DejaVuSans-46\"/>\n       <use x=\"95.410156\" xlink:href=\"#DejaVuSans-49\"/>\n       <use x=\"159.033203\" xlink:href=\"#DejaVuSans-48\"/>\n      </g>\n     </g>\n    </g>\n    <g id=\"text_15\">\n     <!-- OOV rate -->\n     <defs>\n      <path d=\"M 39.40625 66.21875 \nQ 28.65625 66.21875 22.328125 58.203125 \nQ 16.015625 50.203125 16.015625 36.375 \nQ 16.015625 22.609375 22.328125 14.59375 \nQ 28.65625 6.59375 39.40625 6.59375 \nQ 50.140625 6.59375 56.421875 14.59375 \nQ 62.703125 22.609375 62.703125 36.375 \nQ 62.703125 50.203125 56.421875 58.203125 \nQ 50.140625 66.21875 39.40625 66.21875 \nz\nM 39.40625 74.21875 \nQ 54.734375 74.21875 63.90625 63.9375 \nQ 73.09375 53.65625 73.09375 36.375 \nQ 73.09375 19.140625 63.90625 8.859375 \nQ 54.734375 -1.421875 39.40625 -1.421875 \nQ 24.03125 -1.421875 14.8125 8.828125 \nQ 5.609375 19.09375 5.609375 36.375 \nQ 5.609375 53.65625 14.8125 63.9375 \nQ 24.03125 74.21875 39.40625 74.21875 \nz\n\" id=\"DejaVuSans-79\"/>\n      <path d=\"M 28.609375 0 \nL 0.78125 72.90625 \nL 11.078125 72.90625 \nL 34.1875 11.53125 \nL 57.328125 72.90625 \nL 67.578125 72.90625 \nL 39.796875 0 \nz\n\" id=\"DejaVuSans-86\"/>\n      <path id=\"DejaVuSans-32\"/>\n      <path d=\"M 41.109375 46.296875 \nQ 39.59375 47.171875 37.8125 47.578125 \nQ 36.03125 48 33.890625 48 \nQ 26.265625 48 22.1875 43.046875 \nQ 18.109375 38.09375 18.109375 28.8125 \nL 18.109375 0 \nL 9.078125 0 \nL 9.078125 54.6875 \nL 18.109375 54.6875 \nL 18.109375 46.1875 \nQ 20.953125 51.171875 25.484375 53.578125 \nQ 30.03125 56 36.53125 56 \nQ 37.453125 56 38.578125 55.875 \nQ 39.703125 55.765625 41.0625 55.515625 \nz\n\" id=\"DejaVuSans-114\"/>\n      <path d=\"M 34.28125 27.484375 \nQ 23.390625 27.484375 19.1875 25 \nQ 14.984375 22.515625 14.984375 16.5 \nQ 14.984375 11.71875 18.140625 8.90625 \nQ 21.296875 6.109375 26.703125 6.109375 \nQ 34.1875 6.109375 38.703125 11.40625 \nQ 43.21875 16.703125 43.21875 25.484375 \nL 43.21875 27.484375 \nz\nM 52.203125 31.203125 \nL 52.203125 0 \nL 43.21875 0 \nL 43.21875 8.296875 \nQ 40.140625 3.328125 35.546875 0.953125 \nQ 30.953125 -1.421875 24.3125 -1.421875 \nQ 15.921875 -1.421875 10.953125 3.296875 \nQ 6 8.015625 6 15.921875 \nQ 6 25.140625 12.171875 29.828125 \nQ 18.359375 34.515625 30.609375 34.515625 \nL 43.21875 34.515625 \nL 43.21875 35.40625 \nQ 43.21875 41.609375 39.140625 45 \nQ 35.0625 48.390625 27.6875 48.390625 \nQ 23 48.390625 18.546875 47.265625 \nQ 14.109375 46.140625 10.015625 43.890625 \nL 10.015625 52.203125 \nQ 14.9375 54.109375 19.578125 55.046875 \nQ 24.21875 56 28.609375 56 \nQ 40.484375 56 46.34375 49.84375 \nQ 52.203125 43.703125 52.203125 31.203125 \nz\n\" id=\"DejaVuSans-97\"/>\n      <path d=\"M 18.3125 70.21875 \nL 18.3125 54.6875 \nL 36.8125 54.6875 \nL 36.8125 47.703125 \nL 18.3125 47.703125 \nL 18.3125 18.015625 \nQ 18.3125 11.328125 20.140625 9.421875 \nQ 21.96875 7.515625 27.59375 7.515625 \nL 36.8125 7.515625 \nL 36.8125 0 \nL 27.59375 0 \nQ 17.1875 0 13.234375 3.875 \nQ 9.28125 7.765625 9.28125 18.015625 \nL 9.28125 47.703125 \nL 2.6875 47.703125 \nL 2.6875 54.6875 \nL 9.28125 54.6875 \nL 9.28125 70.21875 \nz\n\" id=\"DejaVuSans-116\"/>\n      <path d=\"M 56.203125 29.59375 \nL 56.203125 25.203125 \nL 14.890625 25.203125 \nQ 15.484375 15.921875 20.484375 11.0625 \nQ 25.484375 6.203125 34.421875 6.203125 \nQ 39.59375 6.203125 44.453125 7.46875 \nQ 49.3125 8.734375 54.109375 11.28125 \nL 54.109375 2.78125 \nQ 49.265625 0.734375 44.1875 -0.34375 \nQ 39.109375 -1.421875 33.890625 -1.421875 \nQ 20.796875 -1.421875 13.15625 6.1875 \nQ 5.515625 13.8125 5.515625 26.8125 \nQ 5.515625 40.234375 12.765625 48.109375 \nQ 20.015625 56 32.328125 56 \nQ 43.359375 56 49.78125 48.890625 \nQ 56.203125 41.796875 56.203125 29.59375 \nz\nM 47.21875 32.234375 \nQ 47.125 39.59375 43.09375 43.984375 \nQ 39.0625 48.390625 32.421875 48.390625 \nQ 24.90625 48.390625 20.390625 44.140625 \nQ 15.875 39.890625 15.1875 32.171875 \nz\n\" id=\"DejaVuSans-101\"/>\n     </defs>\n     <g transform=\"translate(14.798438 154.074844)rotate(-90)scale(0.1 -0.1)\">\n      <use xlink:href=\"#DejaVuSans-79\"/>\n      <use x=\"78.710938\" xlink:href=\"#DejaVuSans-79\"/>\n      <use x=\"157.40625\" xlink:href=\"#DejaVuSans-86\"/>\n      <use x=\"225.814453\" xlink:href=\"#DejaVuSans-32\"/>\n      <use x=\"257.601562\" xlink:href=\"#DejaVuSans-114\"/>\n      <use x=\"298.714844\" xlink:href=\"#DejaVuSans-97\"/>\n      <use x=\"359.994141\" xlink:href=\"#DejaVuSans-116\"/>\n      <use x=\"399.203125\" xlink:href=\"#DejaVuSans-101\"/>\n     </g>\n    </g>\n   </g>\n   <g id=\"patch_10\">\n    <path d=\"M 50.14375 239.758125 \nL 50.14375 22.318125 \n\" style=\"fill:none;stroke:#000000;stroke-linecap:square;stroke-linejoin:miter;stroke-width:0.8;\"/>\n   </g>\n   <g id=\"patch_11\">\n    <path d=\"M 384.94375 239.758125 \nL 384.94375 22.318125 \n\" style=\"fill:none;stroke:#000000;stroke-linecap:square;stroke-linejoin:miter;stroke-width:0.8;\"/>\n   </g>\n   <g id=\"patch_12\">\n    <path d=\"M 50.14375 239.758125 \nL 384.94375 239.758125 \n\" style=\"fill:none;stroke:#000000;stroke-linecap:square;stroke-linejoin:miter;stroke-width:0.8;\"/>\n   </g>\n   <g id=\"patch_13\">\n    <path d=\"M 50.14375 22.318125 \nL 384.94375 22.318125 \n\" style=\"fill:none;stroke:#000000;stroke-linecap:square;stroke-linejoin:miter;stroke-width:0.8;\"/>\n   </g>\n   <g id=\"text_16\">\n    <!-- OOV: English Corpus (larger vocabulary granularity) -->\n    <defs>\n     <path d=\"M 11.71875 12.40625 \nL 22.015625 12.40625 \nL 22.015625 0 \nL 11.71875 0 \nz\nM 11.71875 51.703125 \nL 22.015625 51.703125 \nL 22.015625 39.3125 \nL 11.71875 39.3125 \nz\n\" id=\"DejaVuSans-58\"/>\n     <path d=\"M 9.8125 72.90625 \nL 55.90625 72.90625 \nL 55.90625 64.59375 \nL 19.671875 64.59375 \nL 19.671875 43.015625 \nL 54.390625 43.015625 \nL 54.390625 34.71875 \nL 19.671875 34.71875 \nL 19.671875 8.296875 \nL 56.78125 8.296875 \nL 56.78125 0 \nL 9.8125 0 \nz\n\" id=\"DejaVuSans-69\"/>\n     <path d=\"M 54.890625 33.015625 \nL 54.890625 0 \nL 45.90625 0 \nL 45.90625 32.71875 \nQ 45.90625 40.484375 42.875 44.328125 \nQ 39.84375 48.1875 33.796875 48.1875 \nQ 26.515625 48.1875 22.3125 43.546875 \nQ 18.109375 38.921875 18.109375 30.90625 \nL 18.109375 0 \nL 9.078125 0 \nL 9.078125 54.6875 \nL 18.109375 54.6875 \nL 18.109375 46.1875 \nQ 21.34375 51.125 25.703125 53.5625 \nQ 30.078125 56 35.796875 56 \nQ 45.21875 56 50.046875 50.171875 \nQ 54.890625 44.34375 54.890625 33.015625 \nz\n\" id=\"DejaVuSans-110\"/>\n     <path d=\"M 45.40625 27.984375 \nQ 45.40625 37.75 41.375 43.109375 \nQ 37.359375 48.484375 30.078125 48.484375 \nQ 22.859375 48.484375 18.828125 43.109375 \nQ 14.796875 37.75 14.796875 27.984375 \nQ 14.796875 18.265625 18.828125 12.890625 \nQ 22.859375 7.515625 30.078125 7.515625 \nQ 37.359375 7.515625 41.375 12.890625 \nQ 45.40625 18.265625 45.40625 27.984375 \nz\nM 54.390625 6.78125 \nQ 54.390625 -7.171875 48.1875 -13.984375 \nQ 42 -20.796875 29.203125 -20.796875 \nQ 24.46875 -20.796875 20.265625 -20.09375 \nQ 16.0625 -19.390625 12.109375 -17.921875 \nL 12.109375 -9.1875 \nQ 16.0625 -11.328125 19.921875 -12.34375 \nQ 23.78125 -13.375 27.78125 -13.375 \nQ 36.625 -13.375 41.015625 -8.765625 \nQ 45.40625 -4.15625 45.40625 5.171875 \nL 45.40625 9.625 \nQ 42.625 4.78125 38.28125 2.390625 \nQ 33.9375 0 27.875 0 \nQ 17.828125 0 11.671875 7.65625 \nQ 5.515625 15.328125 5.515625 27.984375 \nQ 5.515625 40.671875 11.671875 48.328125 \nQ 17.828125 56 27.875 56 \nQ 33.9375 56 38.28125 53.609375 \nQ 42.625 51.21875 45.40625 46.390625 \nL 45.40625 54.6875 \nL 54.390625 54.6875 \nz\n\" id=\"DejaVuSans-103\"/>\n     <path d=\"M 9.421875 75.984375 \nL 18.40625 75.984375 \nL 18.40625 0 \nL 9.421875 0 \nz\n\" id=\"DejaVuSans-108\"/>\n     <path d=\"M 9.421875 54.6875 \nL 18.40625 54.6875 \nL 18.40625 0 \nL 9.421875 0 \nz\nM 9.421875 75.984375 \nL 18.40625 75.984375 \nL 18.40625 64.59375 \nL 9.421875 64.59375 \nz\n\" id=\"DejaVuSans-105\"/>\n     <path d=\"M 44.28125 53.078125 \nL 44.28125 44.578125 \nQ 40.484375 46.53125 36.375 47.5 \nQ 32.28125 48.484375 27.875 48.484375 \nQ 21.1875 48.484375 17.84375 46.4375 \nQ 14.5 44.390625 14.5 40.28125 \nQ 14.5 37.15625 16.890625 35.375 \nQ 19.28125 33.59375 26.515625 31.984375 \nL 29.59375 31.296875 \nQ 39.15625 29.25 43.1875 25.515625 \nQ 47.21875 21.78125 47.21875 15.09375 \nQ 47.21875 7.46875 41.1875 3.015625 \nQ 35.15625 -1.421875 24.609375 -1.421875 \nQ 20.21875 -1.421875 15.453125 -0.5625 \nQ 10.6875 0.296875 5.421875 2 \nL 5.421875 11.28125 \nQ 10.40625 8.6875 15.234375 7.390625 \nQ 20.0625 6.109375 24.8125 6.109375 \nQ 31.15625 6.109375 34.5625 8.28125 \nQ 37.984375 10.453125 37.984375 14.40625 \nQ 37.984375 18.0625 35.515625 20.015625 \nQ 33.0625 21.96875 24.703125 23.78125 \nL 21.578125 24.515625 \nQ 13.234375 26.265625 9.515625 29.90625 \nQ 5.8125 33.546875 5.8125 39.890625 \nQ 5.8125 47.609375 11.28125 51.796875 \nQ 16.75 56 26.8125 56 \nQ 31.78125 56 36.171875 55.265625 \nQ 40.578125 54.546875 44.28125 53.078125 \nz\n\" id=\"DejaVuSans-115\"/>\n     <path d=\"M 54.890625 33.015625 \nL 54.890625 0 \nL 45.90625 0 \nL 45.90625 32.71875 \nQ 45.90625 40.484375 42.875 44.328125 \nQ 39.84375 48.1875 33.796875 48.1875 \nQ 26.515625 48.1875 22.3125 43.546875 \nQ 18.109375 38.921875 18.109375 30.90625 \nL 18.109375 0 \nL 9.078125 0 \nL 9.078125 75.984375 \nL 18.109375 75.984375 \nL 18.109375 46.1875 \nQ 21.34375 51.125 25.703125 53.5625 \nQ 30.078125 56 35.796875 56 \nQ 45.21875 56 50.046875 50.171875 \nQ 54.890625 44.34375 54.890625 33.015625 \nz\n\" id=\"DejaVuSans-104\"/>\n     <path d=\"M 64.40625 67.28125 \nL 64.40625 56.890625 \nQ 59.421875 61.53125 53.78125 63.8125 \nQ 48.140625 66.109375 41.796875 66.109375 \nQ 29.296875 66.109375 22.65625 58.46875 \nQ 16.015625 50.828125 16.015625 36.375 \nQ 16.015625 21.96875 22.65625 14.328125 \nQ 29.296875 6.6875 41.796875 6.6875 \nQ 48.140625 6.6875 53.78125 8.984375 \nQ 59.421875 11.28125 64.40625 15.921875 \nL 64.40625 5.609375 \nQ 59.234375 2.09375 53.4375 0.328125 \nQ 47.65625 -1.421875 41.21875 -1.421875 \nQ 24.65625 -1.421875 15.125 8.703125 \nQ 5.609375 18.84375 5.609375 36.375 \nQ 5.609375 53.953125 15.125 64.078125 \nQ 24.65625 74.21875 41.21875 74.21875 \nQ 47.75 74.21875 53.53125 72.484375 \nQ 59.328125 70.75 64.40625 67.28125 \nz\n\" id=\"DejaVuSans-67\"/>\n     <path d=\"M 30.609375 48.390625 \nQ 23.390625 48.390625 19.1875 42.75 \nQ 14.984375 37.109375 14.984375 27.296875 \nQ 14.984375 17.484375 19.15625 11.84375 \nQ 23.34375 6.203125 30.609375 6.203125 \nQ 37.796875 6.203125 41.984375 11.859375 \nQ 46.1875 17.53125 46.1875 27.296875 \nQ 46.1875 37.015625 41.984375 42.703125 \nQ 37.796875 48.390625 30.609375 48.390625 \nz\nM 30.609375 56 \nQ 42.328125 56 49.015625 48.375 \nQ 55.71875 40.765625 55.71875 27.296875 \nQ 55.71875 13.875 49.015625 6.21875 \nQ 42.328125 -1.421875 30.609375 -1.421875 \nQ 18.84375 -1.421875 12.171875 6.21875 \nQ 5.515625 13.875 5.515625 27.296875 \nQ 5.515625 40.765625 12.171875 48.375 \nQ 18.84375 56 30.609375 56 \nz\n\" id=\"DejaVuSans-111\"/>\n     <path d=\"M 18.109375 8.203125 \nL 18.109375 -20.796875 \nL 9.078125 -20.796875 \nL 9.078125 54.6875 \nL 18.109375 54.6875 \nL 18.109375 46.390625 \nQ 20.953125 51.265625 25.265625 53.625 \nQ 29.59375 56 35.59375 56 \nQ 45.5625 56 51.78125 48.09375 \nQ 58.015625 40.1875 58.015625 27.296875 \nQ 58.015625 14.40625 51.78125 6.484375 \nQ 45.5625 -1.421875 35.59375 -1.421875 \nQ 29.59375 -1.421875 25.265625 0.953125 \nQ 20.953125 3.328125 18.109375 8.203125 \nz\nM 48.6875 27.296875 \nQ 48.6875 37.203125 44.609375 42.84375 \nQ 40.53125 48.484375 33.40625 48.484375 \nQ 26.265625 48.484375 22.1875 42.84375 \nQ 18.109375 37.203125 18.109375 27.296875 \nQ 18.109375 17.390625 22.1875 11.75 \nQ 26.265625 6.109375 33.40625 6.109375 \nQ 40.53125 6.109375 44.609375 11.75 \nQ 48.6875 17.390625 48.6875 27.296875 \nz\n\" id=\"DejaVuSans-112\"/>\n     <path d=\"M 8.5 21.578125 \nL 8.5 54.6875 \nL 17.484375 54.6875 \nL 17.484375 21.921875 \nQ 17.484375 14.15625 20.5 10.265625 \nQ 23.53125 6.390625 29.59375 6.390625 \nQ 36.859375 6.390625 41.078125 11.03125 \nQ 45.3125 15.671875 45.3125 23.6875 \nL 45.3125 54.6875 \nL 54.296875 54.6875 \nL 54.296875 0 \nL 45.3125 0 \nL 45.3125 8.40625 \nQ 42.046875 3.421875 37.71875 1 \nQ 33.40625 -1.421875 27.6875 -1.421875 \nQ 18.265625 -1.421875 13.375 4.4375 \nQ 8.5 10.296875 8.5 21.578125 \nz\nM 31.109375 56 \nz\n\" id=\"DejaVuSans-117\"/>\n     <path d=\"M 31 75.875 \nQ 24.46875 64.65625 21.28125 53.65625 \nQ 18.109375 42.671875 18.109375 31.390625 \nQ 18.109375 20.125 21.3125 9.0625 \nQ 24.515625 -2 31 -13.1875 \nL 23.1875 -13.1875 \nQ 15.875 -1.703125 12.234375 9.375 \nQ 8.59375 20.453125 8.59375 31.390625 \nQ 8.59375 42.28125 12.203125 53.3125 \nQ 15.828125 64.359375 23.1875 75.875 \nz\n\" id=\"DejaVuSans-40\"/>\n     <path d=\"M 2.984375 54.6875 \nL 12.5 54.6875 \nL 29.59375 8.796875 \nL 46.6875 54.6875 \nL 56.203125 54.6875 \nL 35.6875 0 \nL 23.484375 0 \nz\n\" id=\"DejaVuSans-118\"/>\n     <path d=\"M 48.78125 52.59375 \nL 48.78125 44.1875 \nQ 44.96875 46.296875 41.140625 47.34375 \nQ 37.3125 48.390625 33.40625 48.390625 \nQ 24.65625 48.390625 19.8125 42.84375 \nQ 14.984375 37.3125 14.984375 27.296875 \nQ 14.984375 17.28125 19.8125 11.734375 \nQ 24.65625 6.203125 33.40625 6.203125 \nQ 37.3125 6.203125 41.140625 7.25 \nQ 44.96875 8.296875 48.78125 10.40625 \nL 48.78125 2.09375 \nQ 45.015625 0.34375 40.984375 -0.53125 \nQ 36.96875 -1.421875 32.421875 -1.421875 \nQ 20.0625 -1.421875 12.78125 6.34375 \nQ 5.515625 14.109375 5.515625 27.296875 \nQ 5.515625 40.671875 12.859375 48.328125 \nQ 20.21875 56 33.015625 56 \nQ 37.15625 56 41.109375 55.140625 \nQ 45.0625 54.296875 48.78125 52.59375 \nz\n\" id=\"DejaVuSans-99\"/>\n     <path d=\"M 48.6875 27.296875 \nQ 48.6875 37.203125 44.609375 42.84375 \nQ 40.53125 48.484375 33.40625 48.484375 \nQ 26.265625 48.484375 22.1875 42.84375 \nQ 18.109375 37.203125 18.109375 27.296875 \nQ 18.109375 17.390625 22.1875 11.75 \nQ 26.265625 6.109375 33.40625 6.109375 \nQ 40.53125 6.109375 44.609375 11.75 \nQ 48.6875 17.390625 48.6875 27.296875 \nz\nM 18.109375 46.390625 \nQ 20.953125 51.265625 25.265625 53.625 \nQ 29.59375 56 35.59375 56 \nQ 45.5625 56 51.78125 48.09375 \nQ 58.015625 40.1875 58.015625 27.296875 \nQ 58.015625 14.40625 51.78125 6.484375 \nQ 45.5625 -1.421875 35.59375 -1.421875 \nQ 29.59375 -1.421875 25.265625 0.953125 \nQ 20.953125 3.328125 18.109375 8.203125 \nL 18.109375 0 \nL 9.078125 0 \nL 9.078125 75.984375 \nL 18.109375 75.984375 \nz\n\" id=\"DejaVuSans-98\"/>\n     <path d=\"M 32.171875 -5.078125 \nQ 28.375 -14.84375 24.75 -17.8125 \nQ 21.140625 -20.796875 15.09375 -20.796875 \nL 7.90625 -20.796875 \nL 7.90625 -13.28125 \nL 13.1875 -13.28125 \nQ 16.890625 -13.28125 18.9375 -11.515625 \nQ 21 -9.765625 23.484375 -3.21875 \nL 25.09375 0.875 \nL 2.984375 54.6875 \nL 12.5 54.6875 \nL 29.59375 11.921875 \nL 46.6875 54.6875 \nL 56.203125 54.6875 \nz\n\" id=\"DejaVuSans-121\"/>\n     <path d=\"M 8.015625 75.875 \nL 15.828125 75.875 \nQ 23.140625 64.359375 26.78125 53.3125 \nQ 30.421875 42.28125 30.421875 31.390625 \nQ 30.421875 20.453125 26.78125 9.375 \nQ 23.140625 -1.703125 15.828125 -13.1875 \nL 8.015625 -13.1875 \nQ 14.5 -2 17.703125 9.0625 \nQ 20.90625 20.125 20.90625 31.390625 \nQ 20.90625 42.671875 17.703125 53.65625 \nQ 14.5 64.65625 8.015625 75.875 \nz\n\" id=\"DejaVuSans-41\"/>\n    </defs>\n    <g transform=\"translate(61.148125 16.318125)scale(0.12 -0.12)\">\n     <use xlink:href=\"#DejaVuSans-79\"/>\n     <use x=\"78.710938\" xlink:href=\"#DejaVuSans-79\"/>\n     <use x=\"157.40625\" xlink:href=\"#DejaVuSans-86\"/>\n     <use x=\"225.689453\" xlink:href=\"#DejaVuSans-58\"/>\n     <use x=\"259.380859\" xlink:href=\"#DejaVuSans-32\"/>\n     <use x=\"291.167969\" xlink:href=\"#DejaVuSans-69\"/>\n     <use x=\"354.351562\" xlink:href=\"#DejaVuSans-110\"/>\n     <use x=\"417.730469\" xlink:href=\"#DejaVuSans-103\"/>\n     <use x=\"481.207031\" xlink:href=\"#DejaVuSans-108\"/>\n     <use x=\"508.990234\" xlink:href=\"#DejaVuSans-105\"/>\n     <use x=\"536.773438\" xlink:href=\"#DejaVuSans-115\"/>\n     <use x=\"588.873047\" xlink:href=\"#DejaVuSans-104\"/>\n     <use x=\"652.251953\" xlink:href=\"#DejaVuSans-32\"/>\n     <use x=\"684.039062\" xlink:href=\"#DejaVuSans-67\"/>\n     <use x=\"753.863281\" xlink:href=\"#DejaVuSans-111\"/>\n     <use x=\"815.044922\" xlink:href=\"#DejaVuSans-114\"/>\n     <use x=\"856.158203\" xlink:href=\"#DejaVuSans-112\"/>\n     <use x=\"919.634766\" xlink:href=\"#DejaVuSans-117\"/>\n     <use x=\"983.013672\" xlink:href=\"#DejaVuSans-115\"/>\n     <use x=\"1035.113281\" xlink:href=\"#DejaVuSans-32\"/>\n     <use x=\"1066.900391\" xlink:href=\"#DejaVuSans-40\"/>\n     <use x=\"1105.914062\" xlink:href=\"#DejaVuSans-108\"/>\n     <use x=\"1133.697266\" xlink:href=\"#DejaVuSans-97\"/>\n     <use x=\"1194.976562\" xlink:href=\"#DejaVuSans-114\"/>\n     <use x=\"1236.074219\" xlink:href=\"#DejaVuSans-103\"/>\n     <use x=\"1299.550781\" xlink:href=\"#DejaVuSans-101\"/>\n     <use x=\"1361.074219\" xlink:href=\"#DejaVuSans-114\"/>\n     <use x=\"1402.1875\" xlink:href=\"#DejaVuSans-32\"/>\n     <use x=\"1433.974609\" xlink:href=\"#DejaVuSans-118\"/>\n     <use x=\"1493.154297\" xlink:href=\"#DejaVuSans-111\"/>\n     <use x=\"1554.335938\" xlink:href=\"#DejaVuSans-99\"/>\n     <use x=\"1609.316406\" xlink:href=\"#DejaVuSans-97\"/>\n     <use x=\"1670.595703\" xlink:href=\"#DejaVuSans-98\"/>\n     <use x=\"1734.072266\" xlink:href=\"#DejaVuSans-117\"/>\n     <use x=\"1797.451172\" xlink:href=\"#DejaVuSans-108\"/>\n     <use x=\"1825.234375\" xlink:href=\"#DejaVuSans-97\"/>\n     <use x=\"1886.513672\" xlink:href=\"#DejaVuSans-114\"/>\n     <use x=\"1927.626953\" xlink:href=\"#DejaVuSans-121\"/>\n     <use x=\"1986.806641\" xlink:href=\"#DejaVuSans-32\"/>\n     <use x=\"2018.59375\" xlink:href=\"#DejaVuSans-103\"/>\n     <use x=\"2082.070312\" xlink:href=\"#DejaVuSans-114\"/>\n     <use x=\"2123.183594\" xlink:href=\"#DejaVuSans-97\"/>\n     <use x=\"2184.462891\" xlink:href=\"#DejaVuSans-110\"/>\n     <use x=\"2247.841797\" xlink:href=\"#DejaVuSans-117\"/>\n     <use x=\"2311.220703\" xlink:href=\"#DejaVuSans-108\"/>\n     <use x=\"2339.003906\" xlink:href=\"#DejaVuSans-97\"/>\n     <use x=\"2400.283203\" xlink:href=\"#DejaVuSans-114\"/>\n     <use x=\"2441.396484\" xlink:href=\"#DejaVuSans-105\"/>\n     <use x=\"2469.179688\" xlink:href=\"#DejaVuSans-116\"/>\n     <use x=\"2508.388672\" xlink:href=\"#DejaVuSans-121\"/>\n     <use x=\"2567.568359\" xlink:href=\"#DejaVuSans-41\"/>\n    </g>\n   </g>\n  </g>\n </g>\n <defs>\n  <clipPath id=\"p307b9599a8\">\n   <rect height=\"217.44\" width=\"334.8\" x=\"50.14375\" y=\"22.318125\"/>\n  </clipPath>\n </defs>\n</svg>\n",
      "image/png": "[encoded data removed]"
     },
     "metadata": {
      "needs_background": "light"
     }
    }
   ],
   "metadata": {}
  },
  {
   "cell_type": "markdown",
   "source": [
    "### Observations\n",
    "For all level of granularity the oov rate decreases as size of generated corpus (10^k) increases. In a practicle application, I would prefer, a model with smaller subword vocabulary. From our experiment, it gets the lowest OOV rate. Also intuitively, character level granularity doesn't make meaningful words and model long term dependencies.The larger vocabulary subwords becomes very close to actual words. The smaller vocabulary subwords fits better to close the generative gap between characters and whole words."
   ],
   "metadata": {}
  },
  {
   "cell_type": "markdown",
   "source": [],
   "metadata": {}
  },
  {
   "cell_type": "markdown",
   "source": [
    "## Report"
   ],
   "metadata": {}
  },
  {
   "cell_type": "markdown",
   "source": [
    "* details like data split into 80-20 based on sentences\n",
    "* report the correlation of perplexity (on the test data) and OOV rate."
   ],
   "metadata": {}
  },
  {
   "cell_type": "markdown",
   "source": [],
   "metadata": {}
  }
 ],
 "metadata": {
  "orig_nbformat": 4,
  "language_info": {
   "name": "python",
   "version": "3.6.8",
   "mimetype": "text/x-python",
   "codemirror_mode": {
    "name": "ipython",
    "version": 3
   },
   "pygments_lexer": "ipython3",
   "nbconvert_exporter": "python",
   "file_extension": ".py"
  },
  "kernelspec": {
   "name": "python3",
   "display_name": "Python 3.6.8 64-bit ('snlp': virtualenv)"
  },
  "interpreter": {
   "hash": "aaaa3379fdd343e0cf653a09e7e2eeaa049f00680c9206d1a9bbb1ac6ef103f6"
  }
 },
 "nbformat": 4,
 "nbformat_minor": 2
}