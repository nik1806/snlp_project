{
 "cells": [
  {
   "cell_type": "code",
   "execution_count": 1,
   "source": [
    "# from utils import preprocess, train_test_split_data\n",
    "from importlib import reload\n",
    "import os\n",
    "import utils\n",
    "utils = reload(utils)"
   ],
   "outputs": [],
   "metadata": {}
  },
  {
   "cell_type": "markdown",
   "source": [
    "## Task 1: Data preparation"
   ],
   "metadata": {}
  },
  {
   "cell_type": "code",
   "execution_count": 2,
   "source": [
    "# sentencepiece package look for sentence hence linebreak needs to be preserved\n",
    "\n",
    "with open('data/alice_in_wonderland.txt') as f:\n",
    "    text = f.read()\n",
    "    prepro_text = utils.preprocess(text) # preprocessing text\n",
    "    train, test = utils.train_test_split_data(prepro_text, test_size=0.2) # split the data\n"
   ],
   "outputs": [],
   "metadata": {}
  },
  {
   "cell_type": "code",
   "execution_count": 3,
   "source": [
    "# saving the splitted corpus\n",
    "with open('train_eng.txt', 'w') as f:\n",
    "    # f.write(str(train))\n",
    "    f.write('\\n'.join(train))\n",
    "\n",
    "with open('test_eng.txt', 'w') as f:\n",
    "    # f.write(str(test)) \n",
    "    f.write('\\n'.join(test))"
   ],
   "outputs": [],
   "metadata": {}
  },
  {
   "cell_type": "markdown",
   "source": [
    "### Comments/ideas\n",
    "* preprocess data don't have Capital letters, may that is imp\n",
    "* split is not randomized\n",
    "* more steps like lemmatization/stemming can be added in prepro"
   ],
   "metadata": {}
  },
  {
   "cell_type": "markdown",
   "source": [
    "## Task 2: Subword Segmentation"
   ],
   "metadata": {}
  },
  {
   "cell_type": "code",
   "execution_count": 4,
   "source": [
    "# training model\n",
    "  # --input='data/alice_in_wonderland.txt' \\\n",
    "!spm_train \\\n",
    "  --input='train_eng.txt' \\\n",
    "  --model_prefix=eng_subword \\\n",
    "  --vocab_size=1000 \\\n",
    "  --character_coverage=1.0 \\\n",
    "  --model_type=bpe\n",
    " "
   ],
   "outputs": [
    {
     "output_type": "stream",
     "name": "stdout",
     "text": [
      "sentencepiece_trainer.cc(77) LOG(INFO) Starts training with : \n",
      "trainer_spec {\n",
      "  input: train_eng.txt\n",
      "  input_format: \n",
      "  model_prefix: eng_subword\n",
      "  model_type: BPE\n",
      "  vocab_size: 1000\n",
      "  self_test_sample_size: 0\n",
      "  character_coverage: 1\n",
      "  input_sentence_size: 0\n",
      "  shuffle_input_sentence: 1\n",
      "  seed_sentencepiece_size: 1000000\n",
      "  shrinking_factor: 0.75\n",
      "  max_sentence_length: 4192\n",
      "  num_threads: 16\n",
      "  num_sub_iterations: 2\n",
      "  max_sentencepiece_length: 16\n",
      "  split_by_unicode_script: 1\n",
      "  split_by_number: 1\n",
      "  split_by_whitespace: 1\n",
      "  split_digits: 0\n",
      "  treat_whitespace_as_suffix: 0\n",
      "  allow_whitespace_only_pieces: 0\n",
      "  required_chars: \n",
      "  byte_fallback: 0\n",
      "  vocabulary_output_piece_score: 1\n",
      "  train_extremely_large_corpus: 0\n",
      "  hard_vocab_limit: 1\n",
      "  use_all_vocab: 0\n",
      "  unk_id: 0\n",
      "  bos_id: 1\n",
      "  eos_id: 2\n",
      "  pad_id: -1\n",
      "  unk_piece: <unk>\n",
      "  bos_piece: <s>\n",
      "  eos_piece: </s>\n",
      "  pad_piece: <pad>\n",
      "  unk_surface:  ⁇ \n",
      "}\n",
      "normalizer_spec {\n",
      "  name: nmt_nfkc\n",
      "  add_dummy_prefix: 1\n",
      "  remove_extra_whitespaces: 1\n",
      "  escape_whitespaces: 1\n",
      "  normalization_rule_tsv: \n",
      "}\n",
      "denormalizer_spec {}\n",
      "trainer_interface.cc(329) LOG(INFO) SentenceIterator is not specified. Using MultiFileSentenceIterator.\n",
      "trainer_interface.cc(178) LOG(INFO) Loading corpus: train_eng.txt\n",
      "trainer_interface.cc(385) LOG(INFO) Loaded all 2193 sentences\n",
      "trainer_interface.cc(400) LOG(INFO) Adding meta_piece: <unk>\n",
      "trainer_interface.cc(400) LOG(INFO) Adding meta_piece: <s>\n",
      "trainer_interface.cc(400) LOG(INFO) Adding meta_piece: </s>\n",
      "trainer_interface.cc(405) LOG(INFO) Normalizing sentences...\n",
      "trainer_interface.cc(466) LOG(INFO) all chars count=115724\n",
      "trainer_interface.cc(487) LOG(INFO) Alphabet size=69\n",
      "trainer_interface.cc(488) LOG(INFO) Final character coverage=1\n",
      "trainer_interface.cc(520) LOG(INFO) Done! preprocessed 2193 sentences.\n",
      "trainer_interface.cc(526) LOG(INFO) Tokenizing input sentences with whitespace: 2193\n",
      "trainer_interface.cc(537) LOG(INFO) Done! 4557\n",
      "bpe_model_trainer.cc(167) LOG(INFO) Updating active symbols. max_freq=3200 min_freq=1\n",
      "bpe_model_trainer.cc(258) LOG(INFO) Added: freq=626 size=20 all=1259 active=1190 piece=▁c\n",
      "bpe_model_trainer.cc(258) LOG(INFO) Added: freq=423 size=40 all=1592 active=1523 piece=▁g\n",
      "bpe_model_trainer.cc(258) LOG(INFO) Added: freq=319 size=60 all=1912 active=1843 piece=▁was\n",
      "bpe_model_trainer.cc(258) LOG(INFO) Added: freq=216 size=80 all=2168 active=2099 piece=▁T\n",
      "bpe_model_trainer.cc(258) LOG(INFO) Added: freq=155 size=100 all=2443 active=2374 piece=ad\n",
      "bpe_model_trainer.cc(167) LOG(INFO) Updating active symbols. max_freq=153 min_freq=7\n",
      "bpe_model_trainer.cc(258) LOG(INFO) Added: freq=117 size=120 all=2637 active=1167 piece=ill\n",
      "bpe_model_trainer.cc(258) LOG(INFO) Added: freq=98 size=140 all=2827 active=1357 piece=ge\n",
      "bpe_model_trainer.cc(258) LOG(INFO) Added: freq=85 size=160 all=3038 active=1568 piece=ab\n",
      "bpe_model_trainer.cc(258) LOG(INFO) Added: freq=78 size=180 all=3172 active=1702 piece=ere\n",
      "bpe_model_trainer.cc(258) LOG(INFO) Added: freq=66 size=200 all=3236 active=1766 piece=▁say\n",
      "bpe_model_trainer.cc(167) LOG(INFO) Updating active symbols. max_freq=66 min_freq=7\n",
      "bpe_model_trainer.cc(258) LOG(INFO) Added: freq=59 size=220 all=3363 active=1126 piece=▁Qu\n",
      "bpe_model_trainer.cc(258) LOG(INFO) Added: freq=52 size=240 all=3459 active=1222 piece=ting\n",
      "bpe_model_trainer.cc(258) LOG(INFO) Added: freq=47 size=260 all=3585 active=1348 piece=atter\n",
      "bpe_model_trainer.cc(258) LOG(INFO) Added: freq=43 size=280 all=3705 active=1468 piece=▁now\n",
      "bpe_model_trainer.cc(258) LOG(INFO) Added: freq=39 size=300 all=3798 active=1561 piece=dd\n",
      "bpe_model_trainer.cc(167) LOG(INFO) Updating active symbols. max_freq=39 min_freq=6\n",
      "bpe_model_trainer.cc(258) LOG(INFO) Added: freq=37 size=320 all=3869 active=1062 piece=▁\"\n",
      "bpe_model_trainer.cc(258) LOG(INFO) Added: freq=34 size=340 all=3920 active=1113 piece=ess\n",
      "bpe_model_trainer.cc(258) LOG(INFO) Added: freq=32 size=360 all=3984 active=1177 piece=ER\n",
      "bpe_model_trainer.cc(258) LOG(INFO) Added: freq=30 size=380 all=4113 active=1306 piece=OU\n",
      "bpe_model_trainer.cc(258) LOG(INFO) Added: freq=28 size=400 all=4209 active=1402 piece=HA\n",
      "bpe_model_trainer.cc(167) LOG(INFO) Updating active symbols. max_freq=28 min_freq=6\n",
      "bpe_model_trainer.cc(258) LOG(INFO) Added: freq=27 size=420 all=4272 active=1058 piece=▁Dorm\n",
      "bpe_model_trainer.cc(258) LOG(INFO) Added: freq=25 size=440 all=4299 active=1085 piece=ire\n",
      "bpe_model_trainer.cc(258) LOG(INFO) Added: freq=24 size=460 all=4359 active=1145 piece=ation\n",
      "bpe_model_trainer.cc(258) LOG(INFO) Added: freq=23 size=480 all=4423 active=1209 piece=▁than\n",
      "bpe_model_trainer.cc(258) LOG(INFO) Added: freq=22 size=500 all=4448 active=1234 piece=▁garden\n",
      "bpe_model_trainer.cc(167) LOG(INFO) Updating active symbols. max_freq=21 min_freq=5\n",
      "bpe_model_trainer.cc(258) LOG(INFO) Added: freq=21 size=520 all=4524 active=1076 piece=▁make\n",
      "bpe_model_trainer.cc(258) LOG(INFO) Added: freq=20 size=540 all=4567 active=1119 piece=▁sort\n",
      "bpe_model_trainer.cc(258) LOG(INFO) Added: freq=19 size=560 all=4607 active=1159 piece=▁half\n",
      "bpe_model_trainer.cc(258) LOG(INFO) Added: freq=18 size=580 all=4625 active=1177 piece=▁spea\n",
      "bpe_model_trainer.cc(258) LOG(INFO) Added: freq=16 size=600 all=4674 active=1226 piece=How\n",
      "bpe_model_trainer.cc(167) LOG(INFO) Updating active symbols. max_freq=16 min_freq=4\n",
      "bpe_model_trainer.cc(258) LOG(INFO) Added: freq=16 size=620 all=4738 active=1065 piece=▁face\n",
      "bpe_model_trainer.cc(258) LOG(INFO) Added: freq=15 size=640 all=4792 active=1119 piece=▁ear\n",
      "bpe_model_trainer.cc(258) LOG(INFO) Added: freq=14 size=660 all=4843 active=1170 piece=dge\n",
      "bpe_model_trainer.cc(258) LOG(INFO) Added: freq=14 size=680 all=4864 active=1191 piece=▁side\n",
      "bpe_model_trainer.cc(258) LOG(INFO) Added: freq=13 size=700 all=4870 active=1197 piece=fe\n",
      "bpe_model_trainer.cc(167) LOG(INFO) Updating active symbols. max_freq=13 min_freq=4\n",
      "bpe_model_trainer.cc(258) LOG(INFO) Added: freq=13 size=720 all=4910 active=1039 piece=▁far\n",
      "bpe_model_trainer.cc(258) LOG(INFO) Added: freq=13 size=740 all=4903 active=1032 piece=▁perhaps\n",
      "bpe_model_trainer.cc(258) LOG(INFO) Added: freq=12 size=760 all=4952 active=1081 piece=▁thr\n",
      "bpe_model_trainer.cc(258) LOG(INFO) Added: freq=12 size=780 all=4962 active=1091 piece=▁hedge\n",
      "bpe_model_trainer.cc(258) LOG(INFO) Added: freq=11 size=800 all=5016 active=1145 piece=outh\n",
      "bpe_model_trainer.cc(167) LOG(INFO) Updating active symbols. max_freq=11 min_freq=4\n",
      "bpe_model_trainer.cc(258) LOG(INFO) Added: freq=11 size=820 all=5040 active=1023 piece=▁tail\n",
      "bpe_model_trainer.cc(258) LOG(INFO) Added: freq=10 size=840 all=5030 active=1013 piece=PT\n",
      "bpe_model_trainer.cc(258) LOG(INFO) Added: freq=10 size=860 all=5053 active=1036 piece=ching\n",
      "bpe_model_trainer.cc(258) LOG(INFO) Added: freq=10 size=880 all=5070 active=1053 piece=HAPTER\n",
      "bpe_model_trainer.cc(258) LOG(INFO) Added: freq=10 size=900 all=5062 active=1045 piece=▁execution\n",
      "bpe_model_trainer.cc(167) LOG(INFO) Updating active symbols. max_freq=9 min_freq=3\n",
      "bpe_model_trainer.cc(258) LOG(INFO) Added: freq=9 size=920 all=5112 active=1049 piece=▁Oh\n",
      "trainer_interface.cc(615) LOG(INFO) Saving model: eng_subword.model\n",
      "trainer_interface.cc(626) LOG(INFO) Saving vocabs: eng_subword.vocab\n"
     ]
    }
   ],
   "metadata": {}
  },
  {
   "cell_type": "code",
   "execution_count": 5,
   "source": [
    "# segment the text (original)\n",
    "!spm_encode \\\n",
    "  --model=eng_subword.model \\\n",
    "  --output_format=piece \\\n",
    "  < 'train_eng.txt' \\\n",
    "  > 'segmented_eng.txt'"
   ],
   "outputs": [],
   "metadata": {}
  },
  {
   "cell_type": "code",
   "execution_count": 7,
   "source": [
    "# back to original (human readable form) from subword units \n",
    "!spm_decode \\\n",
    "  --model=eng_subword.model \\\n",
    "  --input_format=piece \\\n",
    "  < 'segmented_eng.txt' \\\n",
    "  > 'original.txt'"
   ],
   "outputs": [],
   "metadata": {}
  }
 ],
 "metadata": {
  "orig_nbformat": 4,
  "language_info": {
   "name": "python",
   "version": "3.6.8",
   "mimetype": "text/x-python",
   "codemirror_mode": {
    "name": "ipython",
    "version": 3
   },
   "pygments_lexer": "ipython3",
   "nbconvert_exporter": "python",
   "file_extension": ".py"
  },
  "kernelspec": {
   "name": "python3",
   "display_name": "Python 3.6.8 64-bit ('snlp': virtualenvwrapper)"
  },
  "interpreter": {
   "hash": "aaaa3379fdd343e0cf653a09e7e2eeaa049f00680c9206d1a9bbb1ac6ef103f6"
  }
 },
 "nbformat": 4,
 "nbformat_minor": 2
}