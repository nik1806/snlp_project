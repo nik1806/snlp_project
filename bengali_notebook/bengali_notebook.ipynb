{
 "cells": [
  {
   "cell_type": "code",
   "execution_count": 1,
   "id": "0882b5e4",
   "metadata": {},
   "outputs": [],
   "source": [
    "import os\n",
    "import sys\n",
    "import pdb\n",
    "import re\n",
    "import argparse\n",
    "import subprocess\n",
    "import string\n",
    "import numpy as np\n",
    "from pathlib import Path\n",
    "import matplotlib.pyplot as plt\n",
    "from collections import defaultdict\n",
    "from sklearn.model_selection import train_test_split\n",
    "from matplotlib import rc\n",
    "plt.rc('text', usetex=True)\n",
    "plt.rc('font', family='serif')"
   ]
  },
  {
   "cell_type": "markdown",
   "id": "0ba3521c",
   "metadata": {},
   "source": [
    "## Data Prepration"
   ]
  },
  {
   "cell_type": "code",
   "execution_count": 2,
   "id": "18ecd942",
   "metadata": {},
   "outputs": [],
   "source": [
    "def remove_emoticons(text):\n",
    "    emoji_pattern = re.compile(\n",
    "        u'([\\U0001F1E6-\\U0001F1FF]{2})|' # flags\n",
    "        u'([\\U0001F600-\\U0001F64F])'     # emoticons\n",
    "        \"+\", flags=re.UNICODE)\n",
    "    return emoji_pattern.sub('', text)\n",
    "\n",
    "def dataset_split(text):\n",
    "    train, test = train_test_split(text, test_size=0.2, random_state=14)\n",
    "    return train, test\n",
    "\n",
    "def data_preparation(text, out_dir, test_size:float=0.2):\n",
    "    \"\"\" pre-process text corpus, split into train-test and save\"\"\"\n",
    "    # Remove all punctuations except \"? , !\"\n",
    "    remove = string.punctuation\n",
    "    remove = remove.replace(\"?\", \"\").replace(\",\", \"\").replace(\"!\", \"\")\n",
    "    pattern = r\"[{}]\".format(remove) # create the pattern\n",
    "    text = re.sub(pattern, \"\", text) \n",
    "    # text = text.translate(str.maketrans('', '', string.punctuation))\n",
    "\n",
    "    all_lines = text.split('\\n')\n",
    "    # Strip emoticons, english strings, whitespaces\n",
    "    prepro_text = []\n",
    "    for line in all_lines:\n",
    "        if line:\n",
    "            line = remove_emoticons(line) # remove flag symbols\n",
    "            line = re.sub(\"[A-Za-z]+\",\"\",line) # remove english chars\n",
    "            line = re.sub(r\"\\s+\", \" \", line) # remove white spaces\n",
    "            line = re.sub(r'(\\W)(?=\\1)', '', line) # remove repeated occurrences of punctuation to single occurrence.\n",
    "            line = line.replace(\"?\", \"?\\n\").replace(\",\", \",\\n\").replace(\"!\", \"!\\n\").replace(\"।\", \"।\\n\")\n",
    "            lines = line.split(\"\\n\")\n",
    "            for line in lines:\n",
    "                prepro_text.append(line.strip())\n",
    "            \n",
    "    with open(out_dir + '/original_dataset.txt', 'w') as fpw:\n",
    "        fpw.write('\\n'.join(prepro_text))\n",
    "\n",
    "    train, test = dataset_split(prepro_text)\n",
    "    with open(out_dir + '/bn_train.txt', 'w') as train_fpw, open(out_dir + '/bn_test.txt', 'w') as test_fpw:\n",
    "        train_fpw.write('\\n'.join(train))\n",
    "        test_fpw.write('\\n'.join(test))"
   ]
  },
  {
   "cell_type": "markdown",
   "id": "c113bf36",
   "metadata": {},
   "source": [
    "## Creating data for LM"
   ]
  },
  {
   "cell_type": "code",
   "execution_count": 3,
   "id": "32f4a316",
   "metadata": {},
   "outputs": [],
   "source": [
    "def model_train(vocab_size, prefix, out_dir, spm_model_dir):\n",
    "    splits = [\"train\", \"test\"]\n",
    "    for split in splits:\n",
    "        input = str(out_dir + '/bn_' + split + '.txt')\n",
    "        pref = str(spm_model_dir + '/' + prefix + '_' + split)\n",
    "        \n",
    "        # Step 1: train the model and specify the target vocabulary size\n",
    "        cmd_step1 = \"spm_train \\\n",
    "                    --input=\" +  input + \" \\\n",
    "                    --model_prefix=\" + pref + \" \\\n",
    "                    --vocab_size=\" + str(vocab_size) + \"     \\\n",
    "                    --character_coverage=0.995 \\\n",
    "                    --model_type=bpe\"\n",
    "        \n",
    "        # Step 2: segment the text using this model.\n",
    "        spm_model = pref + '.model'\n",
    "        output = str(out_dir + '/'+ prefix + '_' + split + '.txt')\n",
    "        cmd_step2 = \"spm_encode \\\n",
    "                    --model=\" + spm_model + \" \\\n",
    "                    --output_format=piece \\\n",
    "                    < \" + input + \" \\\n",
    "                    > \" + output\n",
    "        os.system(cmd_step1)\n",
    "        os.system(cmd_step2)"
   ]
  },
  {
   "cell_type": "markdown",
   "id": "895657d6",
   "metadata": {},
   "source": [
    "## LM training"
   ]
  },
  {
   "cell_type": "code",
   "execution_count": 4,
   "id": "884b0e25",
   "metadata": {},
   "outputs": [],
   "source": [
    "def lm_train(prefix, class_size, out_dir, rnn_model_dir, hid=40,bptt=3):\n",
    "    # train language model based on the different subword \n",
    "    # granularity: char, subword unit(small vocab), subword unit(large vocab)\n",
    "    os.makedirs(rnn_model_dir, exist_ok=True)\n",
    "    print(\"*\"*20 + \" Begin LM training: \" + \"*\"*20)\n",
    "    train = str(out_dir + '/'+ prefix + '_' + \"train\" + '.txt')\n",
    "    valid = str(out_dir + '/'+ prefix + '_' + \"test\" + '.txt')\n",
    "    hid = str(hid)\n",
    "    bptt = str(bptt)\n",
    "    # pdb.set_trace()\n",
    "    ext = prefix + '_hid_' + hid + \"_bptt_\" + bptt + \"_class_\" + class_size\n",
    "    rnn_model = str(rnn_model_dir+'/rnnlm_'+ext)\n",
    "    \n",
    "    cmd = \"rnnlm/rnnlm \\\n",
    "            -train \" + train + \" \\\n",
    "            -valid \" + valid + \" \\\n",
    "            -rnnlm \" + rnn_model + \" \\\n",
    "            -hidden \" + hid + \" \\\n",
    "            -rand-seed 1 \\\n",
    "            -debug 2 \\\n",
    "            -bptt \" + bptt + \" \\\n",
    "            -class \" + class_size\n",
    "    os.system(cmd)\n",
    "    print(\"Model saved: \" + rnn_model)\n",
    "    print(\"*\"*20 + \" LM training DONE \" + \"*\"*20)"
   ]
  },
  {
   "cell_type": "markdown",
   "id": "719f0a72",
   "metadata": {},
   "source": [
    "## Text generation"
   ]
  },
  {
   "cell_type": "code",
   "execution_count": 5,
   "id": "4cda5dab",
   "metadata": {},
   "outputs": [],
   "source": [
    "def text_generation(prefix, class_size, out_dir, spm_model_dir, rnn_model_dir, hid=40,bptt=3):\n",
    "    # go from subword unit segmentation back to the original text \n",
    "    \n",
    "    hid = str(hid)\n",
    "    bptt = str(bptt)\n",
    "    ext = prefix + '_hid_' + hid + \"_bptt_\" + bptt + \"_class_\" + class_size\n",
    "    rnn_model =  str(rnn_model_dir+'/rnnlm_'+ext)\n",
    "    spm_model = str(spm_model_dir + '/' + prefix + '_train.model')\n",
    "    \n",
    "    for k in range(1, 8):\n",
    "        os.makedirs('gen_text_bn/'+ ext, exist_ok=True)\n",
    "        cmd = \"rnnlm/rnnlm \\\n",
    "            -rnnlm \" + rnn_model + \" \\\n",
    "            -gen \" + str(10**k) + \" \\\n",
    "            -debug 0 \\\n",
    "            >> \" + str('gen_text_bn/' + ext + '/k_' + str(k) + '.txt')\n",
    "            \n",
    "        cmd_decode = \"spm_decode \\\n",
    "            --model=\" + spm_model + \" \\\n",
    "            --input_format=piece \\\n",
    "            < \" + str('gen_text_bn/' + ext + '/k_' + str(k) + '.txt') + \" \\\n",
    "            > \" + str('gen_text_bn/' + ext + '/k_' + str(k) + '_decoded.txt')\n",
    "        \n",
    "        os.system(cmd)\n",
    "        os.system(cmd_decode)\n",
    "    \n",
    "    print(\"*\"*20 + \" Text generation completed \" + \"*\"*20)"
   ]
  },
  {
   "cell_type": "markdown",
   "id": "e4604938",
   "metadata": {},
   "source": [
    "## OOV comparison"
   ]
  },
  {
   "cell_type": "code",
   "execution_count": 6,
   "id": "c690c1b0",
   "metadata": {},
   "outputs": [],
   "source": [
    "def vocab_generator(data):\n",
    "    # pdb.set_trace()\n",
    "    vocabs = data.split()\n",
    "    return list(vocabs)\n",
    "\n",
    "def oov_calculator(train, test):\n",
    "    mathces = np.in1d(test,train)\n",
    "    # pdb.set_trace()\n",
    "    unseen_tokens = len(mathces) - np.count_nonzero(mathces)\n",
    "    # unseen_tokens = [tok for tok in test if tok not in train]\n",
    "    oov_rate = unseen_tokens/len(test)\n",
    "#     print(\"len of unseen tokens:\",unseen_tokens,\"test set length:\", len(test),'\\n')\n",
    "    return oov_rate\n",
    "\n",
    "def oov_comparison(prefix, class_size, out_dir, hid=40,bptt=3):\n",
    "    print(\"*\"*10,\" OOV comparison \",\"*\"*10)\n",
    "    hid = str(hid)\n",
    "    bptt = str(bptt)\n",
    "    ext = prefix + '_hid_' + hid + \"_bptt_\" + bptt + \"_class_\" + class_size\n",
    "    train_vocabs = vocab_generator(Path(out_dir + \"/bn_train.txt\").open('r').read())\n",
    "    test_vocabs = vocab_generator(Path(out_dir + \"/bn_test.txt\").open('r').read())\n",
    "    rnn_vocabs = defaultdict()\n",
    "    oov_rates = []\n",
    "    for path in Path('gen_text_bn/'+ext).rglob('*decoded.txt'):\n",
    "        print(path)\n",
    "        k = path.name.split(\".\")[0]\n",
    "        rnn_vocabs[k] = vocab_generator(Path(path).open('r').read())\n",
    "        # 5.2\n",
    "        print(\"Computing OOV rate: k =\", k.split(\"_\")[1], end = \"\\r\")\n",
    "        oov_rates.append(oov_calculator(train_vocabs+rnn_vocabs[k], test_vocabs))\n",
    "    \n",
    "    # all_rnn_vocabs = list(set([word for item in list(rnn_vocabs.values()) for word in item]))\n",
    "    # 5.1\n",
    "    print(\"Generating OOV on given corpus\")\n",
    "    oov_corpus = oov_calculator(train_vocabs, test_vocabs)\n",
    "    print(\"OOV rate on given corpus: %.3f\" %(oov_corpus))\n",
    "    oov2 = \"OOV rate for each K\"\n",
    "    print(oov2+'\\n')\n",
    "    with open(str('gen_text_bn/'+ext+'/') + '/oov.txt', 'w') as fpw:\n",
    "        fpw.write('OOV rate on given corpus:'+str(oov_corpus)+'\\n')\n",
    "        fpw.write(oov2)\n",
    "        for k, ovr in enumerate(oov_rates):\n",
    "            fpw.write(str(k+1)+':'+'\\t'+str(ovr)+  '\\n')\n",
    "            print(str(k+1)+':'+'\\t'+str(ovr))\n",
    "    \n",
    "    # 5.3\n",
    "    # if error, install \n",
    "    # sudo apt-get install texlive-latex-extra texlive-fonts-recommended dvipng cm-super\n",
    "    xticklabels = []\n",
    "    xaxis = []\n",
    "    for i in range(1,8):\n",
    "        xaxis.append(10**i)\n",
    "        xticklabels.append(('$10^{'  +str(i) + '}$'))\n",
    "    fig, ax = plt.subplots()\n",
    "    plt.plot(xticklabels, oov_rates)\n",
    "    ax.set_xlabel(r'\\textbf{K}')\n",
    "    ax.set_ylabel(r'\\textbf{OOV rate}')\n",
    "    ax.set_title(r'\\textbf{OOV: Bengali corpus}')\n",
    "    plt.savefig(str('gen_text_bn/'+ext+'/') + '/bengali_oov.pdf', bbox_inches='tight')\n",
    "    plt.show()"
   ]
  },
  {
   "cell_type": "markdown",
   "id": "95d9e0a4",
   "metadata": {},
   "source": [
    "## Calling all functions"
   ]
  },
  {
   "cell_type": "code",
   "execution_count": 7,
   "id": "6fdb8c05",
   "metadata": {},
   "outputs": [],
   "source": [
    "out_dir = \"out_dir_bn\"\n",
    "spm_model_dir = \"spm_model\"\n",
    "rnn_model_dir = \"rnn_model\"\n",
    "corpus_fp = \"data/bengali_corpus.txt\"\n",
    "\n",
    "os.makedirs(out_dir, exist_ok=True)\n",
    "os.makedirs(spm_model_dir, exist_ok=True)\n",
    "data_preparation(Path(corpus_fp).open('r').read(), out_dir)"
   ]
  },
  {
   "cell_type": "markdown",
   "id": "3a103051",
   "metadata": {},
   "source": [
    "### 1. Baseline: for 3 levels of granularity\n",
    "    1. LM Model training\n",
    "    2. Text Generation\n",
    "    3. OOV comparison and plotting"
   ]
  },
  {
   "cell_type": "code",
   "execution_count": 8,
   "id": "f4e2a7d6",
   "metadata": {
    "scrolled": false
   },
   "outputs": [
    {
     "name": "stdout",
     "output_type": "stream",
     "text": [
      "******************** Begin LM training: ********************\n",
      "Model saved: rnn_model/rnnlm_bn_s1_vocab_size_52_hid_40_bptt_3_class_52\n",
      "******************** LM training DONE ********************\n",
      "******************** Text generation completed ********************\n",
      "**********  OOV comparison  **********\n",
      "gen_text_bn/bn_s1_vocab_size_52_hid_40_bptt_3_class_52/k_1_decoded.txt\n",
      "gen_text_bn/bn_s1_vocab_size_52_hid_40_bptt_3_class_52/k_2_decoded.txt\n",
      "gen_text_bn/bn_s1_vocab_size_52_hid_40_bptt_3_class_52/k_3_decoded.txt\n",
      "gen_text_bn/bn_s1_vocab_size_52_hid_40_bptt_3_class_52/k_4_decoded.txt\n",
      "gen_text_bn/bn_s1_vocab_size_52_hid_40_bptt_3_class_52/k_5_decoded.txt\n",
      "gen_text_bn/bn_s1_vocab_size_52_hid_40_bptt_3_class_52/k_6_decoded.txt\n",
      "gen_text_bn/bn_s1_vocab_size_52_hid_40_bptt_3_class_52/k_7_decoded.txt\n",
      "Generating OOV on given corpus\n",
      "OOV rate on given corpus: 0.159\n",
      "OOV rate for each K\n",
      "\n",
      "1:\t0.1589550724863844\n",
      "2:\t0.1589550724863844\n",
      "3:\t0.1589550724863844\n",
      "4:\t0.1587209937422949\n",
      "5:\t0.15716046878169818\n",
      "6:\t0.15096518468812908\n",
      "7:\t0.13701409154039418\n"
     ]
    },
    {
     "data": {
      "image/png": "[encoded data removed]",
      "text/plain": [
       "<Figure size 432x288 with 1 Axes>"
      ]
     },
     "metadata": {
      "needs_background": "light"
     },
     "output_type": "display_data"
    },
    {
     "name": "stdout",
     "output_type": "stream",
     "text": [
      "******************** Begin LM training: ********************\n",
      "Model saved: rnn_model/rnnlm_bn_s2_vocab_size_400_hid_40_bptt_3_class_400\n",
      "******************** LM training DONE ********************\n",
      "******************** Text generation completed ********************\n",
      "**********  OOV comparison  **********\n",
      "gen_text_bn/bn_s2_vocab_size_400_hid_40_bptt_3_class_400/k_1_decoded.txt\n",
      "gen_text_bn/bn_s2_vocab_size_400_hid_40_bptt_3_class_400/k_2_decoded.txt\n",
      "gen_text_bn/bn_s2_vocab_size_400_hid_40_bptt_3_class_400/k_3_decoded.txt\n",
      "gen_text_bn/bn_s2_vocab_size_400_hid_40_bptt_3_class_400/k_4_decoded.txt\n",
      "gen_text_bn/bn_s2_vocab_size_400_hid_40_bptt_3_class_400/k_5_decoded.txt\n",
      "gen_text_bn/bn_s2_vocab_size_400_hid_40_bptt_3_class_400/k_6_decoded.txt\n",
      "gen_text_bn/bn_s2_vocab_size_400_hid_40_bptt_3_class_400/k_7_decoded.txt\n",
      "Generating OOV on given corpus\n",
      "OOV rate on given corpus: 0.159\n",
      "OOV rate for each K\n",
      "\n",
      "1:\t0.1589550724863844\n",
      "2:\t0.1589550724863844\n",
      "3:\t0.15889265148796056\n",
      "4:\t0.15864296749426507\n",
      "5:\t0.1560837065588864\n",
      "6:\t0.14522245283313306\n",
      "7:\t0.12613723256503487\n"
     ]
    },
    {
     "data": {
      "image/png": "[encoded data removed]",
      "text/plain": [
       "<Figure size 432x288 with 1 Axes>"
      ]
     },
     "metadata": {
      "needs_background": "light"
     },
     "output_type": "display_data"
    },
    {
     "name": "stdout",
     "output_type": "stream",
     "text": [
      "******************** Begin LM training: ********************\n",
      "Model saved: rnn_model/rnnlm_bn_s3_vocab_size_3000_hid_40_bptt_3_class_3000\n",
      "******************** LM training DONE ********************\n",
      "******************** Text generation completed ********************\n",
      "**********  OOV comparison  **********\n",
      "gen_text_bn/bn_s3_vocab_size_3000_hid_40_bptt_3_class_3000/k_1_decoded.txt\n",
      "gen_text_bn/bn_s3_vocab_size_3000_hid_40_bptt_3_class_3000/k_2_decoded.txt\n",
      "gen_text_bn/bn_s3_vocab_size_3000_hid_40_bptt_3_class_3000/k_3_decoded.txt\n",
      "gen_text_bn/bn_s3_vocab_size_3000_hid_40_bptt_3_class_3000/k_4_decoded.txt\n",
      "gen_text_bn/bn_s3_vocab_size_3000_hid_40_bptt_3_class_3000/k_5_decoded.txt\n",
      "gen_text_bn/bn_s3_vocab_size_3000_hid_40_bptt_3_class_3000/k_6_decoded.txt\n",
      "gen_text_bn/bn_s3_vocab_size_3000_hid_40_bptt_3_class_3000/k_7_decoded.txt\n",
      "Generating OOV on given corpus\n",
      "OOV rate on given corpus: 0.159\n",
      "OOV rate for each K\n",
      "\n",
      "1:\t0.1589550724863844\n",
      "2:\t0.15893946723677846\n",
      "3:\t0.1589082567375665\n",
      "4:\t0.15850252024781136\n",
      "5:\t0.15505376008489255\n",
      "6:\t0.14071253569700848\n",
      "7:\t0.11540082083612928\n"
     ]
    },
    {
     "data": {
      "image/png": "[encoded data removed]",
      "text/plain": [
       "<Figure size 432x288 with 1 Axes>"
      ]
     },
     "metadata": {
      "needs_background": "light"
     },
     "output_type": "display_data"
    }
   ],
   "source": [
    "hid=40\n",
    "bptt=3\n",
    "vocab_sizes = [52, 400, 3000]\n",
    "# vocab_sizes = [201]\n",
    "# class size is kept same as vocab size\n",
    "for prefix, vocab_size in enumerate(vocab_sizes):\n",
    "    class_size = str(vocab_size)\n",
    "    prefix = \"bn_s\" + str(prefix+1) + \"_vocab_size_\" + str(vocab_size)\n",
    "    model_train(vocab_size, prefix, out_dir, spm_model_dir)\n",
    "    lm_train(prefix, class_size, out_dir, rnn_model_dir, hid,bptt)\n",
    "    text_generation(prefix, class_size, out_dir, spm_model_dir, rnn_model_dir, hid,bptt)\n",
    "    oov_comparison(prefix, class_size, out_dir, hid, bptt)"
   ]
  },
  {
   "cell_type": "markdown",
   "id": "78ab514e",
   "metadata": {},
   "source": [
    "#### Baseline perplexities"
   ]
  },
  {
   "cell_type": "code",
   "execution_count": 18,
   "id": "7dcde24c",
   "metadata": {
    "scrolled": false
   },
   "outputs": [
    {
     "name": "stdout",
     "output_type": "stream",
     "text": [
      "iter: 3\r\n",
      "valid log probability: -378749.124294\r\n",
      "PPL net: 10.026335\r\n"
     ]
    }
   ],
   "source": [
    "!tail -3 rnn_model/rnnlm_bn_s1_vocab_size_52_hid_40_bptt_3_class_52.output.txt"
   ]
  },
  {
   "cell_type": "code",
   "execution_count": 19,
   "id": "62b4c778",
   "metadata": {},
   "outputs": [
    {
     "name": "stdout",
     "output_type": "stream",
     "text": [
      "iter: 8\r\n",
      "valid log probability: -302844.264352\r\n",
      "PPL net: 62.794973\r\n"
     ]
    }
   ],
   "source": [
    "!tail -3 rnn_model/rnnlm_bn_s2_vocab_size_400_hid_40_bptt_3_class_400.output.txt"
   ]
  },
  {
   "cell_type": "code",
   "execution_count": 20,
   "id": "8ae7951b",
   "metadata": {},
   "outputs": [
    {
     "name": "stdout",
     "output_type": "stream",
     "text": [
      "iter: 10\r\n",
      "valid log probability: -260422.883086\r\n",
      "PPL net: 376.060040\r\n"
     ]
    }
   ],
   "source": [
    "!tail -3 rnn_model/rnnlm_bn_s3_vocab_size_3000_hid_40_bptt_3_class_3000.output.txt"
   ]
  },
  {
   "cell_type": "markdown",
   "id": "c9e3051e",
   "metadata": {},
   "source": [
    "### 2. Hyper-parameter tuning I: for 3 levels of granularity\n",
    "    1. LM Model training\n",
    "    2. Text Generation\n",
    "    3. OOV comparison and plotting\n",
    "\n",
    "Set hidden layer=90, bptt=4"
   ]
  },
  {
   "cell_type": "code",
   "execution_count": 9,
   "id": "fa42fc9e",
   "metadata": {
    "scrolled": false
   },
   "outputs": [
    {
     "name": "stdout",
     "output_type": "stream",
     "text": [
      "******************** Begin LM training: ********************\n",
      "Model saved: rnn_model/rnnlm_bn_s1_vocab_size_52_hid_90_bptt_4_class_52\n",
      "******************** LM training DONE ********************\n",
      "******************** Text generation completed ********************\n",
      "**********  OOV comparison  **********\n",
      "gen_text_bn/bn_s1_vocab_size_52_hid_90_bptt_4_class_52/k_1_decoded.txt\n",
      "gen_text_bn/bn_s1_vocab_size_52_hid_90_bptt_4_class_52/k_2_decoded.txt\n",
      "gen_text_bn/bn_s1_vocab_size_52_hid_90_bptt_4_class_52/k_3_decoded.txt\n",
      "gen_text_bn/bn_s1_vocab_size_52_hid_90_bptt_4_class_52/k_4_decoded.txt\n",
      "gen_text_bn/bn_s1_vocab_size_52_hid_90_bptt_4_class_52/k_5_decoded.txt\n",
      "gen_text_bn/bn_s1_vocab_size_52_hid_90_bptt_4_class_52/k_6_decoded.txt\n",
      "gen_text_bn/bn_s1_vocab_size_52_hid_90_bptt_4_class_52/k_7_decoded.txt\n",
      "Generating OOV on given corpus\n",
      "OOV rate on given corpus: 0.159\n",
      "OOV rate for each K\n",
      "\n",
      "1:\t0.1589550724863844\n",
      "2:\t0.1589550724863844\n",
      "3:\t0.1588614409887486\n",
      "4:\t0.1587209937422949\n",
      "5:\t0.1571916792809101\n",
      "6:\t0.15013810645901282\n",
      "7:\t0.1329255161436307\n"
     ]
    },
    {
     "data": {
      "image/png": "[encoded data removed]",
      "text/plain": [
       "<Figure size 432x288 with 1 Axes>"
      ]
     },
     "metadata": {
      "needs_background": "light"
     },
     "output_type": "display_data"
    },
    {
     "name": "stdout",
     "output_type": "stream",
     "text": [
      "******************** Begin LM training: ********************\n",
      "Model saved: rnn_model/rnnlm_bn_s2_vocab_size_400_hid_90_bptt_4_class_400\n",
      "******************** LM training DONE ********************\n",
      "******************** Text generation completed ********************\n",
      "**********  OOV comparison  **********\n",
      "gen_text_bn/bn_s2_vocab_size_400_hid_90_bptt_4_class_400/k_1_decoded.txt\n",
      "gen_text_bn/bn_s2_vocab_size_400_hid_90_bptt_4_class_400/k_2_decoded.txt\n",
      "gen_text_bn/bn_s2_vocab_size_400_hid_90_bptt_4_class_400/k_3_decoded.txt\n",
      "gen_text_bn/bn_s2_vocab_size_400_hid_90_bptt_4_class_400/k_4_decoded.txt\n",
      "gen_text_bn/bn_s2_vocab_size_400_hid_90_bptt_4_class_400/k_5_decoded.txt\n",
      "gen_text_bn/bn_s2_vocab_size_400_hid_90_bptt_4_class_400/k_6_decoded.txt\n",
      "gen_text_bn/bn_s2_vocab_size_400_hid_90_bptt_4_class_400/k_7_decoded.txt\n",
      "Generating OOV on given corpus\n",
      "OOV rate on given corpus: 0.159\n",
      "OOV rate for each K\n",
      "\n",
      "1:\t0.1589550724863844\n",
      "2:\t0.1589550724863844\n",
      "3:\t0.15893946723677846\n",
      "4:\t0.15861175699505314\n",
      "5:\t0.15581841731558496\n",
      "6:\t0.14455142710007646\n",
      "7:\t0.12240757790920866\n"
     ]
    },
    {
     "data": {
      "image/png": "[encoded data removed]",
      "text/plain": [
       "<Figure size 432x288 with 1 Axes>"
      ]
     },
     "metadata": {
      "needs_background": "light"
     },
     "output_type": "display_data"
    },
    {
     "name": "stdout",
     "output_type": "stream",
     "text": [
      "******************** Begin LM training: ********************\n",
      "Model saved: rnn_model/rnnlm_bn_s3_vocab_size_3000_hid_90_bptt_4_class_3000\n",
      "******************** LM training DONE ********************\n",
      "******************** Text generation completed ********************\n",
      "**********  OOV comparison  **********\n",
      "gen_text_bn/bn_s3_vocab_size_3000_hid_90_bptt_4_class_3000/k_1_decoded.txt\n",
      "gen_text_bn/bn_s3_vocab_size_3000_hid_90_bptt_4_class_3000/k_2_decoded.txt\n",
      "gen_text_bn/bn_s3_vocab_size_3000_hid_90_bptt_4_class_3000/k_3_decoded.txt\n",
      "gen_text_bn/bn_s3_vocab_size_3000_hid_90_bptt_4_class_3000/k_4_decoded.txt\n",
      "gen_text_bn/bn_s3_vocab_size_3000_hid_90_bptt_4_class_3000/k_5_decoded.txt\n",
      "gen_text_bn/bn_s3_vocab_size_3000_hid_90_bptt_4_class_3000/k_6_decoded.txt\n",
      "gen_text_bn/bn_s3_vocab_size_3000_hid_90_bptt_4_class_3000/k_7_decoded.txt\n",
      "Generating OOV on given corpus\n",
      "OOV rate on given corpus: 0.159\n",
      "OOV rate for each K\n",
      "\n",
      "1:\t0.1589550724863844\n",
      "2:\t0.1589550724863844\n",
      "3:\t0.1589550724863844\n",
      "4:\t0.15842449399978153\n",
      "5:\t0.1549445233376508\n",
      "6:\t0.13966698397340865\n",
      "7:\t0.11348137513459527\n"
     ]
    },
    {
     "data": {
      "image/png": "[encoded data removed]",
      "text/plain": [
       "<Figure size 432x288 with 1 Axes>"
      ]
     },
     "metadata": {
      "needs_background": "light"
     },
     "output_type": "display_data"
    }
   ],
   "source": [
    "hid=90\n",
    "bptt=4\n",
    "vocab_sizes = [52, 400, 3000]\n",
    "# vocab_sizes = [201]\n",
    "# class size is kept same as vocab size\n",
    "for prefix, vocab_size in enumerate(vocab_sizes):\n",
    "    class_size = str(vocab_size)\n",
    "    prefix = \"bn_s\" + str(prefix+1) + \"_vocab_size_\" + str(vocab_size)\n",
    "    model_train(vocab_size, prefix, out_dir, spm_model_dir)\n",
    "    lm_train(prefix, class_size, out_dir, rnn_model_dir, hid,bptt)\n",
    "    text_generation(prefix, class_size, out_dir, spm_model_dir, rnn_model_dir, hid,bptt)\n",
    "    oov_comparison(prefix, class_size, out_dir, hid, bptt)"
   ]
  },
  {
   "cell_type": "markdown",
   "id": "9e344930",
   "metadata": {},
   "source": [
    "#### Hyper-parameter tuning I: perplexities"
   ]
  },
  {
   "cell_type": "code",
   "execution_count": 21,
   "id": "bf1ef4fa",
   "metadata": {
    "scrolled": true
   },
   "outputs": [
    {
     "name": "stdout",
     "output_type": "stream",
     "text": [
      "iter: 5\r\n",
      "valid log probability: -343786.851127\r\n",
      "PPL net: 8.104513\r\n"
     ]
    }
   ],
   "source": [
    "!tail -3 rnn_model/rnnlm_bn_s1_vocab_size_52_hid_90_bptt_4_class_52.output.txt"
   ]
  },
  {
   "cell_type": "code",
   "execution_count": 29,
   "id": "b9f66c8b",
   "metadata": {
    "scrolled": true
   },
   "outputs": [
    {
     "name": "stdout",
     "output_type": "stream",
     "text": [
      "iter: 10\r\n",
      "valid log probability: -288352.547215\r\n",
      "PPL net: 51.509875\r\n"
     ]
    }
   ],
   "source": [
    "!tail -3 rnn_model/rnnlm_bn_s2_vocab_size_400_hid_90_bptt_4_class_400.output.txt"
   ]
  },
  {
   "cell_type": "code",
   "execution_count": 30,
   "id": "6854690a",
   "metadata": {
    "scrolled": true
   },
   "outputs": [
    {
     "name": "stdout",
     "output_type": "stream",
     "text": [
      "iter: 10\r\n",
      "valid log probability: -259358.858372\r\n",
      "PPL net: 367.058522\r\n"
     ]
    }
   ],
   "source": [
    "!tail -3 rnn_model/rnnlm_bn_s3_vocab_size_3000_hid_90_bptt_4_class_3000.output.txt"
   ]
  },
  {
   "cell_type": "markdown",
   "id": "446391e1",
   "metadata": {},
   "source": [
    "### 3. Hyper-parameter tuning II: for 3 levels of granularity\n",
    "    1. LM Model training\n",
    "    2. Text Generation\n",
    "    3. OOV comparison and plotting\n",
    "\n",
    "Set hidden layer=120, bptt=3"
   ]
  },
  {
   "cell_type": "code",
   "execution_count": 24,
   "id": "602eb98c",
   "metadata": {
    "scrolled": false
   },
   "outputs": [
    {
     "name": "stdout",
     "output_type": "stream",
     "text": [
      "******************** Begin LM training: ********************\n",
      "Model saved: rnn_model/rnnlm_bn_s1_vocab_size_52_hid_120_bptt_4_class_52\n",
      "******************** LM training DONE ********************\n",
      "******************** Text generation completed ********************\n",
      "**********  OOV comparison  **********\n",
      "gen_text_bn/bn_s1_vocab_size_52_hid_120_bptt_4_class_52/k_1_decoded.txt\n",
      "gen_text_bn/bn_s1_vocab_size_52_hid_120_bptt_4_class_52/k_2_decoded.txt\n",
      "gen_text_bn/bn_s1_vocab_size_52_hid_120_bptt_4_class_52/k_3_decoded.txt\n",
      "gen_text_bn/bn_s1_vocab_size_52_hid_120_bptt_4_class_52/k_4_decoded.txt\n",
      "gen_text_bn/bn_s1_vocab_size_52_hid_120_bptt_4_class_52/k_5_decoded.txt\n",
      "gen_text_bn/bn_s1_vocab_size_52_hid_120_bptt_4_class_52/k_6_decoded.txt\n",
      "gen_text_bn/bn_s1_vocab_size_52_hid_120_bptt_4_class_52/k_7_decoded.txt\n",
      "Generating OOV on given corpus\n",
      "OOV rate on given corpus: 0.159\n",
      "OOV rate for each K\n",
      "\n",
      "1:\t0.1589550724863844\n",
      "2:\t0.1589550724863844\n",
      "3:\t0.1589550724863844\n",
      "4:\t0.1587209937422949\n",
      "5:\t0.15717607403130412\n",
      "6:\t0.149576317473198\n",
      "7:\t0.13119333343736833\n"
     ]
    },
    {
     "data": {
      "image/png": "[encoded data removed]",
      "text/plain": [
       "<Figure size 432x288 with 1 Axes>"
      ]
     },
     "metadata": {
      "needs_background": "light"
     },
     "output_type": "display_data"
    },
    {
     "name": "stdout",
     "output_type": "stream",
     "text": [
      "******************** Begin LM training: ********************\n",
      "Model saved: rnn_model/rnnlm_bn_s2_vocab_size_400_hid_120_bptt_4_class_400\n",
      "******************** LM training DONE ********************\n",
      "******************** Text generation completed ********************\n",
      "**********  OOV comparison  **********\n",
      "gen_text_bn/bn_s2_vocab_size_400_hid_120_bptt_4_class_400/k_1_decoded.txt\n",
      "gen_text_bn/bn_s2_vocab_size_400_hid_120_bptt_4_class_400/k_2_decoded.txt\n",
      "gen_text_bn/bn_s2_vocab_size_400_hid_120_bptt_4_class_400/k_3_decoded.txt\n",
      "gen_text_bn/bn_s2_vocab_size_400_hid_120_bptt_4_class_400/k_4_decoded.txt\n",
      "gen_text_bn/bn_s2_vocab_size_400_hid_120_bptt_4_class_400/k_5_decoded.txt\n",
      "gen_text_bn/bn_s2_vocab_size_400_hid_120_bptt_4_class_400/k_6_decoded.txt\n",
      "gen_text_bn/bn_s2_vocab_size_400_hid_120_bptt_4_class_400/k_7_decoded.txt\n",
      "Generating OOV on given corpus\n",
      "OOV rate on given corpus: 0.159\n",
      "OOV rate for each K\n",
      "\n",
      "1:\t0.1589550724863844\n",
      "2:\t0.1589550724863844\n",
      "3:\t0.1589550724863844\n",
      "4:\t0.15850252024781136\n",
      "5:\t0.15597446981164464\n",
      "6:\t0.14422371685835114\n",
      "7:\t0.12162731542891028\n"
     ]
    },
    {
     "data": {
      "image/png": "[encoded data removed]",
      "text/plain": [
       "<Figure size 432x288 with 1 Axes>"
      ]
     },
     "metadata": {
      "needs_background": "light"
     },
     "output_type": "display_data"
    },
    {
     "name": "stdout",
     "output_type": "stream",
     "text": [
      "******************** Begin LM training: ********************\n",
      "Model saved: rnn_model/rnnlm_bn_s3_vocab_size_3000_hid_120_bptt_4_class_3000\n",
      "******************** LM training DONE ********************\n",
      "******************** Text generation completed ********************\n",
      "**********  OOV comparison  **********\n",
      "gen_text_bn/bn_s3_vocab_size_3000_hid_120_bptt_4_class_3000/k_1_decoded.txt\n",
      "gen_text_bn/bn_s3_vocab_size_3000_hid_120_bptt_4_class_3000/k_2_decoded.txt\n",
      "gen_text_bn/bn_s3_vocab_size_3000_hid_120_bptt_4_class_3000/k_3_decoded.txt\n",
      "gen_text_bn/bn_s3_vocab_size_3000_hid_120_bptt_4_class_3000/k_4_decoded.txt\n",
      "gen_text_bn/bn_s3_vocab_size_3000_hid_120_bptt_4_class_3000/k_5_decoded.txt\n",
      "gen_text_bn/bn_s3_vocab_size_3000_hid_120_bptt_4_class_3000/k_6_decoded.txt\n",
      "gen_text_bn/bn_s3_vocab_size_3000_hid_120_bptt_4_class_3000/k_7_decoded.txt\n",
      "Generating OOV on given corpus\n",
      "OOV rate on given corpus: 0.159\n",
      "OOV rate for each K\n",
      "\n",
      "1:\t0.1589550724863844\n",
      "2:\t0.1589550724863844\n",
      "3:\t0.1589550724863844\n",
      "4:\t0.1585337307470233\n",
      "5:\t0.1551786020817403\n",
      "6:\t0.1398854574678922\n",
      "7:\t0.114573742607013\n"
     ]
    },
    {
     "data": {
      "image/png": "[encoded data removed]",
      "text/plain": [
       "<Figure size 432x288 with 1 Axes>"
      ]
     },
     "metadata": {
      "needs_background": "light"
     },
     "output_type": "display_data"
    }
   ],
   "source": [
    "hid=120\n",
    "bptt=4\n",
    "vocab_sizes = [52, 400, 3000]\n",
    "# class size is kept same as vocab size\n",
    "for prefix, vocab_size in enumerate(vocab_sizes):\n",
    "    class_size = str(vocab_size)\n",
    "    prefix = \"bn_s\" + str(prefix+1) + \"_vocab_size_\" + str(vocab_size)\n",
    "    model_train(vocab_size, prefix, out_dir, spm_model_dir)\n",
    "    lm_train(prefix, class_size, out_dir, rnn_model_dir, hid,bptt)\n",
    "    text_generation(prefix, class_size, out_dir, spm_model_dir, rnn_model_dir, hid,bptt)\n",
    "    oov_comparison(prefix, class_size, out_dir, hid, bptt)"
   ]
  },
  {
   "cell_type": "markdown",
   "id": "0909f850",
   "metadata": {},
   "source": [
    "#### Hyper-parameter tuning II: perplexities"
   ]
  },
  {
   "cell_type": "code",
   "execution_count": 26,
   "id": "49ee2aeb",
   "metadata": {},
   "outputs": [
    {
     "name": "stdout",
     "output_type": "stream",
     "text": [
      "iter: 8\r\n",
      "valid log probability: -326863.548095\r\n",
      "PPL net: 7.311287\r\n"
     ]
    }
   ],
   "source": [
    "!tail -3 rnn_model/rnnlm_bn_s1_vocab_size_52_hid_120_bptt_4_class_52.output.txt"
   ]
  },
  {
   "cell_type": "code",
   "execution_count": 32,
   "id": "b102bb9d",
   "metadata": {},
   "outputs": [
    {
     "name": "stdout",
     "output_type": "stream",
     "text": [
      "iter: 11\r\n",
      "valid log probability: -284909.382886\r\n",
      "PPL net: 49.141582\r\n"
     ]
    }
   ],
   "source": [
    "!tail -3 rnn_model/rnnlm_bn_s2_vocab_size_400_hid_120_bptt_4_class_400.output.txt"
   ]
  },
  {
   "cell_type": "code",
   "execution_count": 31,
   "id": "3cc87480",
   "metadata": {},
   "outputs": [
    {
     "name": "stdout",
     "output_type": "stream",
     "text": [
      "iter: 11\r\n",
      "valid log probability: -259191.813757\r\n",
      "PPL net: 365.665047\r\n"
     ]
    }
   ],
   "source": [
    "!tail -3 rnn_model/rnnlm_bn_s3_vocab_size_3000_hid_120_bptt_4_class_3000.output.txt"
   ]
  }
 ],
 "metadata": {
  "kernelspec": {
   "display_name": "Python 3",
   "language": "python",
   "name": "python3"
  },
  "language_info": {
   "codemirror_mode": {
    "name": "ipython",
    "version": 3
   },
   "file_extension": ".py",
   "mimetype": "text/x-python",
   "name": "python",
   "nbconvert_exporter": "python",
   "pygments_lexer": "ipython3",
   "version": "3.8.5"
  }
 },
 "nbformat": 4,
 "nbformat_minor": 5
}
